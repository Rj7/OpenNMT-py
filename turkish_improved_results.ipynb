{
 "cells": [
  {
   "cell_type": "markdown",
   "metadata": {},
   "source": [
    "## Results\n",
    ">> BLEU = 16.16, 52.6/23.2/11.7/6.1 (BP=0.940, ratio=0.941, hyp_len=30131, ref_len=32011)\n",
    ">> BLEU = 17.12, 52.4/23.4/12.2/6.7 (BP=0.962, ratio=0.962, hyp_len=23750, ref_len=24676)\n",
    ">> BLEU = 17.27, 53.4/24.3/12.9/6.9 (BP=0.936, ratio=0.938, hyp_len=28737, ref_len=30644)"
   ]
  },
  {
   "cell_type": "code",
   "execution_count": 2,
   "metadata": {},
   "outputs": [
    {
     "name": "stdout",
     "output_type": "stream",
     "text": [
      "Loading model parameters.\n"
     ]
    },
    {
     "name": "stderr",
     "output_type": "stream",
     "text": [
      "/home/raja/OpenNMT-py/onmt/modules/GlobalAttention.py:177: UserWarning: Implicit dimension choice for softmax has been deprecated. Change the call to include dim=X as an argument.\n",
      "  align_vectors = self.sm(align.view(batch*targetL, sourceL))\n",
      "/home/raja/anaconda3/envs/opennmt/lib/python3.6/site-packages/torch/nn/modules/container.py:67: UserWarning: Implicit dimension choice for log_softmax has been deprecated. Change the call to include dim=X as an argument.\n",
      "  input = module(input)\n",
      "/home/raja/anaconda3/envs/opennmt/lib/python3.6/site-packages/torch/tensor.py:297: UserWarning: other is not broadcastable to self, but they have the same number of elements.  Falling back to deprecated pointwise behavior.\n",
      "  return self.add_(other)\n",
      "/home/raja/OpenNMT-py/translate.py:104: DeprecationWarning: generator 'Iterator.__iter__' raised StopIteration\n",
      "  for batch in data_iter:\n"
     ]
    },
    {
     "name": "stdout",
     "output_type": "stream",
     "text": [
      "PRED AVG SCORE: -0.8351, PRED PPL: 2.3049\n",
      "GOLD AVG SCORE: -2.9223, GOLD PPL: 18.5837\n",
      "\n",
      ">> BLEU = 16.16, 52.6/23.2/11.7/6.1 (BP=0.940, ratio=0.941, hyp_len=30131, ref_len=32011)\n"
     ]
    }
   ],
   "source": [
    "%run ./translate.py -model turkish_models/iwslt_tr_en_emb_fix_50k_acc_50.59_ppl_15.44_e20.pt -src ../IWSLT_tr/tmp/IWSLT14.TED.tst2010.tr-en.tr -tgt ../IWSLT_tr/tmp/IWSLT14.TED.tst2010.tr-en.en -output turkish_ouputs/2010_iwslt_tr_en_emb_fix_50k_acc_50.59_ppl_15.44_e20.pt.txt -replace_unk -report_bleu -gpu 0"
   ]
  },
  {
   "cell_type": "code",
   "execution_count": 3,
   "metadata": {},
   "outputs": [
    {
     "name": "stdout",
     "output_type": "stream",
     "text": [
      "Loading model parameters.\n"
     ]
    },
    {
     "name": "stderr",
     "output_type": "stream",
     "text": [
      "/home/raja/OpenNMT-py/onmt/modules/GlobalAttention.py:177: UserWarning: Implicit dimension choice for softmax has been deprecated. Change the call to include dim=X as an argument.\n",
      "  align_vectors = self.sm(align.view(batch*targetL, sourceL))\n",
      "/home/raja/anaconda3/envs/opennmt/lib/python3.6/site-packages/torch/nn/modules/container.py:67: UserWarning: Implicit dimension choice for log_softmax has been deprecated. Change the call to include dim=X as an argument.\n",
      "  input = module(input)\n",
      "/home/raja/anaconda3/envs/opennmt/lib/python3.6/site-packages/torch/tensor.py:297: UserWarning: other is not broadcastable to self, but they have the same number of elements.  Falling back to deprecated pointwise behavior.\n",
      "  return self.add_(other)\n",
      "/home/raja/OpenNMT-py/translate.py:104: DeprecationWarning: generator 'Iterator.__iter__' raised StopIteration\n",
      "  for batch in data_iter:\n"
     ]
    },
    {
     "name": "stdout",
     "output_type": "stream",
     "text": [
      "PRED AVG SCORE: -0.8241, PRED PPL: 2.2798\n",
      "GOLD AVG SCORE: -2.9673, GOLD PPL: 19.4388\n",
      "\n",
      ">> BLEU = 17.12, 52.4/23.4/12.2/6.7 (BP=0.962, ratio=0.962, hyp_len=23750, ref_len=24676)\n"
     ]
    }
   ],
   "source": [
    "%run ./translate.py -model turkish_models/iwslt_tr_en_emb_fix_50k_acc_50.59_ppl_15.44_e20.pt -src ../IWSLT_tr/tmp/IWSLT14.TED.tst2011.tr-en.tr -tgt ../IWSLT_tr/tmp/IWSLT14.TED.tst2011.tr-en.en -output turkish_ouputs/2011_iwslt_tr_en_emb_fix_50k_acc_50.59_ppl_15.44_e20.pt.txt -replace_unk -report_bleu -gpu 0"
   ]
  },
  {
   "cell_type": "code",
   "execution_count": 4,
   "metadata": {},
   "outputs": [
    {
     "name": "stdout",
     "output_type": "stream",
     "text": [
      "Loading model parameters.\n"
     ]
    },
    {
     "name": "stderr",
     "output_type": "stream",
     "text": [
      "/home/raja/OpenNMT-py/onmt/modules/GlobalAttention.py:177: UserWarning: Implicit dimension choice for softmax has been deprecated. Change the call to include dim=X as an argument.\n",
      "  align_vectors = self.sm(align.view(batch*targetL, sourceL))\n",
      "/home/raja/anaconda3/envs/opennmt/lib/python3.6/site-packages/torch/nn/modules/container.py:67: UserWarning: Implicit dimension choice for log_softmax has been deprecated. Change the call to include dim=X as an argument.\n",
      "  input = module(input)\n",
      "/home/raja/anaconda3/envs/opennmt/lib/python3.6/site-packages/torch/tensor.py:297: UserWarning: other is not broadcastable to self, but they have the same number of elements.  Falling back to deprecated pointwise behavior.\n",
      "  return self.add_(other)\n",
      "/home/raja/OpenNMT-py/translate.py:104: DeprecationWarning: generator 'Iterator.__iter__' raised StopIteration\n",
      "  for batch in data_iter:\n"
     ]
    },
    {
     "name": "stdout",
     "output_type": "stream",
     "text": [
      "PRED AVG SCORE: -0.8213, PRED PPL: 2.2735\n",
      "GOLD AVG SCORE: -2.9360, GOLD PPL: 18.8405\n",
      "\n",
      ">> BLEU = 17.27, 53.4/24.3/12.9/6.9 (BP=0.936, ratio=0.938, hyp_len=28737, ref_len=30644)\n"
     ]
    }
   ],
   "source": [
    "%run ./translate.py -model turkish_models/iwslt_tr_en_emb_fix_50k_acc_50.59_ppl_15.44_e20.pt -src ../IWSLT_tr/tmp/IWSLT14.TED.tst2012.tr-en.tr -tgt ../IWSLT_tr/tmp/IWSLT14.TED.tst2012.tr-en.en -output turkish_ouputs/2012_iwslt_tr_en_emb_fix_50k_acc_50.59_ppl_15.44_e20.pt.txt -replace_unk -report_bleu -gpu 0"
   ]
  },
  {
   "cell_type": "code",
   "execution_count": 6,
   "metadata": {},
   "outputs": [
    {
     "name": "stdout",
     "output_type": "stream",
     "text": [
      "Loading model parameters.\n"
     ]
    },
    {
     "name": "stderr",
     "output_type": "stream",
     "text": [
      "/home/raja/OpenNMT-py/onmt/modules/GlobalAttention.py:177: UserWarning: Implicit dimension choice for softmax has been deprecated. Change the call to include dim=X as an argument.\n",
      "  align_vectors = self.sm(align.view(batch*targetL, sourceL))\n",
      "/home/raja/anaconda3/envs/opennmt/lib/python3.6/site-packages/torch/nn/modules/container.py:67: UserWarning: Implicit dimension choice for log_softmax has been deprecated. Change the call to include dim=X as an argument.\n",
      "  input = module(input)\n",
      "/home/raja/anaconda3/envs/opennmt/lib/python3.6/site-packages/torch/tensor.py:297: UserWarning: other is not broadcastable to self, but they have the same number of elements.  Falling back to deprecated pointwise behavior.\n",
      "  return self.add_(other)\n",
      "/home/raja/OpenNMT-py/translate.py:104: DeprecationWarning: generator 'Iterator.__iter__' raised StopIteration\n",
      "  for batch in data_iter:\n"
     ]
    },
    {
     "name": "stdout",
     "output_type": "stream",
     "text": [
      "PRED AVG SCORE: -0.7564, PRED PPL: 2.1305\n",
      "GOLD AVG SCORE: -2.8097, GOLD PPL: 16.6048\n",
      "\n",
      ">> BLEU = 17.20, 55.5/25.4/13.1/7.0 (BP=0.908, ratio=0.912, hyp_len=29204, ref_len=32011)\n"
     ]
    }
   ],
   "source": [
    "%run ./translate.py -model turkish_models/expanded_50002,166255_fix_emb.pt -src ../IWSLT_tr/tmp/IWSLT14.TED.tst2010.tr-en.tr -tgt ../IWSLT_tr/tmp/IWSLT14.TED.tst2010.tr-en.en -output turkish_ouputs/2010_expanded -replace_unk -report_bleu -gpu 0"
   ]
  },
  {
   "cell_type": "code",
   "execution_count": 7,
   "metadata": {},
   "outputs": [
    {
     "name": "stdout",
     "output_type": "stream",
     "text": [
      "Loading model parameters.\n"
     ]
    },
    {
     "name": "stderr",
     "output_type": "stream",
     "text": [
      "/home/raja/OpenNMT-py/onmt/modules/GlobalAttention.py:177: UserWarning: Implicit dimension choice for softmax has been deprecated. Change the call to include dim=X as an argument.\n",
      "  align_vectors = self.sm(align.view(batch*targetL, sourceL))\n",
      "/home/raja/anaconda3/envs/opennmt/lib/python3.6/site-packages/torch/nn/modules/container.py:67: UserWarning: Implicit dimension choice for log_softmax has been deprecated. Change the call to include dim=X as an argument.\n",
      "  input = module(input)\n",
      "/home/raja/anaconda3/envs/opennmt/lib/python3.6/site-packages/torch/tensor.py:297: UserWarning: other is not broadcastable to self, but they have the same number of elements.  Falling back to deprecated pointwise behavior.\n",
      "  return self.add_(other)\n",
      "/home/raja/OpenNMT-py/translate.py:104: DeprecationWarning: generator 'Iterator.__iter__' raised StopIteration\n",
      "  for batch in data_iter:\n"
     ]
    },
    {
     "name": "stdout",
     "output_type": "stream",
     "text": [
      "PRED AVG SCORE: -0.7477, PRED PPL: 2.1122\n",
      "GOLD AVG SCORE: -2.8363, GOLD PPL: 17.0524\n",
      "\n",
      ">> BLEU = 18.32, 55.6/25.8/13.8/7.8 (BP=0.925, ratio=0.928, hyp_len=22899, ref_len=24676)\n"
     ]
    }
   ],
   "source": [
    "%run ./translate.py -model turkish_models/expanded_50002,166255_fix_emb.pt -src ../IWSLT_tr/tmp/IWSLT14.TED.tst2011.tr-en.tr -tgt ../IWSLT_tr/tmp/IWSLT14.TED.tst2011.tr-en.en -output turkish_ouputs/2011_expanded -replace_unk -report_bleu -gpu 0"
   ]
  },
  {
   "cell_type": "code",
   "execution_count": 8,
   "metadata": {},
   "outputs": [
    {
     "name": "stdout",
     "output_type": "stream",
     "text": [
      "Loading model parameters.\n"
     ]
    },
    {
     "name": "stderr",
     "output_type": "stream",
     "text": [
      "/home/raja/OpenNMT-py/onmt/modules/GlobalAttention.py:177: UserWarning: Implicit dimension choice for softmax has been deprecated. Change the call to include dim=X as an argument.\n",
      "  align_vectors = self.sm(align.view(batch*targetL, sourceL))\n",
      "/home/raja/anaconda3/envs/opennmt/lib/python3.6/site-packages/torch/nn/modules/container.py:67: UserWarning: Implicit dimension choice for log_softmax has been deprecated. Change the call to include dim=X as an argument.\n",
      "  input = module(input)\n",
      "/home/raja/anaconda3/envs/opennmt/lib/python3.6/site-packages/torch/tensor.py:297: UserWarning: other is not broadcastable to self, but they have the same number of elements.  Falling back to deprecated pointwise behavior.\n",
      "  return self.add_(other)\n",
      "/home/raja/OpenNMT-py/translate.py:104: DeprecationWarning: generator 'Iterator.__iter__' raised StopIteration\n",
      "  for batch in data_iter:\n"
     ]
    },
    {
     "name": "stdout",
     "output_type": "stream",
     "text": [
      "PRED AVG SCORE: -0.7411, PRED PPL: 2.0982\n",
      "GOLD AVG SCORE: -2.8067, GOLD PPL: 16.5549\n",
      "\n",
      ">> BLEU = 18.39, 56.7/26.6/14.3/8.0 (BP=0.901, ratio=0.905, hyp_len=27747, ref_len=30644)\n"
     ]
    }
   ],
   "source": [
    "%run ./translate.py -model turkish_models/expanded_50002,166255_fix_emb.pt -src ../IWSLT_tr/tmp/IWSLT14.TED.tst2012.tr-en.tr -tgt ../IWSLT_tr/tmp/IWSLT14.TED.tst2012.tr-en.en -output turkish_ouputs/2012_expanded -replace_unk -report_bleu -gpu 0"
   ]
  },
  {
   "cell_type": "code",
   "execution_count": null,
   "metadata": {},
   "outputs": [],
   "source": []
  }
 ],
 "metadata": {
  "kernelspec": {
   "display_name": "Python 3",
   "language": "python",
   "name": "python3"
  },
  "language_info": {
   "codemirror_mode": {
    "name": "ipython",
    "version": 3
   },
   "file_extension": ".py",
   "mimetype": "text/x-python",
   "name": "python",
   "nbconvert_exporter": "python",
   "pygments_lexer": "ipython3",
   "version": "3.6.4"
  }
 },
 "nbformat": 4,
 "nbformat_minor": 2
}
