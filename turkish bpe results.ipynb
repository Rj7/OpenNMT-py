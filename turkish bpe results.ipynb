{
 "cells": [
  {
   "cell_type": "code",
   "execution_count": 1,
   "metadata": {},
   "outputs": [
    {
     "name": "stdout",
     "output_type": "stream",
     "text": [
      "Loading model parameters.\n",
      "average src size 14.839923469387756 1568\n"
     ]
    },
    {
     "name": "stderr",
     "output_type": "stream",
     "text": [
      "/home/raja/OpenNMT-py/onmt/modules/GlobalAttention.py:176: UserWarning: Implicit dimension choice for softmax has been deprecated. Change the call to include dim=X as an argument.\n",
      "  align_vectors = self.sm(align.view(batch*targetL, sourceL))\n",
      "/home/raja/anaconda3/envs/opennmt/lib/python3.6/site-packages/torch/nn/modules/container.py:67: UserWarning: Implicit dimension choice for log_softmax has been deprecated. Change the call to include dim=X as an argument.\n",
      "  input = module(input)\n",
      "/home/raja/anaconda3/envs/opennmt/lib/python3.6/site-packages/torch/tensor.py:297: UserWarning: other is not broadcastable to self, but they have the same number of elements.  Falling back to deprecated pointwise behavior.\n",
      "  return self.add_(other)\n",
      "/home/raja/OpenNMT-py/translate.py:115: DeprecationWarning: generator 'Iterator.__iter__' raised StopIteration\n",
      "  for batch in data_iter:\n"
     ]
    },
    {
     "name": "stdout",
     "output_type": "stream",
     "text": [
      "PRED AVG SCORE: -1.1201, PRED PPL: 3.0653\n",
      "GOLD AVG SCORE: -4.3283, GOLD PPL: 75.8161\n",
      "\n",
      ">> BLEU = 7.08, 38.5/11.8/4.6/2.0 (BP=0.879, ratio=0.886, hyp_len=28346, ref_len=32011)\n"
     ]
    }
   ],
   "source": [
    "%run ./translate.py -model turkish_models/iwslt_setimes_tr_en_50k_bpe_default_acc_64.96_ppl_5.61_e13.pt -src ../IWSLT_tr/tmp/IWSLT14.TED.tst2010.tr-en.tr -tgt ../IWSLT_tr/tmp/IWSLT14.TED.tst2010.tr-en.en -output turkish_outputs/iwslt_setimes_tr_en_50k_bpe_default_acc_64.96_ppl_5.61_e13.pt.txt -replace_unk -report_bleu -gpu 0"
   ]
  },
  {
   "cell_type": "code",
   "execution_count": 2,
   "metadata": {},
   "outputs": [
    {
     "name": "stdout",
     "output_type": "stream",
     "text": [
      "Loading model parameters.\n",
      "average src size 14.03582554517134 1284\n"
     ]
    },
    {
     "name": "stderr",
     "output_type": "stream",
     "text": [
      "/home/raja/OpenNMT-py/onmt/modules/GlobalAttention.py:176: UserWarning: Implicit dimension choice for softmax has been deprecated. Change the call to include dim=X as an argument.\n",
      "  align_vectors = self.sm(align.view(batch*targetL, sourceL))\n",
      "/home/raja/anaconda3/envs/opennmt/lib/python3.6/site-packages/torch/nn/modules/container.py:67: UserWarning: Implicit dimension choice for log_softmax has been deprecated. Change the call to include dim=X as an argument.\n",
      "  input = module(input)\n",
      "/home/raja/anaconda3/envs/opennmt/lib/python3.6/site-packages/torch/tensor.py:297: UserWarning: other is not broadcastable to self, but they have the same number of elements.  Falling back to deprecated pointwise behavior.\n",
      "  return self.add_(other)\n",
      "/home/raja/OpenNMT-py/translate.py:115: DeprecationWarning: generator 'Iterator.__iter__' raised StopIteration\n",
      "  for batch in data_iter:\n"
     ]
    },
    {
     "name": "stdout",
     "output_type": "stream",
     "text": [
      "PRED AVG SCORE: -1.1191, PRED PPL: 3.0620\n",
      "GOLD AVG SCORE: -4.3635, GOLD PPL: 78.5329\n",
      "\n",
      ">> BLEU = 7.30, 37.9/11.4/4.8/2.2 (BP=0.890, ratio=0.895, hyp_len=22091, ref_len=24676)\n"
     ]
    }
   ],
   "source": [
    "%run ./translate.py -model turkish_models/iwslt_setimes_tr_en_50k_bpe_default_acc_64.96_ppl_5.61_e13.pt -src ../IWSLT_tr/tmp/IWSLT14.TED.tst2011.tr-en.tr -tgt ../IWSLT_tr/tmp/IWSLT14.TED.tst2011.tr-en.en -output turkish_outputs/2011_iwslt_setimes_tr_en_50k_bpe_default_acc_64.96_ppl_5.61_e13.pt.txt -replace_unk -report_bleu -gpu 0"
   ]
  },
  {
   "cell_type": "code",
   "execution_count": 3,
   "metadata": {},
   "outputs": [
    {
     "name": "stdout",
     "output_type": "stream",
     "text": [
      "Loading model parameters.\n",
      "average src size 12.941558441558442 1694\n"
     ]
    },
    {
     "name": "stderr",
     "output_type": "stream",
     "text": [
      "/home/raja/OpenNMT-py/onmt/modules/GlobalAttention.py:176: UserWarning: Implicit dimension choice for softmax has been deprecated. Change the call to include dim=X as an argument.\n",
      "  align_vectors = self.sm(align.view(batch*targetL, sourceL))\n",
      "/home/raja/anaconda3/envs/opennmt/lib/python3.6/site-packages/torch/nn/modules/container.py:67: UserWarning: Implicit dimension choice for log_softmax has been deprecated. Change the call to include dim=X as an argument.\n",
      "  input = module(input)\n",
      "/home/raja/anaconda3/envs/opennmt/lib/python3.6/site-packages/torch/tensor.py:297: UserWarning: other is not broadcastable to self, but they have the same number of elements.  Falling back to deprecated pointwise behavior.\n",
      "  return self.add_(other)\n",
      "/home/raja/OpenNMT-py/translate.py:115: DeprecationWarning: generator 'Iterator.__iter__' raised StopIteration\n",
      "  for batch in data_iter:\n"
     ]
    },
    {
     "name": "stdout",
     "output_type": "stream",
     "text": [
      "PRED AVG SCORE: -1.1150, PRED PPL: 3.0496\n",
      "GOLD AVG SCORE: -4.3911, GOLD PPL: 80.7254\n",
      "\n",
      ">> BLEU = 7.39, 38.8/11.6/5.0/2.3 (BP=0.866, ratio=0.874, hyp_len=26797, ref_len=30644)\n"
     ]
    }
   ],
   "source": [
    "%run ./translate.py -model turkish_models/iwslt_setimes_tr_en_50k_bpe_default_acc_64.96_ppl_5.61_e13.pt -src ../IWSLT_tr/tmp/IWSLT14.TED.tst2012.tr-en.tr -tgt ../IWSLT_tr/tmp/IWSLT14.TED.tst2012.tr-en.en -output turkish_outputs/2012_iwslt_setimes_tr_en_50k_bpe_default_acc_64.96_ppl_5.61_e13.pt.txt -replace_unk -report_bleu -gpu 0"
   ]
  },
  {
   "cell_type": "code",
   "execution_count": null,
   "metadata": {},
   "outputs": [],
   "source": []
  }
 ],
 "metadata": {
  "kernelspec": {
   "display_name": "Python 3",
   "language": "python",
   "name": "python3"
  },
  "language_info": {
   "codemirror_mode": {
    "name": "ipython",
    "version": 3
   },
   "file_extension": ".py",
   "mimetype": "text/x-python",
   "name": "python",
   "nbconvert_exporter": "python",
   "pygments_lexer": "ipython3",
   "version": "3.6.4"
  }
 },
 "nbformat": 4,
 "nbformat_minor": 2
}
