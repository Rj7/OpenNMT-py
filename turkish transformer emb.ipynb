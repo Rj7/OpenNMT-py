{
 "cells": [
  {
   "cell_type": "code",
   "execution_count": null,
   "metadata": {},
   "outputs": [
    {
     "name": "stdout",
     "output_type": "stream",
     "text": [
      "Loading model parameters.\n"
     ]
    },
    {
     "name": "stderr",
     "output_type": "stream",
     "text": [
      "/home/raja/anaconda3/envs/opennmt/lib/python3.6/site-packages/torch/nn/modules/module.py:325: UserWarning: Implicit dimension choice for softmax has been deprecated. Change the call to include dim=X as an argument.\n",
      "  result = self.forward(*input, **kwargs)\n",
      "/home/raja/anaconda3/envs/opennmt/lib/python3.6/site-packages/torch/nn/modules/container.py:67: UserWarning: Implicit dimension choice for log_softmax has been deprecated. Change the call to include dim=X as an argument.\n",
      "  input = module(input)\n",
      "/home/raja/anaconda3/envs/opennmt/lib/python3.6/site-packages/torch/tensor.py:297: UserWarning: other is not broadcastable to self, but they have the same number of elements.  Falling back to deprecated pointwise behavior.\n",
      "  return self.add_(other)\n",
      "/home/raja/OpenNMT-py/translate.py:104: DeprecationWarning: generator 'Iterator.__iter__' raised StopIteration\n",
      "  for batch in data_iter:\n"
     ]
    },
    {
     "name": "stdout",
     "output_type": "stream",
     "text": [
      "PRED AVG SCORE: -0.9562, PRED PPL: 2.6018\n",
      "GOLD AVG SCORE: -2.9964, GOLD PPL: 20.0126\n",
      "\n",
      ">> BLEU = 17.01, 52.6/23.9/12.3/6.5 (BP=0.954, ratio=0.955, hyp_len=30571, ref_len=32011)\n"
     ]
    }
   ],
   "source": [
    "%run ./translate.py -model turkish_models/iwslt_tr_en_50_transformer_sensitive_param_v2_fix_emb_acc_51.62_ppl_16.30_e30.pt -src ../IWSLT_tr/tmp/IWSLT14.TED.tst2010.tr-en.tr -tgt ../IWSLT_tr/tmp/IWSLT14.TED.tst2010.tr-en.en -output turkish_ouputs/2010_iwslt_tr_en_50_transformer_sensitive_param_v2_fix_emb_.txt -replace_unk -report_bleu -gpu 0"
   ]
  },
  {
   "cell_type": "code",
   "execution_count": null,
   "metadata": {},
   "outputs": [
    {
     "name": "stdout",
     "output_type": "stream",
     "text": [
      "Loading model parameters.\n"
     ]
    },
    {
     "name": "stderr",
     "output_type": "stream",
     "text": [
      "/home/raja/anaconda3/envs/opennmt/lib/python3.6/site-packages/torch/nn/modules/module.py:325: UserWarning: Implicit dimension choice for softmax has been deprecated. Change the call to include dim=X as an argument.\n",
      "  result = self.forward(*input, **kwargs)\n",
      "/home/raja/anaconda3/envs/opennmt/lib/python3.6/site-packages/torch/nn/modules/container.py:67: UserWarning: Implicit dimension choice for log_softmax has been deprecated. Change the call to include dim=X as an argument.\n",
      "  input = module(input)\n",
      "/home/raja/anaconda3/envs/opennmt/lib/python3.6/site-packages/torch/tensor.py:297: UserWarning: other is not broadcastable to self, but they have the same number of elements.  Falling back to deprecated pointwise behavior.\n",
      "  return self.add_(other)\n",
      "/home/raja/OpenNMT-py/translate.py:104: DeprecationWarning: generator 'Iterator.__iter__' raised StopIteration\n",
      "  for batch in data_iter:\n"
     ]
    },
    {
     "name": "stdout",
     "output_type": "stream",
     "text": [
      "PRED AVG SCORE: -0.9593, PRED PPL: 2.6098\n",
      "GOLD AVG SCORE: -2.9953, GOLD PPL: 19.9913\n",
      "\n",
      ">> BLEU = 18.11, 52.8/24.4/12.9/7.1 (BP=0.978, ratio=0.978, hyp_len=24136, ref_len=24676)\n"
     ]
    }
   ],
   "source": [
    "%run ./translate.py -model turkish_models/iwslt_tr_en_50_transformer_sensitive_param_v2_fix_emb_acc_51.62_ppl_16.30_e30.pt -src ../IWSLT_tr/tmp/IWSLT14.TED.tst2011.tr-en.tr -tgt ../IWSLT_tr/tmp/IWSLT14.TED.tst2011.tr-en.en -output turkish_ouputs/2011_iwslt_tr_en_50_transformer_sensitive_param_v2_fix_emb_.txt -replace_unk -report_bleu -gpu 0"
   ]
  },
  {
   "cell_type": "code",
   "execution_count": 4,
   "metadata": {},
   "outputs": [
    {
     "name": "stdout",
     "output_type": "stream",
     "text": [
      "Loading model parameters.\n"
     ]
    },
    {
     "name": "stderr",
     "output_type": "stream",
     "text": [
      "/home/raja/anaconda3/envs/opennmt/lib/python3.6/site-packages/torch/nn/modules/module.py:325: UserWarning: Implicit dimension choice for softmax has been deprecated. Change the call to include dim=X as an argument.\n",
      "  result = self.forward(*input, **kwargs)\n",
      "/home/raja/anaconda3/envs/opennmt/lib/python3.6/site-packages/torch/nn/modules/container.py:67: UserWarning: Implicit dimension choice for log_softmax has been deprecated. Change the call to include dim=X as an argument.\n",
      "  input = module(input)\n",
      "/home/raja/anaconda3/envs/opennmt/lib/python3.6/site-packages/torch/tensor.py:297: UserWarning: other is not broadcastable to self, but they have the same number of elements.  Falling back to deprecated pointwise behavior.\n",
      "  return self.add_(other)\n",
      "/home/raja/OpenNMT-py/translate.py:104: DeprecationWarning: generator 'Iterator.__iter__' raised StopIteration\n",
      "  for batch in data_iter:\n"
     ]
    },
    {
     "name": "stdout",
     "output_type": "stream",
     "text": [
      "PRED AVG SCORE: -0.9628, PRED PPL: 2.6191\n",
      "GOLD AVG SCORE: -2.9333, GOLD PPL: 18.7903\n",
      "\n",
      ">> BLEU = 18.86, 53.5/25.2/13.8/7.8 (BP=0.967, ratio=0.967, hyp_len=29644, ref_len=30644)\n"
     ]
    }
   ],
   "source": [
    "%run ./translate.py -model turkish_models/iwslt_tr_en_50_transformer_sensitive_param_v2_fix_emb_acc_51.62_ppl_16.30_e30.pt -src ../IWSLT_tr/tmp/IWSLT14.TED.tst2012.tr-en.tr -tgt ../IWSLT_tr/tmp/IWSLT14.TED.tst2012.tr-en.en -output turkish_ouputs/2012_iwslt_tr_en_50_transformer_sensitive_param_v2_fix_emb_.txt -replace_unk -report_bleu -gpu 0"
   ]
  },
  {
   "cell_type": "code",
   "execution_count": null,
   "metadata": {},
   "outputs": [],
   "source": [
    "#turkish_models/transormer_expanded_50002,166255_fix_emb.pt"
   ]
  },
  {
   "cell_type": "code",
   "execution_count": 5,
   "metadata": {},
   "outputs": [
    {
     "name": "stdout",
     "output_type": "stream",
     "text": [
      "Loading model parameters.\n"
     ]
    },
    {
     "name": "stderr",
     "output_type": "stream",
     "text": [
      "/home/raja/anaconda3/envs/opennmt/lib/python3.6/site-packages/torch/nn/modules/module.py:325: UserWarning: Implicit dimension choice for softmax has been deprecated. Change the call to include dim=X as an argument.\n",
      "  result = self.forward(*input, **kwargs)\n",
      "/home/raja/anaconda3/envs/opennmt/lib/python3.6/site-packages/torch/nn/modules/container.py:67: UserWarning: Implicit dimension choice for log_softmax has been deprecated. Change the call to include dim=X as an argument.\n",
      "  input = module(input)\n",
      "/home/raja/anaconda3/envs/opennmt/lib/python3.6/site-packages/torch/tensor.py:297: UserWarning: other is not broadcastable to self, but they have the same number of elements.  Falling back to deprecated pointwise behavior.\n",
      "  return self.add_(other)\n",
      "/home/raja/OpenNMT-py/translate.py:104: DeprecationWarning: generator 'Iterator.__iter__' raised StopIteration\n",
      "  for batch in data_iter:\n"
     ]
    },
    {
     "name": "stdout",
     "output_type": "stream",
     "text": [
      "PRED AVG SCORE: -0.9211, PRED PPL: 2.5121\n",
      "GOLD AVG SCORE: -2.8542, GOLD PPL: 17.3609\n",
      "\n",
      ">> BLEU = 18.58, 56.1/26.4/14.1/7.8 (BP=0.926, ratio=0.928, hyp_len=29722, ref_len=32011)\n"
     ]
    }
   ],
   "source": [
    "%run ./translate.py -model turkish_models/transormer_expanded_50002,166255_fix_emb.pt -src ../IWSLT_tr/tmp/IWSLT14.TED.tst2010.tr-en.tr -tgt ../IWSLT_tr/tmp/IWSLT14.TED.tst2010.tr-en.en -output turkish_ouputs/2010_iwslt_tr_en_50_transformer_sensitive_param_v2_fix_emb_expanded.txt -replace_unk -report_bleu -gpu 0"
   ]
  },
  {
   "cell_type": "code",
   "execution_count": 6,
   "metadata": {},
   "outputs": [
    {
     "name": "stdout",
     "output_type": "stream",
     "text": [
      "Loading model parameters.\n"
     ]
    },
    {
     "name": "stderr",
     "output_type": "stream",
     "text": [
      "/home/raja/anaconda3/envs/opennmt/lib/python3.6/site-packages/torch/nn/modules/module.py:325: UserWarning: Implicit dimension choice for softmax has been deprecated. Change the call to include dim=X as an argument.\n",
      "  result = self.forward(*input, **kwargs)\n",
      "/home/raja/anaconda3/envs/opennmt/lib/python3.6/site-packages/torch/nn/modules/container.py:67: UserWarning: Implicit dimension choice for log_softmax has been deprecated. Change the call to include dim=X as an argument.\n",
      "  input = module(input)\n",
      "/home/raja/anaconda3/envs/opennmt/lib/python3.6/site-packages/torch/tensor.py:297: UserWarning: other is not broadcastable to self, but they have the same number of elements.  Falling back to deprecated pointwise behavior.\n",
      "  return self.add_(other)\n",
      "/home/raja/OpenNMT-py/translate.py:104: DeprecationWarning: generator 'Iterator.__iter__' raised StopIteration\n",
      "  for batch in data_iter:\n"
     ]
    },
    {
     "name": "stdout",
     "output_type": "stream",
     "text": [
      "PRED AVG SCORE: -0.9217, PRED PPL: 2.5137\n",
      "GOLD AVG SCORE: -2.8373, GOLD PPL: 17.0698\n",
      "\n",
      ">> BLEU = 19.76, 56.3/27.3/14.9/8.5 (BP=0.940, ratio=0.942, hyp_len=23243, ref_len=24676)\n"
     ]
    }
   ],
   "source": [
    "%run ./translate.py -model turkish_models/transormer_expanded_50002,166255_fix_emb.pt -src ../IWSLT_tr/tmp/IWSLT14.TED.tst2011.tr-en.tr -tgt ../IWSLT_tr/tmp/IWSLT14.TED.tst2011.tr-en.en -output turkish_ouputs/2011_iwslt_tr_en_50_transformer_sensitive_param_v2_fix_emb_expanded.txt -replace_unk -report_bleu -gpu 0"
   ]
  },
  {
   "cell_type": "code",
   "execution_count": null,
   "metadata": {},
   "outputs": [],
   "source": [
    "%run ./translate.py -model turkish_models/transormer_expanded_50002,166255_fix_emb.pt -src ../IWSLT_tr/tmp/IWSLT14.TED.tst2012.tr-en.tr -tgt ../IWSLT_tr/tmp/IWSLT14.TED.tst2012.tr-en.en -output turkish_ouputs/2012_iwslt_tr_en_50_transformer_sensitive_param_v2_fix_emb_expanded.txt -replace_unk -report_bleu -gpu 0"
   ]
  },
  {
   "cell_type": "code",
   "execution_count": null,
   "metadata": {},
   "outputs": [],
   "source": []
  }
 ],
 "metadata": {
  "kernelspec": {
   "display_name": "Python 3",
   "language": "python",
   "name": "python3"
  },
  "language_info": {
   "codemirror_mode": {
    "name": "ipython",
    "version": 3
   },
   "file_extension": ".py",
   "mimetype": "text/x-python",
   "name": "python",
   "nbconvert_exporter": "python",
   "pygments_lexer": "ipython3",
   "version": "3.6.4"
  }
 },
 "nbformat": 4,
 "nbformat_minor": 2
}
