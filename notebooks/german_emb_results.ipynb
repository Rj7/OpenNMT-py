{
 "cells": [
  {
   "cell_type": "code",
   "execution_count": 1,
   "metadata": {},
   "outputs": [
    {
     "name": "stdout",
     "output_type": "stream",
     "text": [
      "Loading model parameters.\n"
     ]
    },
    {
     "name": "stderr",
     "output_type": "stream",
     "text": [
      "/home/raja/OpenNMT-py/onmt/modules/GlobalAttention.py:177: UserWarning: Implicit dimension choice for softmax has been deprecated. Change the call to include dim=X as an argument.\n",
      "  align_vectors = self.sm(align.view(batch*targetL, sourceL))\n",
      "/home/raja/anaconda3/envs/opennmt/lib/python3.6/site-packages/torch/nn/modules/container.py:67: UserWarning: Implicit dimension choice for log_softmax has been deprecated. Change the call to include dim=X as an argument.\n",
      "  input = module(input)\n",
      "/home/raja/anaconda3/envs/opennmt/lib/python3.6/site-packages/torch/tensor.py:297: UserWarning: other is not broadcastable to self, but they have the same number of elements.  Falling back to deprecated pointwise behavior.\n",
      "  return self.add_(other)\n",
      "/home/raja/OpenNMT-py/translate.py:104: DeprecationWarning: generator 'Iterator.__iter__' raised StopIteration\n",
      "  for batch in data_iter:\n"
     ]
    },
    {
     "name": "stdout",
     "output_type": "stream",
     "text": [
      "PRED AVG SCORE: -0.5966, PRED PPL: 1.8160\n",
      "GOLD AVG SCORE: -2.4317, GOLD PPL: 11.3781\n",
      "\n",
      ">> BLEU = 27.44, 64.1/36.6/22.7/14.4 (BP=0.927, ratio=0.929, hyp_len=29748, ref_len=32010)\n"
     ]
    }
   ],
   "source": [
    "%run ./translate.py -model german_models/iwslt_de_en_50k_default_emb_fix_acc_59.62_ppl_9.83_e13.pt -src ../IWSLT/tmp/IWSLT14.TED.tst2010.de-en.de -tgt ../IWSLT/tmp/IWSLT14.TED.tst2010.de-en.en -output german_outputs/2010_iwslt_de_en_50k_default_emb_fix_acc_59.62_ppl_9.83_e13.pt -replace_unk -report_bleu -gpu 0"
   ]
  },
  {
   "cell_type": "code",
   "execution_count": 2,
   "metadata": {},
   "outputs": [
    {
     "name": "stdout",
     "output_type": "stream",
     "text": [
      "Loading model parameters.\n"
     ]
    },
    {
     "name": "stderr",
     "output_type": "stream",
     "text": [
      "/home/raja/OpenNMT-py/onmt/modules/GlobalAttention.py:177: UserWarning: Implicit dimension choice for softmax has been deprecated. Change the call to include dim=X as an argument.\n",
      "  align_vectors = self.sm(align.view(batch*targetL, sourceL))\n",
      "/home/raja/anaconda3/envs/opennmt/lib/python3.6/site-packages/torch/nn/modules/container.py:67: UserWarning: Implicit dimension choice for log_softmax has been deprecated. Change the call to include dim=X as an argument.\n",
      "  input = module(input)\n",
      "/home/raja/anaconda3/envs/opennmt/lib/python3.6/site-packages/torch/tensor.py:297: UserWarning: other is not broadcastable to self, but they have the same number of elements.  Falling back to deprecated pointwise behavior.\n",
      "  return self.add_(other)\n",
      "/home/raja/OpenNMT-py/translate.py:104: DeprecationWarning: generator 'Iterator.__iter__' raised StopIteration\n",
      "  for batch in data_iter:\n"
     ]
    },
    {
     "name": "stdout",
     "output_type": "stream",
     "text": [
      "PRED AVG SCORE: -0.5772, PRED PPL: 1.7810\n",
      "GOLD AVG SCORE: -2.2105, GOLD PPL: 9.1203\n",
      "\n",
      ">> BLEU = 31.23, 66.9/40.1/25.8/16.8 (BP=0.952, ratio=0.953, hyp_len=25658, ref_len=26927)\n"
     ]
    }
   ],
   "source": [
    "%run ./translate.py -model german_models/iwslt_de_en_50k_default_emb_fix_acc_59.62_ppl_9.83_e13.pt -src ../IWSLT/tmp/IWSLT14.TED.tst2011.de-en.de -tgt ../IWSLT/tmp/IWSLT14.TED.tst2011.de-en.en -output german_outputs/2011_iwslt_de_en_50k_default_emb_fix_acc_59.62_ppl_9.83_e13.pt -replace_unk -report_bleu -gpu 0"
   ]
  },
  {
   "cell_type": "code",
   "execution_count": 3,
   "metadata": {},
   "outputs": [
    {
     "name": "stdout",
     "output_type": "stream",
     "text": [
      "Loading model parameters.\n"
     ]
    },
    {
     "name": "stderr",
     "output_type": "stream",
     "text": [
      "/home/raja/OpenNMT-py/onmt/modules/GlobalAttention.py:177: UserWarning: Implicit dimension choice for softmax has been deprecated. Change the call to include dim=X as an argument.\n",
      "  align_vectors = self.sm(align.view(batch*targetL, sourceL))\n",
      "/home/raja/anaconda3/envs/opennmt/lib/python3.6/site-packages/torch/nn/modules/container.py:67: UserWarning: Implicit dimension choice for log_softmax has been deprecated. Change the call to include dim=X as an argument.\n",
      "  input = module(input)\n",
      "/home/raja/anaconda3/envs/opennmt/lib/python3.6/site-packages/torch/tensor.py:297: UserWarning: other is not broadcastable to self, but they have the same number of elements.  Falling back to deprecated pointwise behavior.\n",
      "  return self.add_(other)\n",
      "/home/raja/OpenNMT-py/translate.py:104: DeprecationWarning: generator 'Iterator.__iter__' raised StopIteration\n",
      "  for batch in data_iter:\n"
     ]
    },
    {
     "name": "stdout",
     "output_type": "stream",
     "text": [
      "PRED AVG SCORE: -0.5969, PRED PPL: 1.8165\n",
      "GOLD AVG SCORE: -2.4958, GOLD PPL: 12.1311\n",
      "\n",
      ">> BLEU = 26.78, 63.8/35.8/21.9/13.7 (BP=0.932, ratio=0.934, hyp_len=28679, ref_len=30706)\n"
     ]
    }
   ],
   "source": [
    "%run ./translate.py -model german_models/iwslt_de_en_50k_default_emb_fix_acc_59.62_ppl_9.83_e13.pt -src ../IWSLT/tmp/IWSLT14.TED.tst2012.de-en.de -tgt ../IWSLT/tmp/IWSLT14.TED.tst2012.de-en.en -output german_outputs/2012_iwslt_de_en_50k_default_emb_fix_acc_59.62_ppl_9.83_e13.pt -replace_unk -report_bleu -gpu 0"
   ]
  },
  {
   "cell_type": "code",
   "execution_count": 4,
   "metadata": {},
   "outputs": [
    {
     "name": "stdout",
     "output_type": "stream",
     "text": [
      "Loading model parameters.\n"
     ]
    },
    {
     "name": "stderr",
     "output_type": "stream",
     "text": [
      "/home/raja/OpenNMT-py/onmt/modules/GlobalAttention.py:177: UserWarning: Implicit dimension choice for softmax has been deprecated. Change the call to include dim=X as an argument.\n",
      "  align_vectors = self.sm(align.view(batch*targetL, sourceL))\n",
      "/home/raja/anaconda3/envs/opennmt/lib/python3.6/site-packages/torch/nn/modules/container.py:67: UserWarning: Implicit dimension choice for log_softmax has been deprecated. Change the call to include dim=X as an argument.\n",
      "  input = module(input)\n",
      "/home/raja/anaconda3/envs/opennmt/lib/python3.6/site-packages/torch/tensor.py:297: UserWarning: other is not broadcastable to self, but they have the same number of elements.  Falling back to deprecated pointwise behavior.\n",
      "  return self.add_(other)\n",
      "/home/raja/OpenNMT-py/translate.py:104: DeprecationWarning: generator 'Iterator.__iter__' raised StopIteration\n",
      "  for batch in data_iter:\n"
     ]
    },
    {
     "name": "stdout",
     "output_type": "stream",
     "text": [
      "PRED AVG SCORE: -0.9524, PRED PPL: 2.5919\n",
      "GOLD AVG SCORE: -4.6575, GOLD PPL: 105.3766\n",
      "\n",
      ">> BLEU = 12.77, 46.6/18.2/8.1/3.9 (BP=0.998, ratio=0.998, hyp_len=73649, ref_len=73799)\n"
     ]
    }
   ],
   "source": [
    "%run ./translate.py -model german_models/iwslt_de_en_50k_default_emb_fix_acc_59.62_ppl_9.83_e13.pt -src ../IWSLT/newstest2012.tok.de -tgt ../IWSLT/newstest2012.tok.en -output german_outputs/2012_news_iwslt_de_en_50k_default_emb_fix_acc_59.62_ppl_9.83_e13.pt -replace_unk -report_bleu -gpu 0"
   ]
  },
  {
   "cell_type": "code",
   "execution_count": 5,
   "metadata": {},
   "outputs": [
    {
     "name": "stdout",
     "output_type": "stream",
     "text": [
      "Loading model parameters.\n"
     ]
    },
    {
     "name": "stderr",
     "output_type": "stream",
     "text": [
      "/home/raja/OpenNMT-py/onmt/modules/GlobalAttention.py:177: UserWarning: Implicit dimension choice for softmax has been deprecated. Change the call to include dim=X as an argument.\n",
      "  align_vectors = self.sm(align.view(batch*targetL, sourceL))\n",
      "/home/raja/anaconda3/envs/opennmt/lib/python3.6/site-packages/torch/nn/modules/container.py:67: UserWarning: Implicit dimension choice for log_softmax has been deprecated. Change the call to include dim=X as an argument.\n",
      "  input = module(input)\n",
      "/home/raja/anaconda3/envs/opennmt/lib/python3.6/site-packages/torch/tensor.py:297: UserWarning: other is not broadcastable to self, but they have the same number of elements.  Falling back to deprecated pointwise behavior.\n",
      "  return self.add_(other)\n",
      "/home/raja/OpenNMT-py/translate.py:104: DeprecationWarning: generator 'Iterator.__iter__' raised StopIteration\n",
      "  for batch in data_iter:\n"
     ]
    },
    {
     "name": "stdout",
     "output_type": "stream",
     "text": [
      "PRED AVG SCORE: -0.8587, PRED PPL: 2.3600\n",
      "GOLD AVG SCORE: -4.2202, GOLD PPL: 68.0491\n",
      "\n",
      ">> BLEU = 14.68, 49.2/20.4/9.8/4.9 (BP=0.989, ratio=0.989, hyp_len=64874, ref_len=65602)\n"
     ]
    }
   ],
   "source": [
    "%run ./translate.py -model german_models/iwslt_de_en_50k_default_emb_fix_acc_59.62_ppl_9.83_e13.pt -src ../IWSLT/newstest2013.tok.de -tgt ../IWSLT/newstest2013.tok.en -output german_outputs/2013_news_iwslt_de_en_50k_default_emb_fix_acc_59.62_ppl_9.83_e13.pt -replace_unk -report_bleu -gpu 0"
   ]
  },
  {
   "cell_type": "code",
   "execution_count": 9,
   "metadata": {},
   "outputs": [
    {
     "name": "stdout",
     "output_type": "stream",
     "text": [
      "Loading model parameters.\n"
     ]
    },
    {
     "name": "stderr",
     "output_type": "stream",
     "text": [
      "/home/raja/OpenNMT-py/onmt/modules/GlobalAttention.py:177: UserWarning: Implicit dimension choice for softmax has been deprecated. Change the call to include dim=X as an argument.\n",
      "  align_vectors = self.sm(align.view(batch*targetL, sourceL))\n",
      "/home/raja/anaconda3/envs/opennmt/lib/python3.6/site-packages/torch/nn/modules/container.py:67: UserWarning: Implicit dimension choice for log_softmax has been deprecated. Change the call to include dim=X as an argument.\n",
      "  input = module(input)\n",
      "/home/raja/anaconda3/envs/opennmt/lib/python3.6/site-packages/torch/tensor.py:297: UserWarning: other is not broadcastable to self, but they have the same number of elements.  Falling back to deprecated pointwise behavior.\n",
      "  return self.add_(other)\n",
      "/home/raja/OpenNMT-py/translate.py:104: DeprecationWarning: generator 'Iterator.__iter__' raised StopIteration\n",
      "  for batch in data_iter:\n"
     ]
    },
    {
     "name": "stdout",
     "output_type": "stream",
     "text": [
      "PRED AVG SCORE: -0.5396, PRED PPL: 1.7153\n",
      "GOLD AVG SCORE: -2.2963, GOLD PPL: 9.9373\n",
      "\n",
      ">> BLEU = 29.03, 65.3/37.9/24.0/15.6 (BP=0.936, ratio=0.938, hyp_len=30014, ref_len=32010)\n"
     ]
    }
   ],
   "source": [
    "%run ./translate.py -model expanded_src_iwslt_de_en_50k_merged.pt -src ../IWSLT/tmp/IWSLT14.TED.tst2010.de-en.de -tgt ../IWSLT/tmp/IWSLT14.TED.tst2010.de-en.en -output german_outputs/2010_expanded.txt -replace_unk -report_bleu -gpu 0"
   ]
  },
  {
   "cell_type": "code",
   "execution_count": 10,
   "metadata": {},
   "outputs": [
    {
     "name": "stdout",
     "output_type": "stream",
     "text": [
      "Loading model parameters.\n"
     ]
    },
    {
     "name": "stderr",
     "output_type": "stream",
     "text": [
      "/home/raja/OpenNMT-py/onmt/modules/GlobalAttention.py:177: UserWarning: Implicit dimension choice for softmax has been deprecated. Change the call to include dim=X as an argument.\n",
      "  align_vectors = self.sm(align.view(batch*targetL, sourceL))\n",
      "/home/raja/anaconda3/envs/opennmt/lib/python3.6/site-packages/torch/nn/modules/container.py:67: UserWarning: Implicit dimension choice for log_softmax has been deprecated. Change the call to include dim=X as an argument.\n",
      "  input = module(input)\n",
      "/home/raja/anaconda3/envs/opennmt/lib/python3.6/site-packages/torch/tensor.py:297: UserWarning: other is not broadcastable to self, but they have the same number of elements.  Falling back to deprecated pointwise behavior.\n",
      "  return self.add_(other)\n",
      "/home/raja/OpenNMT-py/translate.py:104: DeprecationWarning: generator 'Iterator.__iter__' raised StopIteration\n",
      "  for batch in data_iter:\n"
     ]
    },
    {
     "name": "stdout",
     "output_type": "stream",
     "text": [
      "PRED AVG SCORE: -0.5224, PRED PPL: 1.6861\n",
      "GOLD AVG SCORE: -2.0773, GOLD PPL: 7.9830\n",
      "\n",
      ">> BLEU = 33.17, 68.4/42.0/27.6/18.3 (BP=0.955, ratio=0.956, hyp_len=25747, ref_len=26927)\n"
     ]
    }
   ],
   "source": [
    "%run ./translate.py -model expanded_src_iwslt_de_en_50k_merged.pt -src ../IWSLT/tmp/IWSLT14.TED.tst2011.de-en.de -tgt ../IWSLT/tmp/IWSLT14.TED.tst2011.de-en.en -output german_outputs/2011_expanded.txt -replace_unk -report_bleu -gpu 0"
   ]
  },
  {
   "cell_type": "code",
   "execution_count": 11,
   "metadata": {},
   "outputs": [
    {
     "name": "stdout",
     "output_type": "stream",
     "text": [
      "Loading model parameters.\n"
     ]
    },
    {
     "name": "stderr",
     "output_type": "stream",
     "text": [
      "/home/raja/OpenNMT-py/onmt/modules/GlobalAttention.py:177: UserWarning: Implicit dimension choice for softmax has been deprecated. Change the call to include dim=X as an argument.\n",
      "  align_vectors = self.sm(align.view(batch*targetL, sourceL))\n",
      "/home/raja/anaconda3/envs/opennmt/lib/python3.6/site-packages/torch/nn/modules/container.py:67: UserWarning: Implicit dimension choice for log_softmax has been deprecated. Change the call to include dim=X as an argument.\n",
      "  input = module(input)\n",
      "/home/raja/anaconda3/envs/opennmt/lib/python3.6/site-packages/torch/tensor.py:297: UserWarning: other is not broadcastable to self, but they have the same number of elements.  Falling back to deprecated pointwise behavior.\n",
      "  return self.add_(other)\n",
      "/home/raja/OpenNMT-py/translate.py:104: DeprecationWarning: generator 'Iterator.__iter__' raised StopIteration\n",
      "  for batch in data_iter:\n"
     ]
    },
    {
     "name": "stdout",
     "output_type": "stream",
     "text": [
      "PRED AVG SCORE: -0.5291, PRED PPL: 1.6974\n",
      "GOLD AVG SCORE: -2.3718, GOLD PPL: 10.7168\n",
      "\n",
      ">> BLEU = 28.20, 65.3/37.3/23.4/14.9 (BP=0.930, ratio=0.932, hyp_len=28616, ref_len=30706)\n"
     ]
    }
   ],
   "source": [
    "%run ./translate.py -model expanded_src_iwslt_de_en_50k_merged.pt -src ../IWSLT/tmp/IWSLT14.TED.tst2012.de-en.de -tgt ../IWSLT/tmp/IWSLT14.TED.tst2012.de-en.en -output german_outputs/2012_expanded.txt -replace_unk -report_bleu -gpu 0"
   ]
  },
  {
   "cell_type": "code",
   "execution_count": 12,
   "metadata": {},
   "outputs": [
    {
     "name": "stdout",
     "output_type": "stream",
     "text": [
      "Loading model parameters.\n"
     ]
    },
    {
     "name": "stderr",
     "output_type": "stream",
     "text": [
      "/home/raja/OpenNMT-py/onmt/modules/GlobalAttention.py:177: UserWarning: Implicit dimension choice for softmax has been deprecated. Change the call to include dim=X as an argument.\n",
      "  align_vectors = self.sm(align.view(batch*targetL, sourceL))\n",
      "/home/raja/anaconda3/envs/opennmt/lib/python3.6/site-packages/torch/nn/modules/container.py:67: UserWarning: Implicit dimension choice for log_softmax has been deprecated. Change the call to include dim=X as an argument.\n",
      "  input = module(input)\n",
      "/home/raja/anaconda3/envs/opennmt/lib/python3.6/site-packages/torch/tensor.py:297: UserWarning: other is not broadcastable to self, but they have the same number of elements.  Falling back to deprecated pointwise behavior.\n",
      "  return self.add_(other)\n",
      "/home/raja/OpenNMT-py/translate.py:104: DeprecationWarning: generator 'Iterator.__iter__' raised StopIteration\n",
      "  for batch in data_iter:\n"
     ]
    },
    {
     "name": "stdout",
     "output_type": "stream",
     "text": [
      "PRED AVG SCORE: -0.7478, PRED PPL: 2.1122\n",
      "GOLD AVG SCORE: -4.1156, GOLD PPL: 61.2877\n",
      "\n",
      ">> BLEU = 16.02, 50.6/21.7/10.7/5.6 (BP=1.000, ratio=1.005, hyp_len=65930, ref_len=65602)\n"
     ]
    }
   ],
   "source": [
    "%run ./translate.py -model expanded_src_iwslt_de_en_50k_merged.pt -src ../IWSLT/newstest2013.tok.de -tgt ../IWSLT/newstest2013.tok.en -output german_outputs/2013_expanded -replace_unk -report_bleu -gpu 0"
   ]
  },
  {
   "cell_type": "code",
   "execution_count": 13,
   "metadata": {},
   "outputs": [
    {
     "name": "stdout",
     "output_type": "stream",
     "text": [
      "Loading model parameters.\n"
     ]
    },
    {
     "name": "stderr",
     "output_type": "stream",
     "text": [
      "/home/raja/OpenNMT-py/onmt/modules/GlobalAttention.py:177: UserWarning: Implicit dimension choice for softmax has been deprecated. Change the call to include dim=X as an argument.\n",
      "  align_vectors = self.sm(align.view(batch*targetL, sourceL))\n",
      "/home/raja/anaconda3/envs/opennmt/lib/python3.6/site-packages/torch/nn/modules/container.py:67: UserWarning: Implicit dimension choice for log_softmax has been deprecated. Change the call to include dim=X as an argument.\n",
      "  input = module(input)\n",
      "/home/raja/anaconda3/envs/opennmt/lib/python3.6/site-packages/torch/tensor.py:297: UserWarning: other is not broadcastable to self, but they have the same number of elements.  Falling back to deprecated pointwise behavior.\n",
      "  return self.add_(other)\n",
      "/home/raja/OpenNMT-py/translate.py:104: DeprecationWarning: generator 'Iterator.__iter__' raised StopIteration\n",
      "  for batch in data_iter:\n"
     ]
    },
    {
     "name": "stdout",
     "output_type": "stream",
     "text": [
      "PRED AVG SCORE: -0.8277, PRED PPL: 2.2881\n",
      "GOLD AVG SCORE: -4.5645, GOLD PPL: 96.0150\n",
      "\n",
      ">> BLEU = 13.77, 47.8/19.2/8.9/4.4 (BP=1.000, ratio=1.009, hyp_len=74495, ref_len=73799)\n"
     ]
    }
   ],
   "source": [
    "%run ./translate.py -model expanded_src_iwslt_de_en_50k_merged.pt -src ../IWSLT/newstest2012.tok.de -tgt ../IWSLT/newstest2012.tok.en -output german_outputs/2012_expanded -replace_unk -report_bleu -gpu 0"
   ]
  },
  {
   "cell_type": "code",
   "execution_count": null,
   "metadata": {},
   "outputs": [],
   "source": []
  }
 ],
 "metadata": {
  "kernelspec": {
   "display_name": "Python 3",
   "language": "python",
   "name": "python3"
  },
  "language_info": {
   "codemirror_mode": {
    "name": "ipython",
    "version": 3
   },
   "file_extension": ".py",
   "mimetype": "text/x-python",
   "name": "python",
   "nbconvert_exporter": "python",
   "pygments_lexer": "ipython3",
   "version": "3.6.4"
  }
 },
 "nbformat": 4,
 "nbformat_minor": 2
}
