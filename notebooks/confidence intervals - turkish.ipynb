{
 "cells": [
  {
   "cell_type": "code",
   "execution_count": 1,
   "metadata": {},
   "outputs": [
    {
     "name": "stdout",
     "output_type": "stream",
     "text": [
      "2010_expanded\r\n",
      "2010_iwslt_tr_en_50_transformer_sensitive_param_v2_fix_emb_expanded.txt\r\n",
      "2010_iwslt_tr_en_50_transformer_sensitive_param_v2_fix_emb_.txt\r\n",
      "2010_iwslt_tr_en_50_transformer_sensitive_param_v2__.txt\r\n",
      "2010_iwslt_tr_en_default_acc_48.96_ppl_19.76_e20.pt.txt\r\n",
      "2010_iwslt_tr_en_emb_fix_50k_acc_50.59_ppl_15.44_e20.pt.txt\r\n",
      "2011_expanded\r\n",
      "2011_iwslt_tr_en_50_transformer_sensitive_param_v2_fix_emb_expanded.txt\r\n",
      "2011_iwslt_tr_en_50_transformer_sensitive_param_v2_fix_emb_.txt\r\n",
      "2011_iwslt_tr_en_50_transformer_sensitive_param_v2__.txt\r\n",
      "2011_iwslt_tr_en_default_acc_48.96_ppl_19.76_e20.pt.txt\r\n",
      "2011_iwslt_tr_en_emb_fix_50k_acc_50.59_ppl_15.44_e20.pt.txt\r\n",
      "2012_expanded\r\n",
      "2012_iwslt_tr_en_50_transformer_sensitive_param_v2_fix_emb_expanded.txt\r\n",
      "2012_iwslt_tr_en_50_transformer_sensitive_param_v2_fix_emb_.txt\r\n",
      "2012_iwslt_tr_en_50_transformer_sensitive_param_v2__.txt\r\n",
      "2012_iwslt_tr_en_default_acc_48.96_ppl_19.76_e20.pt.txt\r\n",
      "2012_iwslt_tr_en_emb_fix_50k_acc_50.59_ppl_15.44_e20.pt.txt\r\n",
      "iwslt_tr_en_50_transformer_sensitive_param_v2__acc_45.23_ppl_27.34_e30.pt.txt\r\n"
     ]
    }
   ],
   "source": [
    "ls turkish_ouputs/"
   ]
  },
  {
   "cell_type": "code",
   "execution_count": 2,
   "metadata": {},
   "outputs": [
    {
     "name": "stdout",
     "output_type": "stream",
     "text": [
      "/home/raja/confidence_intervals\n"
     ]
    }
   ],
   "source": [
    "cd ../confidence_intervals/"
   ]
  },
  {
   "cell_type": "code",
   "execution_count": 4,
   "metadata": {},
   "outputs": [
    {
     "name": "stdout",
     "output_type": "stream",
     "text": [
      "Reading reference translations from ../IWSLT_tr/tmp/IWSLT14.TED.tst2010.tr-en.en...\n",
      "Reading hypotheses from ../OpenNMT-py/turkish_ouputs/2010_iwslt_tr_en_default_acc_48.96_ppl_19.76_e20.pt.txt...\n",
      "Computing confidence intervals with 3 digits of precision...\n",
      "....................\n",
      "                                          [ from -- to ]    ( average +- interval )\n",
      "Confidence intervals for candidate hypotheses:\n",
      "BLEU   95.0% confidence interval:           14.9000 -- 16.3000 ( 15.5938 +- 0.7221 ) - BLEU stdev: 0.3694 \n",
      "BP     95.0% confidence interval:           0.9780 --  1.0000 ( 0.9889 +- 0.0111 ) \n",
      "TER    95.0% confidence interval:           70.2000 -- 72.2000 ( 71.1938 +- 1.0196 ) - TER stdev: 0.5132 \n",
      "METEOR 95.0% confidence interval:           25.4000 -- 26.9000 ( 26.1879 +- 0.7618 ) - METEOR stdev: 0.3912 \n"
     ]
    }
   ],
   "source": [
    "!bash confidence_intervals.sh -t ../OpenNMT-py/turkish_ouputs/2010_iwslt_tr_en_default_acc_48.96_ppl_19.76_e20.pt.txt -r ../IWSLT_tr/tmp/IWSLT14.TED.tst2010.tr-en.en -l en -n 2000"
   ]
  },
  {
   "cell_type": "code",
   "execution_count": 5,
   "metadata": {},
   "outputs": [
    {
     "name": "stdout",
     "output_type": "stream",
     "text": [
      "Reading reference translations from ../IWSLT_tr/tmp/IWSLT14.TED.tst2011.tr-en.en...\n",
      "Reading hypotheses from ../OpenNMT-py/turkish_ouputs/2011_iwslt_tr_en_default_acc_48.96_ppl_19.76_e20.pt.txt...\n",
      "Computing confidence intervals with 3 digits of precision...\n",
      "....................\n",
      "                                          [ from -- to ]    ( average +- interval )\n",
      "Confidence intervals for candidate hypotheses:\n",
      "BLEU   95.0% confidence interval:           14.9000 -- 16.6000 ( 15.7787 +- 0.8389 ) - BLEU stdev: 0.4313 \n",
      "BP     95.0% confidence interval:           0.9910 --  1.0000 ( 0.9954 +- 0.0046 ) \n",
      "TER    95.0% confidence interval:           70.0000 -- 72.3000 ( 71.1166 +- 1.1652 ) - TER stdev: 0.5943 \n",
      "METEOR 95.0% confidence interval:           25.5000 -- 27.4000 ( 26.4444 +- 0.9170 ) - METEOR stdev: 0.4673 \n"
     ]
    }
   ],
   "source": [
    "!bash confidence_intervals.sh -t ../OpenNMT-py/turkish_ouputs/2011_iwslt_tr_en_default_acc_48.96_ppl_19.76_e20.pt.txt -r ../IWSLT_tr/tmp/IWSLT14.TED.tst2011.tr-en.en -l en -n 2000"
   ]
  },
  {
   "cell_type": "code",
   "execution_count": 6,
   "metadata": {},
   "outputs": [
    {
     "name": "stdout",
     "output_type": "stream",
     "text": [
      "Reading reference translations from ../IWSLT_tr/tmp/IWSLT14.TED.tst2012.tr-en.en...\n",
      "Reading hypotheses from ../OpenNMT-py/turkish_ouputs/2012_iwslt_tr_en_default_acc_48.96_ppl_19.76_e20.pt.txt...\n",
      "Computing confidence intervals with 3 digits of precision...\n",
      "....................\n",
      "                                          [ from -- to ]    ( average +- interval )\n",
      "Confidence intervals for candidate hypotheses:\n",
      "BLEU   95.0% confidence interval:           15.3000 -- 16.7000 ( 16.0257 +- 0.7233 ) - BLEU stdev: 0.3697 \n",
      "BP     95.0% confidence interval:           0.9730 --  0.9980 ( 0.9854 +- 0.0121 ) \n",
      "TER    95.0% confidence interval:           69.1000 -- 71.2000 ( 70.1510 +- 1.0319 ) - TER stdev: 0.5378 \n",
      "METEOR 95.0% confidence interval:           24.9000 -- 26.3000 ( 25.6181 +- 0.7167 ) - METEOR stdev: 0.3628 \n"
     ]
    }
   ],
   "source": [
    "!bash confidence_intervals.sh -t ../OpenNMT-py/turkish_ouputs/2012_iwslt_tr_en_default_acc_48.96_ppl_19.76_e20.pt.txt -r ../IWSLT_tr/tmp/IWSLT14.TED.tst2012.tr-en.en -l en -n 2000"
   ]
  },
  {
   "cell_type": "code",
   "execution_count": 7,
   "metadata": {},
   "outputs": [
    {
     "name": "stdout",
     "output_type": "stream",
     "text": [
      "Reading reference translations from ../IWSLT_tr/tmp/IWSLT14.TED.tst2010.tr-en.en...\n",
      "Reading hypotheses from ../OpenNMT-py/turkish_ouputs/2010_iwslt_tr_en_emb_fix_50k_acc_50.59_ppl_15.44_e20.pt.txt...\n",
      "Computing confidence intervals with 3 digits of precision...\n",
      "....................\n",
      "                                          [ from -- to ]    ( average +- interval )\n",
      "Confidence intervals for candidate hypotheses:\n",
      "BLEU   95.0% confidence interval:           15.4000 -- 16.9000 ( 16.1571 +- 0.7262 ) - BLEU stdev: 0.3680 \n",
      "BP     95.0% confidence interval:           0.9280 --  0.9510 ( 0.9396 +- 0.0115 ) \n",
      "TER    95.0% confidence interval:           66.9000 -- 68.8000 ( 67.8276 +- 0.9250 ) - TER stdev: 0.4725 \n",
      "METEOR 95.0% confidence interval:           26.1000 -- 27.6000 ( 26.8585 +- 0.7616 ) - METEOR stdev: 0.3912 \n"
     ]
    }
   ],
   "source": [
    "!bash confidence_intervals.sh -t ../OpenNMT-py/turkish_ouputs/2010_iwslt_tr_en_emb_fix_50k_acc_50.59_ppl_15.44_e20.pt.txt -r ../IWSLT_tr/tmp/IWSLT14.TED.tst2010.tr-en.en -l en -n 2000"
   ]
  },
  {
   "cell_type": "code",
   "execution_count": 8,
   "metadata": {},
   "outputs": [
    {
     "name": "stdout",
     "output_type": "stream",
     "text": [
      "Reading reference translations from ../IWSLT_tr/tmp/IWSLT14.TED.tst2011.tr-en.en...\n",
      "Reading hypotheses from ../OpenNMT-py/turkish_ouputs/2011_iwslt_tr_en_emb_fix_50k_acc_50.59_ppl_15.44_e20.pt.txt...\n",
      "Computing confidence intervals with 3 digits of precision...\n",
      "....................\n",
      "                                          [ from -- to ]    ( average +- interval )\n",
      "Confidence intervals for candidate hypotheses:\n",
      "BLEU   95.0% confidence interval:           16.3000 -- 18.0000 ( 17.1173 +- 0.8606 ) - BLEU stdev: 0.4420 \n",
      "BP     95.0% confidence interval:           0.9490 --  0.9750 ( 0.9620 +- 0.0134 ) \n",
      "TER    95.0% confidence interval:           66.5000 -- 68.7000 ( 67.6238 +- 1.1167 ) - TER stdev: 0.5884 \n",
      "METEOR 95.0% confidence interval:           26.6000 -- 28.5000 ( 27.5282 +- 0.9257 ) - METEOR stdev: 0.4704 \n"
     ]
    }
   ],
   "source": [
    "!bash confidence_intervals.sh -t ../OpenNMT-py/turkish_ouputs/2011_iwslt_tr_en_emb_fix_50k_acc_50.59_ppl_15.44_e20.pt.txt -r ../IWSLT_tr/tmp/IWSLT14.TED.tst2011.tr-en.en -l en -n 2000"
   ]
  },
  {
   "cell_type": "code",
   "execution_count": 9,
   "metadata": {},
   "outputs": [
    {
     "name": "stdout",
     "output_type": "stream",
     "text": [
      "Reading reference translations from ../IWSLT_tr/tmp/IWSLT14.TED.tst2012.tr-en.en...\n",
      "Reading hypotheses from ../OpenNMT-py/turkish_ouputs/2012_iwslt_tr_en_emb_fix_50k_acc_50.59_ppl_15.44_e20.pt.txt...\n",
      "Computing confidence intervals with 3 digits of precision...\n",
      "....................\n",
      "                                          [ from -- to ]    ( average +- interval )\n",
      "Confidence intervals for candidate hypotheses:\n",
      "BLEU   95.0% confidence interval:           16.5000 -- 18.0000 ( 17.2736 +- 0.7531 ) - BLEU stdev: 0.3818 \n",
      "BP     95.0% confidence interval:           0.9240 --  0.9480 ( 0.9360 +- 0.0120 ) \n",
      "TER    95.0% confidence interval:           65.8000 -- 67.8000 ( 66.7968 +- 0.9775 ) - TER stdev: 0.4981 \n",
      "METEOR 95.0% confidence interval:           25.9000 -- 27.4000 ( 26.6305 +- 0.7573 ) - METEOR stdev: 0.3802 \n"
     ]
    }
   ],
   "source": [
    "!bash confidence_intervals.sh -t ../OpenNMT-py/turkish_ouputs/2012_iwslt_tr_en_emb_fix_50k_acc_50.59_ppl_15.44_e20.pt.txt -r ../IWSLT_tr/tmp/IWSLT14.TED.tst2012.tr-en.en -l en -n 2000"
   ]
  },
  {
   "cell_type": "code",
   "execution_count": 10,
   "metadata": {},
   "outputs": [
    {
     "name": "stdout",
     "output_type": "stream",
     "text": [
      "Reading reference translations from ../IWSLT_tr/tmp/IWSLT14.TED.tst2010.tr-en.en...\n",
      "Reading hypotheses from ../OpenNMT-py/turkish_ouputs/2010_expanded...\n",
      "Computing confidence intervals with 3 digits of precision...\n",
      "....................\n",
      "                                          [ from -- to ]    ( average +- interval )\n",
      "Confidence intervals for candidate hypotheses:\n",
      "BLEU   95.0% confidence interval:           16.5000 -- 18.0000 ( 17.2137 +- 0.7528 ) - BLEU stdev: 0.3808 \n",
      "BP     95.0% confidence interval:           0.8980 --  0.9200 ( 0.9086 +- 0.0110 ) \n",
      "TER    95.0% confidence interval:           63.8000 -- 65.6000 ( 64.7106 +- 0.9183 ) - TER stdev: 0.4587 \n",
      "METEOR 95.0% confidence interval:           27.3000 -- 28.9000 ( 28.1069 +- 0.8026 ) - METEOR stdev: 0.4059 \n"
     ]
    }
   ],
   "source": [
    "!bash confidence_intervals.sh -t ../OpenNMT-py/turkish_ouputs/2010_expanded -r ../IWSLT_tr/tmp/IWSLT14.TED.tst2010.tr-en.en -l en -n 2000"
   ]
  },
  {
   "cell_type": "code",
   "execution_count": 11,
   "metadata": {},
   "outputs": [
    {
     "name": "stdout",
     "output_type": "stream",
     "text": [
      "Reading reference translations from ../IWSLT_tr/tmp/IWSLT14.TED.tst2011.tr-en.en...\n",
      "Reading hypotheses from ../OpenNMT-py/turkish_ouputs/2011_expanded...\n",
      "Computing confidence intervals with 3 digits of precision...\n",
      "....................\n",
      "                                          [ from -- to ]    ( average +- interval )\n",
      "Confidence intervals for candidate hypotheses:\n",
      "BLEU   95.0% confidence interval:           17.4000 -- 19.2000 ( 18.3138 +- 0.9064 ) - BLEU stdev: 0.4629 \n",
      "BP     95.0% confidence interval:           0.9140 --  0.9370 ( 0.9255 +- 0.0116 ) \n",
      "TER    95.0% confidence interval:           63.0000 -- 65.3000 ( 64.1503 +- 1.1297 ) - TER stdev: 0.5821 \n",
      "METEOR 95.0% confidence interval:           27.7000 -- 29.5000 ( 28.5889 +- 0.9066 ) - METEOR stdev: 0.4803 \n"
     ]
    }
   ],
   "source": [
    "!bash confidence_intervals.sh -t ../OpenNMT-py/turkish_ouputs/2011_expanded -r ../IWSLT_tr/tmp/IWSLT14.TED.tst2011.tr-en.en -l en -n 2000"
   ]
  },
  {
   "cell_type": "code",
   "execution_count": 12,
   "metadata": {},
   "outputs": [
    {
     "name": "stdout",
     "output_type": "stream",
     "text": [
      "Reading reference translations from ../IWSLT_tr/tmp/IWSLT14.TED.tst2012.tr-en.en...\n",
      "Reading hypotheses from ../OpenNMT-py/turkish_ouputs/2012_expanded...\n",
      "Computing confidence intervals with 3 digits of precision...\n",
      "....................\n",
      "                                          [ from -- to ]    ( average +- interval )\n",
      "Confidence intervals for candidate hypotheses:\n",
      "BLEU   95.0% confidence interval:           17.7000 -- 19.2000 ( 18.4132 +- 0.7577 ) - BLEU stdev: 0.3856 \n",
      "BP     95.0% confidence interval:           0.8890 --  0.9120 ( 0.9009 +- 0.0114 ) \n",
      "TER    95.0% confidence interval:           62.5000 -- 64.2000 ( 63.3618 +- 0.8830 ) - TER stdev: 0.4540 \n",
      "METEOR 95.0% confidence interval:           27.3000 -- 28.9000 ( 28.1085 +- 0.7626 ) - METEOR stdev: 0.3929 \n"
     ]
    }
   ],
   "source": [
    "!bash confidence_intervals.sh -t ../OpenNMT-py/turkish_ouputs/2012_expanded -r ../IWSLT_tr/tmp/IWSLT14.TED.tst2012.tr-en.en -l en -n 2000"
   ]
  },
  {
   "cell_type": "code",
   "execution_count": 3,
   "metadata": {},
   "outputs": [
    {
     "name": "stdout",
     "output_type": "stream",
     "text": [
      "Reading reference translations from ../IWSLT_tr/tmp/IWSLT14.TED.tst2010.tr-en.en...\n",
      "Reading hypotheses from ../OpenNMT-py/turkish_ouputs/2010_iwslt_tr_en_50_transformer_sensitive_param_v2_fix_emb_expanded.txt...\n",
      "Computing confidence intervals with 3 digits of precision...\n",
      "....................\n",
      "                                          [ from -- to ]    ( average +- interval )\n",
      "Confidence intervals for candidate hypotheses:\n",
      "BLEU   95.0% confidence interval:           17.8000 -- 19.4000 ( 18.5805 +- 0.7949 ) - BLEU stdev: 0.4073 \n",
      "BP     95.0% confidence interval:           0.9130 --  0.9390 ( 0.9257 +- 0.0129 ) \n",
      "TER    95.0% confidence interval:           63.1000 -- 65.0000 ( 64.0450 +- 0.9382 ) - TER stdev: 0.4864 \n",
      "METEOR 95.0% confidence interval:           28.1000 -- 29.6000 ( 28.8415 +- 0.7606 ) - METEOR stdev: 0.3941 \n"
     ]
    }
   ],
   "source": [
    "!bash confidence_intervals.sh -t ../OpenNMT-py/turkish_ouputs/2010_iwslt_tr_en_50_transformer_sensitive_param_v2_fix_emb_expanded.txt -r ../IWSLT_tr/tmp/IWSLT14.TED.tst2010.tr-en.en -l en -n 2000"
   ]
  },
  {
   "cell_type": "code",
   "execution_count": 4,
   "metadata": {},
   "outputs": [
    {
     "name": "stdout",
     "output_type": "stream",
     "text": [
      "Reading reference translations from ../IWSLT_tr/tmp/IWSLT14.TED.tst2011.tr-en.en...\n",
      "Reading hypotheses from ../OpenNMT-py/turkish_ouputs/2011_iwslt_tr_en_50_transformer_sensitive_param_v2_fix_emb_expanded.txt...\n",
      "Computing confidence intervals with 3 digits of precision...\n",
      "....................\n",
      "                                          [ from -- to ]    ( average +- interval )\n",
      "Confidence intervals for candidate hypotheses:\n",
      "BLEU   95.0% confidence interval:           18.9000 -- 20.7000 ( 19.7903 +- 0.9216 ) - BLEU stdev: 0.4662 \n",
      "BP     95.0% confidence interval:           0.9270 --  0.9520 ( 0.9395 +- 0.0129 ) \n",
      "TER    95.0% confidence interval:           61.9000 -- 64.1000 ( 63.0099 +- 1.0880 ) - TER stdev: 0.5433 \n",
      "METEOR 95.0% confidence interval:           28.4000 -- 30.3000 ( 29.3599 +- 0.9533 ) - METEOR stdev: 0.4750 \n"
     ]
    }
   ],
   "source": [
    "!bash confidence_intervals.sh -t ../OpenNMT-py/turkish_ouputs/2011_iwslt_tr_en_50_transformer_sensitive_param_v2_fix_emb_expanded.txt -r ../IWSLT_tr/tmp/IWSLT14.TED.tst2011.tr-en.en -l en -n 2000"
   ]
  },
  {
   "cell_type": "code",
   "execution_count": 5,
   "metadata": {},
   "outputs": [
    {
     "name": "stdout",
     "output_type": "stream",
     "text": [
      "Reading reference translations from ../IWSLT_tr/tmp/IWSLT14.TED.tst2012.tr-en.en...\n",
      "Reading hypotheses from ../OpenNMT-py/turkish_ouputs/2012_iwslt_tr_en_50_transformer_sensitive_param_v2_fix_emb_expanded.txt...\n",
      "Computing confidence intervals with 3 digits of precision...\n",
      "....................\n",
      "                                          [ from -- to ]    ( average +- interval )\n",
      "Confidence intervals for candidate hypotheses:\n",
      "BLEU   95.0% confidence interval:           19.5000 -- 21.1000 ( 20.2733 +- 0.8097 ) - BLEU stdev: 0.4062 \n",
      "BP     95.0% confidence interval:           0.9160 --  0.9390 ( 0.9274 +- 0.0117 ) \n",
      "TER    95.0% confidence interval:           61.0000 -- 62.9000 ( 61.9478 +- 0.9846 ) - TER stdev: 0.5112 \n",
      "METEOR 95.0% confidence interval:           28.4000 -- 30.0000 ( 29.2238 +- 0.7975 ) - METEOR stdev: 0.3967 \n"
     ]
    }
   ],
   "source": [
    "!bash confidence_intervals.sh -t ../OpenNMT-py/turkish_ouputs/2012_iwslt_tr_en_50_transformer_sensitive_param_v2_fix_emb_expanded.txt -r ../IWSLT_tr/tmp/IWSLT14.TED.tst2012.tr-en.en -l en -n 2000"
   ]
  },
  {
   "cell_type": "code",
   "execution_count": 6,
   "metadata": {},
   "outputs": [
    {
     "name": "stdout",
     "output_type": "stream",
     "text": [
      "Reading reference translations from ../IWSLT_tr/tmp/IWSLT14.TED.tst2010.tr-en.en...\n",
      "Reading hypotheses from ../OpenNMT-py/turkish_ouputs/2010_iwslt_tr_en_50_transformer_sensitive_param_v2__.txt...\n",
      "Computing confidence intervals with 3 digits of precision...\n",
      "....................\n",
      "                                          [ from -- to ]    ( average +- interval )\n",
      "Confidence intervals for candidate hypotheses:\n",
      "BLEU   95.0% confidence interval:           12.0000 -- 13.3000 ( 12.6638 +- 0.6418 ) - BLEU stdev: 0.3380 \n",
      "BP     95.0% confidence interval:           0.8490 --  0.8780 ( 0.8636 +- 0.0143 ) \n",
      "TER    95.0% confidence interval:           69.9000 -- 71.7000 ( 70.8158 +- 0.9104 ) - TER stdev: 0.4619 \n",
      "METEOR 95.0% confidence interval:           22.6000 -- 24.1000 ( 23.3429 +- 0.7304 ) - METEOR stdev: 0.3736 \n"
     ]
    }
   ],
   "source": [
    "!bash confidence_intervals.sh -t ../OpenNMT-py/turkish_ouputs/2010_iwslt_tr_en_50_transformer_sensitive_param_v2__.txt -r ../IWSLT_tr/tmp/IWSLT14.TED.tst2010.tr-en.en -l en -n 2000"
   ]
  },
  {
   "cell_type": "code",
   "execution_count": 7,
   "metadata": {},
   "outputs": [
    {
     "name": "stdout",
     "output_type": "stream",
     "text": [
      "Reading reference translations from ../IWSLT_tr/tmp/IWSLT14.TED.tst2011.tr-en.en...\n",
      "Reading hypotheses from ../OpenNMT-py/turkish_ouputs/2011_iwslt_tr_en_50_transformer_sensitive_param_v2__.txt...\n",
      "Computing confidence intervals with 3 digits of precision...\n",
      "....................\n",
      "                                          [ from -- to ]    ( average +- interval )\n",
      "Confidence intervals for candidate hypotheses:\n",
      "BLEU   95.0% confidence interval:           12.8000 -- 14.3000 ( 13.5114 +- 0.7598 ) - BLEU stdev: 0.3887 \n",
      "BP     95.0% confidence interval:           0.8630 --  0.8910 ( 0.8771 +- 0.0142 ) \n",
      "TER    95.0% confidence interval:           68.8000 -- 70.8000 ( 69.8135 +- 0.9920 ) - TER stdev: 0.5054 \n",
      "METEOR 95.0% confidence interval:           22.9000 -- 24.7000 ( 23.8117 +- 0.8961 ) - METEOR stdev: 0.4457 \n"
     ]
    }
   ],
   "source": [
    "!bash confidence_intervals.sh -t ../OpenNMT-py/turkish_ouputs/2011_iwslt_tr_en_50_transformer_sensitive_param_v2__.txt -r ../IWSLT_tr/tmp/IWSLT14.TED.tst2011.tr-en.en -l en -n 2000"
   ]
  },
  {
   "cell_type": "code",
   "execution_count": 8,
   "metadata": {},
   "outputs": [
    {
     "name": "stdout",
     "output_type": "stream",
     "text": [
      "Reading reference translations from ../IWSLT_tr/tmp/IWSLT14.TED.tst2012.tr-en.en...\n",
      "Reading hypotheses from ../OpenNMT-py/turkish_ouputs/2012_iwslt_tr_en_50_transformer_sensitive_param_v2__.txt...\n",
      "Computing confidence intervals with 3 digits of precision...\n",
      "....................\n",
      "                                          [ from -- to ]    ( average +- interval )\n",
      "Confidence intervals for candidate hypotheses:\n",
      "BLEU   95.0% confidence interval:           12.6000 -- 13.9000 ( 13.2713 +- 0.6625 ) - BLEU stdev: 0.3353 \n",
      "BP     95.0% confidence interval:           0.8450 --  0.8680 ( 0.8567 +- 0.0113 ) \n",
      "TER    95.0% confidence interval:           68.5000 -- 70.2000 ( 69.3739 +- 0.8294 ) - TER stdev: 0.4278 \n",
      "METEOR 95.0% confidence interval:           22.0000 -- 23.4000 ( 22.7219 +- 0.6941 ) - METEOR stdev: 0.3477 \n"
     ]
    }
   ],
   "source": [
    "!bash confidence_intervals.sh -t ../OpenNMT-py/turkish_ouputs/2012_iwslt_tr_en_50_transformer_sensitive_param_v2__.txt -r ../IWSLT_tr/tmp/IWSLT14.TED.tst2012.tr-en.en -l en -n 2000"
   ]
  },
  {
   "cell_type": "code",
   "execution_count": null,
   "metadata": {},
   "outputs": [
    {
     "name": "stdout",
     "output_type": "stream",
     "text": [
      "Reading reference translations from ../IWSLT_tr/tmp/IWSLT14.TED.tst2010.tr-en.en...\n",
      "Reading hypotheses from ../OpenNMT-py/turkish_ouputs/2010_iwslt_tr_en_50_transformer_sensitive_param_v2_fix_emb_.txt...\n",
      "Computing confidence intervals with 3 digits of precision...\n",
      "....................\n",
      "                                          [ from -- to ]    ( average +- interval )\n",
      "Confidence intervals for candidate hypotheses:\n",
      "BLEU   95.0% confidence interval:           16.3000 -- 17.8000 ( 17.0305 +- 0.7707 ) - BLEU stdev: 0.3875 \n",
      "BP     95.0% confidence interval:           0.9400 --  0.9680 ( 0.9542 +- 0.0141 ) \n",
      "TER    95.0% confidence interval:           66.9000 -- 69.0000 ( 67.9133 +- 1.0467 ) - TER stdev: 0.5264 \n",
      "METEOR 95.0% confidence interval:           26.6000 -- 28.1000 ( 27.3708 +- 0.7451 ) - METEOR stdev: 0.3919 \n"
     ]
    }
   ],
   "source": [
    "!bash confidence_intervals.sh -t ../OpenNMT-py/turkish_ouputs/2010_iwslt_tr_en_50_transformer_sensitive_param_v2_fix_emb_.txt -r ../IWSLT_tr/tmp/IWSLT14.TED.tst2010.tr-en.en -l en -n 2000"
   ]
  },
  {
   "cell_type": "code",
   "execution_count": 12,
   "metadata": {},
   "outputs": [
    {
     "name": "stdout",
     "output_type": "stream",
     "text": [
      "Reading reference translations from ../IWSLT_tr/tmp/IWSLT14.TED.tst2011.tr-en.en...\n",
      "Reading hypotheses from ../OpenNMT-py/turkish_ouputs/2011_iwslt_tr_en_50_transformer_sensitive_param_v2_fix_emb_.txt...\n",
      "Computing confidence intervals with 3 digits of precision...\n",
      "....................\n",
      "                                          [ from -- to ]    ( average +- interval )\n",
      "Confidence intervals for candidate hypotheses:\n",
      "BLEU   95.0% confidence interval:           17.2000 -- 19.0000 ( 18.0896 +- 0.8642 ) - BLEU stdev: 0.4425 \n",
      "BP     95.0% confidence interval:           0.9620 --  0.9940 ( 0.9781 +- 0.0164 ) \n",
      "TER    95.0% confidence interval:           66.2000 -- 68.8000 ( 67.5395 +- 1.3063 ) - TER stdev: 0.6788 \n",
      "METEOR 95.0% confidence interval:           27.0000 -- 28.7000 ( 27.8131 +- 0.8487 ) - METEOR stdev: 0.4565 \n"
     ]
    }
   ],
   "source": [
    "!bash confidence_intervals.sh -t ../OpenNMT-py/turkish_ouputs/2011_iwslt_tr_en_50_transformer_sensitive_param_v2_fix_emb_.txt -r ../IWSLT_tr/tmp/IWSLT14.TED.tst2011.tr-en.en -l en -n 2000"
   ]
  },
  {
   "cell_type": "code",
   "execution_count": 13,
   "metadata": {},
   "outputs": [
    {
     "name": "stdout",
     "output_type": "stream",
     "text": [
      "Reading reference translations from ../IWSLT_tr/tmp/IWSLT14.TED.tst2012.tr-en.en...\n",
      "Reading hypotheses from ../OpenNMT-py/turkish_ouputs/2012_iwslt_tr_en_50_transformer_sensitive_param_v2_fix_emb_.txt...\n",
      "Computing confidence intervals with 3 digits of precision...\n",
      "....................\n",
      "                                          [ from -- to ]    ( average +- interval )\n",
      "Confidence intervals for candidate hypotheses:\n",
      "BLEU   95.0% confidence interval:           18.1000 -- 19.7000 ( 18.8948 +- 0.7734 ) - BLEU stdev: 0.4024 \n",
      "BP     95.0% confidence interval:           0.9540 --  0.9790 ( 0.9668 +- 0.0126 ) \n",
      "TER    95.0% confidence interval:           65.5000 -- 67.6000 ( 66.5236 +- 1.0598 ) - TER stdev: 0.5384 \n",
      "METEOR 95.0% confidence interval:           26.9000 -- 28.4000 ( 27.6737 +- 0.7333 ) - METEOR stdev: 0.3774 \n"
     ]
    }
   ],
   "source": [
    "!bash confidence_intervals.sh -t ../OpenNMT-py/turkish_ouputs/2012_iwslt_tr_en_50_transformer_sensitive_param_v2_fix_emb_.txt -r ../IWSLT_tr/tmp/IWSLT14.TED.tst2012.tr-en.en -l en -n 2000"
   ]
  },
  {
   "cell_type": "code",
   "execution_count": null,
   "metadata": {},
   "outputs": [],
   "source": []
  }
 ],
 "metadata": {
  "kernelspec": {
   "display_name": "Python 3",
   "language": "python",
   "name": "python3"
  },
  "language_info": {
   "codemirror_mode": {
    "name": "ipython",
    "version": 3
   },
   "file_extension": ".py",
   "mimetype": "text/x-python",
   "name": "python",
   "nbconvert_exporter": "python",
   "pygments_lexer": "ipython3",
   "version": "3.6.4"
  }
 },
 "nbformat": 4,
 "nbformat_minor": 2
}
