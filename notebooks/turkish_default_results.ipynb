{
 "cells": [
  {
   "cell_type": "markdown",
   "metadata": {},
   "source": [
    "## Results\n",
    ">> BLEU = 15.60, 49.7/21.6/10.6/5.4 (BP=0.989, ratio=0.989, hyp_len=31674, ref_len=32011)\n",
    ">> BLEU = 15.79, 49.7/21.4/10.6/5.5 (BP=1.000, ratio=1.004, hyp_len=24767, ref_len=24676)\n",
    ">> BLEU = 16.06, 50.4/21.9/11.1/5.8 (BP=0.986, ratio=0.986, hyp_len=30216, ref_len=30644)"
   ]
  },
  {
   "cell_type": "code",
   "execution_count": 2,
   "metadata": {},
   "outputs": [
    {
     "name": "stdout",
     "output_type": "stream",
     "text": [
      "Loading model parameters.\n"
     ]
    },
    {
     "name": "stderr",
     "output_type": "stream",
     "text": [
      "/home/raja/OpenNMT-py/onmt/modules/GlobalAttention.py:177: UserWarning: Implicit dimension choice for softmax has been deprecated. Change the call to include dim=X as an argument.\n",
      "  align_vectors = self.sm(align.view(batch*targetL, sourceL))\n",
      "/home/raja/anaconda3/envs/opennmt/lib/python3.6/site-packages/torch/nn/modules/container.py:67: UserWarning: Implicit dimension choice for log_softmax has been deprecated. Change the call to include dim=X as an argument.\n",
      "  input = module(input)\n",
      "/home/raja/anaconda3/envs/opennmt/lib/python3.6/site-packages/torch/tensor.py:297: UserWarning: other is not broadcastable to self, but they have the same number of elements.  Falling back to deprecated pointwise behavior.\n",
      "  return self.add_(other)\n",
      "/home/raja/OpenNMT-py/translate.py:104: DeprecationWarning: generator 'Iterator.__iter__' raised StopIteration\n",
      "  for batch in data_iter:\n"
     ]
    },
    {
     "name": "stdout",
     "output_type": "stream",
     "text": [
      "PRED AVG SCORE: -0.8262, PRED PPL: 2.2846\n",
      "GOLD AVG SCORE: -3.1799, GOLD PPL: 24.0450\n",
      "\n",
      ">> BLEU = 15.60, 49.7/21.6/10.6/5.4 (BP=0.989, ratio=0.989, hyp_len=31674, ref_len=32011)\n"
     ]
    }
   ],
   "source": [
    "%run ./translate.py -model turkish_models/iwslt_tr_en_default_acc_48.96_ppl_19.76_e20.pt -src ../IWSLT_tr/tmp/IWSLT14.TED.tst2010.tr-en.tr -tgt ../IWSLT_tr/tmp/IWSLT14.TED.tst2010.tr-en.en -output turkish_ouputs/iwslt_tr_en_default_acc_48.96_ppl_19.76_e20.pt.txt -replace_unk -report_bleu -gpu 0"
   ]
  },
  {
   "cell_type": "code",
   "execution_count": 3,
   "metadata": {},
   "outputs": [
    {
     "name": "stdout",
     "output_type": "stream",
     "text": [
      "Loading model parameters.\n"
     ]
    },
    {
     "name": "stderr",
     "output_type": "stream",
     "text": [
      "/home/raja/OpenNMT-py/onmt/modules/GlobalAttention.py:177: UserWarning: Implicit dimension choice for softmax has been deprecated. Change the call to include dim=X as an argument.\n",
      "  align_vectors = self.sm(align.view(batch*targetL, sourceL))\n",
      "/home/raja/anaconda3/envs/opennmt/lib/python3.6/site-packages/torch/nn/modules/container.py:67: UserWarning: Implicit dimension choice for log_softmax has been deprecated. Change the call to include dim=X as an argument.\n",
      "  input = module(input)\n",
      "/home/raja/anaconda3/envs/opennmt/lib/python3.6/site-packages/torch/tensor.py:297: UserWarning: other is not broadcastable to self, but they have the same number of elements.  Falling back to deprecated pointwise behavior.\n",
      "  return self.add_(other)\n",
      "/home/raja/OpenNMT-py/translate.py:104: DeprecationWarning: generator 'Iterator.__iter__' raised StopIteration\n",
      "  for batch in data_iter:\n"
     ]
    },
    {
     "name": "stdout",
     "output_type": "stream",
     "text": [
      "PRED AVG SCORE: -0.8172, PRED PPL: 2.2641\n",
      "GOLD AVG SCORE: -3.2188, GOLD PPL: 24.9978\n",
      "\n",
      ">> BLEU = 15.79, 49.7/21.4/10.6/5.5 (BP=1.000, ratio=1.004, hyp_len=24767, ref_len=24676)\n"
     ]
    }
   ],
   "source": [
    "%run ./translate.py -model turkish_models/iwslt_tr_en_default_acc_48.96_ppl_19.76_e20.pt -src ../IWSLT_tr/tmp/IWSLT14.TED.tst2011.tr-en.tr -tgt ../IWSLT_tr/tmp/IWSLT14.TED.tst2011.tr-en.en -output turkish_ouputs/2011_iwslt_tr_en_default_acc_48.96_ppl_19.76_e20.pt.txt -replace_unk -report_bleu -gpu 0"
   ]
  },
  {
   "cell_type": "code",
   "execution_count": 4,
   "metadata": {},
   "outputs": [
    {
     "name": "stdout",
     "output_type": "stream",
     "text": [
      "Loading model parameters.\n"
     ]
    },
    {
     "name": "stderr",
     "output_type": "stream",
     "text": [
      "/home/raja/OpenNMT-py/onmt/modules/GlobalAttention.py:177: UserWarning: Implicit dimension choice for softmax has been deprecated. Change the call to include dim=X as an argument.\n",
      "  align_vectors = self.sm(align.view(batch*targetL, sourceL))\n",
      "/home/raja/anaconda3/envs/opennmt/lib/python3.6/site-packages/torch/nn/modules/container.py:67: UserWarning: Implicit dimension choice for log_softmax has been deprecated. Change the call to include dim=X as an argument.\n",
      "  input = module(input)\n",
      "/home/raja/anaconda3/envs/opennmt/lib/python3.6/site-packages/torch/tensor.py:297: UserWarning: other is not broadcastable to self, but they have the same number of elements.  Falling back to deprecated pointwise behavior.\n",
      "  return self.add_(other)\n",
      "/home/raja/OpenNMT-py/translate.py:104: DeprecationWarning: generator 'Iterator.__iter__' raised StopIteration\n",
      "  for batch in data_iter:\n"
     ]
    },
    {
     "name": "stdout",
     "output_type": "stream",
     "text": [
      "PRED AVG SCORE: -0.8139, PRED PPL: 2.2567\n",
      "GOLD AVG SCORE: -3.2137, GOLD PPL: 24.8718\n",
      "\n",
      ">> BLEU = 16.06, 50.4/21.9/11.1/5.8 (BP=0.986, ratio=0.986, hyp_len=30216, ref_len=30644)\n"
     ]
    }
   ],
   "source": [
    "%run ./translate.py -model turkish_models/iwslt_tr_en_default_acc_48.96_ppl_19.76_e20.pt -src ../IWSLT_tr/tmp/IWSLT14.TED.tst2012.tr-en.tr -tgt ../IWSLT_tr/tmp/IWSLT14.TED.tst2012.tr-en.en -output turkish_ouputs/2012_iwslt_tr_en_default_acc_48.96_ppl_19.76_e20.pt.txt -replace_unk -report_bleu -gpu 0"
   ]
  },
  {
   "cell_type": "code",
   "execution_count": 1,
   "metadata": {},
   "outputs": [
    {
     "name": "stdout",
     "output_type": "stream",
     "text": [
      "Loading model parameters.\n",
      "average src size 14.839923469387756 1568\n"
     ]
    },
    {
     "name": "stderr",
     "output_type": "stream",
     "text": [
      "/home/raja/OpenNMT-py/onmt/modules/GlobalAttention.py:176: UserWarning: Implicit dimension choice for softmax has been deprecated. Change the call to include dim=X as an argument.\n",
      "  align_vectors = self.sm(align.view(batch*targetL, sourceL))\n",
      "/home/raja/anaconda3/envs/opennmt/lib/python3.6/site-packages/torch/nn/modules/container.py:67: UserWarning: Implicit dimension choice for log_softmax has been deprecated. Change the call to include dim=X as an argument.\n",
      "  input = module(input)\n",
      "/home/raja/anaconda3/envs/opennmt/lib/python3.6/site-packages/torch/tensor.py:297: UserWarning: other is not broadcastable to self, but they have the same number of elements.  Falling back to deprecated pointwise behavior.\n",
      "  return self.add_(other)\n",
      "/home/raja/OpenNMT-py/translate.py:115: DeprecationWarning: generator 'Iterator.__iter__' raised StopIteration\n",
      "  for batch in data_iter:\n"
     ]
    },
    {
     "name": "stdout",
     "output_type": "stream",
     "text": [
      "PRED AVG SCORE: -0.7905, PRED PPL: 2.2045\n",
      "GOLD AVG SCORE: -2.6289, GOLD PPL: 13.8581\n",
      "\n",
      ">> BLEU = 17.61, 54.1/25.0/13.0/7.1 (BP=0.938, ratio=0.939, hyp_len=30073, ref_len=32011)\n"
     ]
    }
   ],
   "source": [
    "%run ./translate.py -model turkish_models/iwslt_setimes_tr_en_50k_default_acc_60.18_ppl_8.06_e13.pt -src ../IWSLT_tr/tmp/IWSLT14.TED.tst2010.tr-en.tr -tgt ../IWSLT_tr/tmp/IWSLT14.TED.tst2010.tr-en.en -output turkish_outputs/2010_iwslt_setimes_tr_en_50k_default_acc_60.18_ppl_8.06_e13.pt.txt -replace_unk -report_bleu -gpu 0"
   ]
  },
  {
   "cell_type": "code",
   "execution_count": 2,
   "metadata": {},
   "outputs": [
    {
     "name": "stdout",
     "output_type": "stream",
     "text": [
      "Loading model parameters.\n",
      "average src size 14.03582554517134 1284\n"
     ]
    },
    {
     "name": "stderr",
     "output_type": "stream",
     "text": [
      "/home/raja/OpenNMT-py/onmt/modules/GlobalAttention.py:176: UserWarning: Implicit dimension choice for softmax has been deprecated. Change the call to include dim=X as an argument.\n",
      "  align_vectors = self.sm(align.view(batch*targetL, sourceL))\n",
      "/home/raja/anaconda3/envs/opennmt/lib/python3.6/site-packages/torch/nn/modules/container.py:67: UserWarning: Implicit dimension choice for log_softmax has been deprecated. Change the call to include dim=X as an argument.\n",
      "  input = module(input)\n",
      "/home/raja/anaconda3/envs/opennmt/lib/python3.6/site-packages/torch/tensor.py:297: UserWarning: other is not broadcastable to self, but they have the same number of elements.  Falling back to deprecated pointwise behavior.\n",
      "  return self.add_(other)\n",
      "/home/raja/OpenNMT-py/translate.py:115: DeprecationWarning: generator 'Iterator.__iter__' raised StopIteration\n",
      "  for batch in data_iter:\n"
     ]
    },
    {
     "name": "stdout",
     "output_type": "stream",
     "text": [
      "PRED AVG SCORE: -0.7848, PRED PPL: 2.1920\n",
      "GOLD AVG SCORE: -2.6170, GOLD PPL: 13.6945\n",
      "\n",
      ">> BLEU = 18.28, 54.4/25.2/13.3/7.5 (BP=0.951, ratio=0.952, hyp_len=23497, ref_len=24676)\n"
     ]
    }
   ],
   "source": [
    "%run ./translate.py -model turkish_models/iwslt_setimes_tr_en_50k_default_acc_60.18_ppl_8.06_e13.pt -src ../IWSLT_tr/tmp/IWSLT14.TED.tst2011.tr-en.tr -tgt ../IWSLT_tr/tmp/IWSLT14.TED.tst2011.tr-en.en -output turkish_outputs/2011_iwslt_setimes_tr_en_50k_default_acc_60.18_ppl_8.06_e13.pt.txt -replace_unk -report_bleu -gpu 0"
   ]
  },
  {
   "cell_type": "code",
   "execution_count": 3,
   "metadata": {},
   "outputs": [
    {
     "name": "stdout",
     "output_type": "stream",
     "text": [
      "Loading model parameters.\n",
      "average src size 12.941558441558442 1694\n"
     ]
    },
    {
     "name": "stderr",
     "output_type": "stream",
     "text": [
      "/home/raja/OpenNMT-py/onmt/modules/GlobalAttention.py:176: UserWarning: Implicit dimension choice for softmax has been deprecated. Change the call to include dim=X as an argument.\n",
      "  align_vectors = self.sm(align.view(batch*targetL, sourceL))\n",
      "/home/raja/anaconda3/envs/opennmt/lib/python3.6/site-packages/torch/nn/modules/container.py:67: UserWarning: Implicit dimension choice for log_softmax has been deprecated. Change the call to include dim=X as an argument.\n",
      "  input = module(input)\n",
      "/home/raja/anaconda3/envs/opennmt/lib/python3.6/site-packages/torch/tensor.py:297: UserWarning: other is not broadcastable to self, but they have the same number of elements.  Falling back to deprecated pointwise behavior.\n",
      "  return self.add_(other)\n",
      "/home/raja/OpenNMT-py/translate.py:115: DeprecationWarning: generator 'Iterator.__iter__' raised StopIteration\n",
      "  for batch in data_iter:\n"
     ]
    },
    {
     "name": "stdout",
     "output_type": "stream",
     "text": [
      "PRED AVG SCORE: -0.7754, PRED PPL: 2.1715\n",
      "GOLD AVG SCORE: -2.5690, GOLD PPL: 13.0526\n",
      "\n",
      ">> BLEU = 18.92, 55.0/26.0/14.3/8.1 (BP=0.938, ratio=0.940, hyp_len=28792, ref_len=30644)\n"
     ]
    }
   ],
   "source": [
    "%run ./translate.py -model turkish_models/iwslt_setimes_tr_en_50k_default_acc_60.18_ppl_8.06_e13.pt -src ../IWSLT_tr/tmp/IWSLT14.TED.tst2012.tr-en.tr -tgt ../IWSLT_tr/tmp/IWSLT14.TED.tst2012.tr-en.en -output turkish_outputs/2012_iwslt_setimes_tr_en_50k_default_acc_60.18_ppl_8.06_e13.pt.txt -replace_unk -report_bleu -gpu 0"
   ]
  },
  {
   "cell_type": "code",
   "execution_count": 5,
   "metadata": {},
   "outputs": [
    {
     "name": "stdout",
     "output_type": "stream",
     "text": [
      "Loading model parameters.\n",
      "average src size 14.839923469387756 1568\n"
     ]
    },
    {
     "name": "stderr",
     "output_type": "stream",
     "text": [
      "/home/raja/OpenNMT-py/onmt/modules/GlobalAttention.py:176: UserWarning: Implicit dimension choice for softmax has been deprecated. Change the call to include dim=X as an argument.\n",
      "  align_vectors = self.sm(align.view(batch*targetL, sourceL))\n",
      "/home/raja/anaconda3/envs/opennmt/lib/python3.6/site-packages/torch/nn/modules/container.py:67: UserWarning: Implicit dimension choice for log_softmax has been deprecated. Change the call to include dim=X as an argument.\n",
      "  input = module(input)\n",
      "/home/raja/anaconda3/envs/opennmt/lib/python3.6/site-packages/torch/tensor.py:297: UserWarning: other is not broadcastable to self, but they have the same number of elements.  Falling back to deprecated pointwise behavior.\n",
      "  return self.add_(other)\n",
      "/home/raja/OpenNMT-py/translate.py:115: DeprecationWarning: generator 'Iterator.__iter__' raised StopIteration\n",
      "  for batch in data_iter:\n"
     ]
    },
    {
     "name": "stdout",
     "output_type": "stream",
     "text": [
      "PRED AVG SCORE: -0.8004, PRED PPL: 2.2264\n",
      "GOLD AVG SCORE: -2.5598, GOLD PPL: 12.9328\n",
      "\n",
      ">> BLEU = 17.40, 54.5/25.2/13.3/7.3 (BP=0.912, ratio=0.915, hyp_len=29303, ref_len=32011)\n"
     ]
    }
   ],
   "source": [
    "%run ./translate.py -model turkish_models/iwslt14_setimes_tr-en.50k_emb_acc_60.21_ppl_7.66_e13.pt -src ../IWSLT_tr/tmp/IWSLT14.TED.tst2010.tr-en.tr -tgt ../IWSLT_tr/tmp/IWSLT14.TED.tst2010.tr-en.en -output turkish_outputs/2010_iwslt14_setimes_tr-en.50k_emb_acc_60.21_ppl_7.66_e13.pt.txt -replace_unk -report_bleu -gpu 0"
   ]
  },
  {
   "cell_type": "code",
   "execution_count": 6,
   "metadata": {},
   "outputs": [
    {
     "name": "stdout",
     "output_type": "stream",
     "text": [
      "Loading model parameters.\n",
      "average src size 14.03582554517134 1284\n"
     ]
    },
    {
     "name": "stderr",
     "output_type": "stream",
     "text": [
      "/home/raja/OpenNMT-py/onmt/modules/GlobalAttention.py:176: UserWarning: Implicit dimension choice for softmax has been deprecated. Change the call to include dim=X as an argument.\n",
      "  align_vectors = self.sm(align.view(batch*targetL, sourceL))\n",
      "/home/raja/anaconda3/envs/opennmt/lib/python3.6/site-packages/torch/nn/modules/container.py:67: UserWarning: Implicit dimension choice for log_softmax has been deprecated. Change the call to include dim=X as an argument.\n",
      "  input = module(input)\n",
      "/home/raja/anaconda3/envs/opennmt/lib/python3.6/site-packages/torch/tensor.py:297: UserWarning: other is not broadcastable to self, but they have the same number of elements.  Falling back to deprecated pointwise behavior.\n",
      "  return self.add_(other)\n",
      "/home/raja/OpenNMT-py/translate.py:115: DeprecationWarning: generator 'Iterator.__iter__' raised StopIteration\n",
      "  for batch in data_iter:\n"
     ]
    },
    {
     "name": "stdout",
     "output_type": "stream",
     "text": [
      "PRED AVG SCORE: -0.7778, PRED PPL: 2.1768\n",
      "GOLD AVG SCORE: -2.5357, GOLD PPL: 12.6253\n",
      "\n",
      ">> BLEU = 18.61, 55.7/26.1/14.2/8.0 (BP=0.921, ratio=0.924, hyp_len=22811, ref_len=24676)\n"
     ]
    }
   ],
   "source": [
    "%run ./translate.py -model turkish_models/iwslt14_setimes_tr-en.50k_emb_acc_60.21_ppl_7.66_e13.pt -src ../IWSLT_tr/tmp/IWSLT14.TED.tst2011.tr-en.tr -tgt ../IWSLT_tr/tmp/IWSLT14.TED.tst2011.tr-en.en -output turkish_outputs/2011_iwslt14_setimes_tr-en.50k_emb_acc_60.21_ppl_7.66_e13.pt.txt -replace_unk -report_bleu -gpu 0"
   ]
  },
  {
   "cell_type": "code",
   "execution_count": 7,
   "metadata": {},
   "outputs": [
    {
     "name": "stdout",
     "output_type": "stream",
     "text": [
      "Loading model parameters.\n",
      "average src size 12.941558441558442 1694\n"
     ]
    },
    {
     "name": "stderr",
     "output_type": "stream",
     "text": [
      "/home/raja/OpenNMT-py/onmt/modules/GlobalAttention.py:176: UserWarning: Implicit dimension choice for softmax has been deprecated. Change the call to include dim=X as an argument.\n",
      "  align_vectors = self.sm(align.view(batch*targetL, sourceL))\n",
      "/home/raja/anaconda3/envs/opennmt/lib/python3.6/site-packages/torch/nn/modules/container.py:67: UserWarning: Implicit dimension choice for log_softmax has been deprecated. Change the call to include dim=X as an argument.\n",
      "  input = module(input)\n",
      "/home/raja/anaconda3/envs/opennmt/lib/python3.6/site-packages/torch/tensor.py:297: UserWarning: other is not broadcastable to self, but they have the same number of elements.  Falling back to deprecated pointwise behavior.\n",
      "  return self.add_(other)\n",
      "/home/raja/OpenNMT-py/translate.py:115: DeprecationWarning: generator 'Iterator.__iter__' raised StopIteration\n",
      "  for batch in data_iter:\n"
     ]
    },
    {
     "name": "stdout",
     "output_type": "stream",
     "text": [
      "PRED AVG SCORE: -0.7799, PRED PPL: 2.1812\n",
      "GOLD AVG SCORE: -2.4950, GOLD PPL: 12.1222\n",
      "\n",
      ">> BLEU = 19.13, 56.1/27.0/15.0/8.6 (BP=0.909, ratio=0.913, hyp_len=27981, ref_len=30644)\n"
     ]
    }
   ],
   "source": [
    "%run ./translate.py -model turkish_models/iwslt14_setimes_tr-en.50k_emb_acc_60.21_ppl_7.66_e13.pt -src ../IWSLT_tr/tmp/IWSLT14.TED.tst2012.tr-en.tr -tgt ../IWSLT_tr/tmp/IWSLT14.TED.tst2012.tr-en.en -output turkish_outputs/2012_iwslt14_setimes_tr-en.50k_emb_acc_60.21_ppl_7.66_e13.pt.txt -replace_unk -report_bleu -gpu 0"
   ]
  },
  {
   "cell_type": "markdown",
   "metadata": {},
   "source": [
    "## 100k "
   ]
  },
  {
   "cell_type": "code",
   "execution_count": 2,
   "metadata": {},
   "outputs": [
    {
     "name": "stdout",
     "output_type": "stream",
     "text": [
      "Loading model parameters.\n",
      "average src size 14.839923469387756 1568\n"
     ]
    },
    {
     "name": "stderr",
     "output_type": "stream",
     "text": [
      "/home/raja/OpenNMT-py/onmt/modules/GlobalAttention.py:176: UserWarning: Implicit dimension choice for softmax has been deprecated. Change the call to include dim=X as an argument.\n",
      "  align_vectors = self.sm(align.view(batch*targetL, sourceL))\n",
      "/home/raja/anaconda3/envs/opennmt/lib/python3.6/site-packages/torch/nn/modules/container.py:67: UserWarning: Implicit dimension choice for log_softmax has been deprecated. Change the call to include dim=X as an argument.\n",
      "  input = module(input)\n",
      "/home/raja/anaconda3/envs/opennmt/lib/python3.6/site-packages/torch/tensor.py:297: UserWarning: other is not broadcastable to self, but they have the same number of elements.  Falling back to deprecated pointwise behavior.\n",
      "  return self.add_(other)\n",
      "/home/raja/OpenNMT-py/translate.py:115: DeprecationWarning: generator 'Iterator.__iter__' raised StopIteration\n",
      "  for batch in data_iter:\n"
     ]
    },
    {
     "name": "stdout",
     "output_type": "stream",
     "text": [
      "PRED AVG SCORE: -0.7796, PRED PPL: 2.1806\n",
      "GOLD AVG SCORE: -2.5801, GOLD PPL: 13.1982\n",
      "\n",
      ">> BLEU = 18.40, 55.8/26.4/14.1/7.7 (BP=0.921, ratio=0.924, hyp_len=29570, ref_len=32011)\n"
     ]
    }
   ],
   "source": [
    "%run ./translate.py -model turkish_models/iwslt14_setimes_tr-en.100k_emb_acc_60.86_ppl_7.83_e13.pt -src ../IWSLT_tr/tmp/IWSLT14.TED.tst2010.tr-en.tr -tgt ../IWSLT_tr/tmp/IWSLT14.TED.tst2010.tr-en.en -output turkish_outputs/2010_iwslt14_setimes_tr-en.100k_emb_acc_60.86_ppl_7.83_e13.pt.txt -replace_unk -report_bleu -gpu 0"
   ]
  },
  {
   "cell_type": "code",
   "execution_count": 3,
   "metadata": {},
   "outputs": [
    {
     "name": "stdout",
     "output_type": "stream",
     "text": [
      "Loading model parameters.\n",
      "average src size 14.03582554517134 1284\n"
     ]
    },
    {
     "name": "stderr",
     "output_type": "stream",
     "text": [
      "/home/raja/OpenNMT-py/onmt/modules/GlobalAttention.py:176: UserWarning: Implicit dimension choice for softmax has been deprecated. Change the call to include dim=X as an argument.\n",
      "  align_vectors = self.sm(align.view(batch*targetL, sourceL))\n",
      "/home/raja/anaconda3/envs/opennmt/lib/python3.6/site-packages/torch/nn/modules/container.py:67: UserWarning: Implicit dimension choice for log_softmax has been deprecated. Change the call to include dim=X as an argument.\n",
      "  input = module(input)\n",
      "/home/raja/anaconda3/envs/opennmt/lib/python3.6/site-packages/torch/tensor.py:297: UserWarning: other is not broadcastable to self, but they have the same number of elements.  Falling back to deprecated pointwise behavior.\n",
      "  return self.add_(other)\n",
      "/home/raja/OpenNMT-py/translate.py:115: DeprecationWarning: generator 'Iterator.__iter__' raised StopIteration\n",
      "  for batch in data_iter:\n"
     ]
    },
    {
     "name": "stdout",
     "output_type": "stream",
     "text": [
      "PRED AVG SCORE: -0.7711, PRED PPL: 2.1622\n",
      "GOLD AVG SCORE: -2.5879, GOLD PPL: 13.3014\n",
      "\n",
      ">> BLEU = 18.89, 56.1/26.4/14.1/7.8 (BP=0.939, ratio=0.941, hyp_len=23216, ref_len=24676)\n"
     ]
    }
   ],
   "source": [
    "%run ./translate.py -model turkish_models/iwslt14_setimes_tr-en.100k_emb_acc_60.86_ppl_7.83_e13.pt -src ../IWSLT_tr/tmp/IWSLT14.TED.tst2011.tr-en.tr -tgt ../IWSLT_tr/tmp/IWSLT14.TED.tst2011.tr-en.en -output turkish_outputs/2011_iwslt14_setimes_tr-en.100k_emb_acc_60.86_ppl_7.83_e13.pt.txt -replace_unk -report_bleu -gpu 0"
   ]
  },
  {
   "cell_type": "code",
   "execution_count": 4,
   "metadata": {},
   "outputs": [
    {
     "name": "stdout",
     "output_type": "stream",
     "text": [
      "Loading model parameters.\n",
      "average src size 12.941558441558442 1694\n"
     ]
    },
    {
     "name": "stderr",
     "output_type": "stream",
     "text": [
      "/home/raja/OpenNMT-py/onmt/modules/GlobalAttention.py:176: UserWarning: Implicit dimension choice for softmax has been deprecated. Change the call to include dim=X as an argument.\n",
      "  align_vectors = self.sm(align.view(batch*targetL, sourceL))\n",
      "/home/raja/anaconda3/envs/opennmt/lib/python3.6/site-packages/torch/nn/modules/container.py:67: UserWarning: Implicit dimension choice for log_softmax has been deprecated. Change the call to include dim=X as an argument.\n",
      "  input = module(input)\n",
      "/home/raja/anaconda3/envs/opennmt/lib/python3.6/site-packages/torch/tensor.py:297: UserWarning: other is not broadcastable to self, but they have the same number of elements.  Falling back to deprecated pointwise behavior.\n",
      "  return self.add_(other)\n",
      "/home/raja/OpenNMT-py/translate.py:115: DeprecationWarning: generator 'Iterator.__iter__' raised StopIteration\n",
      "  for batch in data_iter:\n"
     ]
    },
    {
     "name": "stdout",
     "output_type": "stream",
     "text": [
      "PRED AVG SCORE: -0.7631, PRED PPL: 2.1449\n",
      "GOLD AVG SCORE: -2.5319, GOLD PPL: 12.5778\n",
      "\n",
      ">> BLEU = 19.60, 56.8/27.4/15.3/8.6 (BP=0.922, ratio=0.925, hyp_len=28342, ref_len=30644)\n"
     ]
    }
   ],
   "source": [
    "%run ./translate.py -model turkish_models/iwslt14_setimes_tr-en.100k_emb_acc_60.86_ppl_7.83_e13.pt -src ../IWSLT_tr/tmp/IWSLT14.TED.tst2012.tr-en.tr -tgt ../IWSLT_tr/tmp/IWSLT14.TED.tst2012.tr-en.en -output turkish_outputs/2012_iwslt14_setimes_tr-en.100k_emb_acc_60.86_ppl_7.83_e13.pt.txt -replace_unk -report_bleu -gpu 0"
   ]
  },
  {
   "cell_type": "code",
   "execution_count": null,
   "metadata": {},
   "outputs": [],
   "source": []
  }
 ],
 "metadata": {
  "kernelspec": {
   "display_name": "Python 3",
   "language": "python",
   "name": "python3"
  },
  "language_info": {
   "codemirror_mode": {
    "name": "ipython",
    "version": 3
   },
   "file_extension": ".py",
   "mimetype": "text/x-python",
   "name": "python",
   "nbconvert_exporter": "python",
   "pygments_lexer": "ipython3",
   "version": "3.6.4"
  }
 },
 "nbformat": 4,
 "nbformat_minor": 2
}
