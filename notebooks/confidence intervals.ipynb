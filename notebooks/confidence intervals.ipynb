{
 "cells": [
  {
   "cell_type": "code",
   "execution_count": 1,
   "metadata": {},
   "outputs": [
    {
     "name": "stdout",
     "output_type": "stream",
     "text": [
      "2010_expanded.txt\r\n",
      "2010_iwslt_de_en_50k_default_128_batch_acc_59.52_ppl_11.05_e13.pt\r\n",
      "2010_iwslt_de_en_50k_default_emb_fix_acc_59.62_ppl_9.83_e13.pt\r\n",
      "2010_iwslt_de_en_50k_default_params_acc_59.88_ppl_11.03_e13.pt\r\n",
      "2011_expanded.txt\r\n",
      "2011_iwslt_de_en_50k_default_128_batch_acc_59.52_ppl_11.05_e13.pt\r\n",
      "2011_iwslt_de_en_50k_default_emb_fix_acc_59.62_ppl_9.83_e13.pt\r\n",
      "2011_iwslt_de_en_50k_default_params_acc_59.88_ppl_11.03_e13.pt\r\n",
      "2012_expanded\r\n",
      "2012_expanded.txt\r\n",
      "2012_iwslt_de_en_50k_default_128_batch_acc_59.52_ppl_11.05_e13.pt\r\n",
      "2012_iwslt_de_en_50k_default_emb_fix_acc_59.62_ppl_9.83_e13.pt\r\n",
      "2012_iwslt_de_en_50k_default_params_acc_59.88_ppl_11.03_e13.pt\r\n",
      "2012_news_iwslt_de_en_50k_default_128_batch_acc_59.52_ppl_11.05_e13.pt\r\n",
      "2012_news_iwslt_de_en_50k_default_emb_fix_acc_59.62_ppl_9.83_e13.pt\r\n",
      "2012_news_iwslt_de_en_50k_default_params_acc_59.88_ppl_11.03_e13.pt\r\n",
      "2013_expanded\r\n",
      "2013_news_iwslt_de_en_50k_default_128_batch_acc_59.52_ppl_11.05_e13.pt\r\n",
      "2013_news_iwslt_de_en_50k_default_emb_fix_acc_59.62_ppl_9.83_e13.pt\r\n",
      "2013_news_iwslt_de_en_50k_default_params_acc_59.88_ppl_11.03_e13.pt\r\n"
     ]
    }
   ],
   "source": [
    "ls german_outputs/"
   ]
  },
  {
   "cell_type": "code",
   "execution_count": 2,
   "metadata": {},
   "outputs": [
    {
     "name": "stdout",
     "output_type": "stream",
     "text": [
      "/home/raja/confidence_intervals\n"
     ]
    }
   ],
   "source": [
    "cd ../confidence_intervals/"
   ]
  },
  {
   "cell_type": "code",
   "execution_count": 11,
   "metadata": {},
   "outputs": [
    {
     "name": "stdout",
     "output_type": "stream",
     "text": [
      "Reading reference translations from ../IWSLT/tmp/IWSLT14.TED.tst2010.de-en.en...\n",
      "Reading hypotheses from ../OpenNMT-py/german_outputs/2010_iwslt_de_en_50k_default_128_batch_acc_59.52_ppl_11.05_e13.pt...\n",
      "Computing confidence intervals with 3 digits of precision...\n",
      "....................\n",
      "                                          [ from -- to ]    ( average +- interval )\n",
      "Confidence intervals for candidate hypotheses:\n",
      "BLEU   95.0% confidence interval:           26.1000 -- 28.0000 ( 27.0763 +- 0.9643 ) - BLEU stdev: 0.4877 \n",
      "BP     95.0% confidence interval:           0.9560 --  0.9740 ( 0.9651 +- 0.0092 ) \n",
      "TER    95.0% confidence interval:           53.0000 -- 55.0000 ( 54.0091 +- 0.9875 ) - TER stdev: 0.5123 \n",
      "METEOR 95.0% confidence interval:           32.8000 -- 34.7000 ( 33.7355 +- 0.9174 ) - METEOR stdev: 0.4592 \n"
     ]
    }
   ],
   "source": [
    "!bash confidence_intervals.sh -t ../OpenNMT-py/german_outputs/2010_iwslt_de_en_50k_default_128_batch_acc_59.52_ppl_11.05_e13.pt -r ../IWSLT/tmp/IWSLT14.TED.tst2010.de-en.en -l en -n 2000"
   ]
  },
  {
   "cell_type": "code",
   "execution_count": 9,
   "metadata": {},
   "outputs": [
    {
     "name": "stdout",
     "output_type": "stream",
     "text": [
      "Reading reference translations from ../IWSLT/tmp/IWSLT14.TED.tst2010.de-en.en...\n",
      "Reading hypotheses from ../OpenNMT-py/german_outputs/2010_iwslt_de_en_50k_default_emb_fix_acc_59.62_ppl_9.83_e13.pt...\n",
      "Computing confidence intervals with 3 digits of precision...\n",
      "....................\n",
      "                                          [ from -- to ]    ( average +- interval )\n",
      "Confidence intervals for candidate hypotheses:\n",
      "BLEU   95.0% confidence interval:           26.4000 -- 28.4000 ( 27.4036 +- 0.9577 ) - BLEU stdev: 0.4842 \n",
      "BP     95.0% confidence interval:           0.9180 --  0.9350 ( 0.9267 +- 0.0087 ) \n",
      "TER    95.0% confidence interval:           50.4000 -- 52.4000 ( 51.3675 +- 0.9940 ) - TER stdev: 0.5041 \n",
      "METEOR 95.0% confidence interval:           32.9000 -- 34.6000 ( 33.7565 +- 0.8504 ) - METEOR stdev: 0.4367 \n"
     ]
    }
   ],
   "source": [
    "!bash confidence_intervals.sh -t ../OpenNMT-py/german_outputs/2010_iwslt_de_en_50k_default_emb_fix_acc_59.62_ppl_9.83_e13.pt -r ../IWSLT/tmp/IWSLT14.TED.tst2010.de-en.en -l en -n 2000"
   ]
  },
  {
   "cell_type": "code",
   "execution_count": 10,
   "metadata": {},
   "outputs": [
    {
     "name": "stdout",
     "output_type": "stream",
     "text": [
      "Reading reference translations from ../IWSLT/tmp/IWSLT14.TED.tst2010.de-en.en...\n",
      "Reading hypotheses from ../OpenNMT-py/german_outputs/2010_expanded.txt...\n",
      "Computing confidence intervals with 3 digits of precision...\n",
      "....................\n",
      "                                          [ from -- to ]    ( average +- interval )\n",
      "Confidence intervals for candidate hypotheses:\n",
      "BLEU   95.0% confidence interval:           28.1000 -- 30.0000 ( 29.0482 +- 0.9920 ) - BLEU stdev: 0.5164 \n",
      "BP     95.0% confidence interval:           0.9270 --  0.9440 ( 0.9354 +- 0.0087 ) \n",
      "TER    95.0% confidence interval:           48.8000 -- 50.8000 ( 49.7735 +- 1.0066 ) - TER stdev: 0.5173 \n",
      "METEOR 95.0% confidence interval:           34.7000 -- 36.5000 ( 35.5617 +- 0.9093 ) - METEOR stdev: 0.4617 \n"
     ]
    }
   ],
   "source": [
    "!bash confidence_intervals.sh -t ../OpenNMT-py/german_outputs/2010_expanded.txt -r ../IWSLT/tmp/IWSLT14.TED.tst2010.de-en.en -l en -n 2000"
   ]
  },
  {
   "cell_type": "code",
   "execution_count": 13,
   "metadata": {},
   "outputs": [
    {
     "name": "stdout",
     "output_type": "stream",
     "text": [
      "Reading reference translations from ../IWSLT/tmp/IWSLT14.TED.tst2011.de-en.en...\n",
      "Reading hypotheses from ../OpenNMT-py/german_outputs/2011_iwslt_de_en_50k_default_128_batch_acc_59.52_ppl_11.05_e13.pt...\n",
      "Computing confidence intervals with 3 digits of precision...\n",
      "....................\n",
      "                                          [ from -- to ]    ( average +- interval )\n",
      "Confidence intervals for candidate hypotheses:\n",
      "BLEU   95.0% confidence interval:           29.4000 -- 31.3000 ( 30.3294 +- 0.9727 ) - BLEU stdev: 0.5041 \n",
      "BP     95.0% confidence interval:           0.9820 --  1.0000 ( 0.9910 +- 0.0090 ) \n",
      "TER    95.0% confidence interval:           49.5000 -- 51.5000 ( 50.4884 +- 1.0255 ) - TER stdev: 0.5206 \n",
      "METEOR 95.0% confidence interval:           35.4000 -- 37.4000 ( 36.4019 +- 0.9933 ) - METEOR stdev: 0.5066 \n"
     ]
    }
   ],
   "source": [
    "!bash confidence_intervals.sh -t ../OpenNMT-py/german_outputs/2011_iwslt_de_en_50k_default_128_batch_acc_59.52_ppl_11.05_e13.pt -r ../IWSLT/tmp/IWSLT14.TED.tst2011.de-en.en -l en -n 2000"
   ]
  },
  {
   "cell_type": "code",
   "execution_count": 14,
   "metadata": {},
   "outputs": [
    {
     "name": "stdout",
     "output_type": "stream",
     "text": [
      "Reading reference translations from ../IWSLT/tmp/IWSLT14.TED.tst2011.de-en.en...\n",
      "Reading hypotheses from ../OpenNMT-py/german_outputs/2011_iwslt_de_en_50k_default_emb_fix_acc_59.62_ppl_9.83_e13.pt...\n",
      "Computing confidence intervals with 3 digits of precision...\n",
      "....................\n",
      "                                          [ from -- to ]    ( average +- interval )\n",
      "Confidence intervals for candidate hypotheses:\n",
      "BLEU   95.0% confidence interval:           30.3000 -- 32.3000 ( 31.2566 +- 0.9992 ) - BLEU stdev: 0.5063 \n",
      "BP     95.0% confidence interval:           0.9430 --  0.9600 ( 0.9517 +- 0.0084 ) \n",
      "TER    95.0% confidence interval:           46.0000 -- 47.8000 ( 46.8990 +- 0.9285 ) - TER stdev: 0.4764 \n",
      "METEOR 95.0% confidence interval:           36.4000 -- 38.3000 ( 37.3449 +- 0.9884 ) - METEOR stdev: 0.5078 \n"
     ]
    }
   ],
   "source": [
    "!bash confidence_intervals.sh -t ../OpenNMT-py/german_outputs/2011_iwslt_de_en_50k_default_emb_fix_acc_59.62_ppl_9.83_e13.pt -r ../IWSLT/tmp/IWSLT14.TED.tst2011.de-en.en -l en -n 2000"
   ]
  },
  {
   "cell_type": "code",
   "execution_count": 15,
   "metadata": {},
   "outputs": [
    {
     "name": "stdout",
     "output_type": "stream",
     "text": [
      "Reading reference translations from ../IWSLT/tmp/IWSLT14.TED.tst2011.de-en.en...\n",
      "Reading hypotheses from ../OpenNMT-py/german_outputs/2011_expanded.txt...\n",
      "Computing confidence intervals with 3 digits of precision...\n",
      "....................\n",
      "                                          [ from -- to ]    ( average +- interval )\n",
      "Confidence intervals for candidate hypotheses:\n",
      "BLEU   95.0% confidence interval:           32.2000 -- 34.2000 ( 33.1847 +- 1.0307 ) - BLEU stdev: 0.5250 \n",
      "BP     95.0% confidence interval:           0.9470 --  0.9630 ( 0.9553 +- 0.0081 ) \n",
      "TER    95.0% confidence interval:           44.3000 -- 46.2000 ( 45.2314 +- 0.9647 ) - TER stdev: 0.4988 \n",
      "METEOR 95.0% confidence interval:           37.8000 -- 39.8000 ( 38.7663 +- 1.0121 ) - METEOR stdev: 0.5249 \n"
     ]
    }
   ],
   "source": [
    "!bash confidence_intervals.sh -t ../OpenNMT-py/german_outputs/2011_expanded.txt -r ../IWSLT/tmp/IWSLT14.TED.tst2011.de-en.en -l en -n 2000"
   ]
  },
  {
   "cell_type": "code",
   "execution_count": 16,
   "metadata": {},
   "outputs": [
    {
     "name": "stdout",
     "output_type": "stream",
     "text": [
      "Reading reference translations from ../IWSLT/tmp/IWSLT14.TED.tst2012.de-en.en...\n",
      "Reading hypotheses from ../OpenNMT-py/german_outputs/2012_iwslt_de_en_50k_default_128_batch_acc_59.52_ppl_11.05_e13.pt...\n",
      "Computing confidence intervals with 3 digits of precision...\n",
      "....................\n",
      "                                          [ from -- to ]    ( average +- interval )\n",
      "Confidence intervals for candidate hypotheses:\n",
      "BLEU   95.0% confidence interval:           26.2000 -- 28.0000 ( 27.1170 +- 0.9158 ) - BLEU stdev: 0.4777 \n",
      "BP     95.0% confidence interval:           0.9670 --  0.9840 ( 0.9756 +- 0.0089 ) \n",
      "TER    95.0% confidence interval:           53.3000 -- 55.3000 ( 54.2770 +- 1.0068 ) - TER stdev: 0.5128 \n",
      "METEOR 95.0% confidence interval:           31.7000 -- 33.3000 ( 32.5014 +- 0.7989 ) - METEOR stdev: 0.4058 \n"
     ]
    }
   ],
   "source": [
    "!bash confidence_intervals.sh -t ../OpenNMT-py/german_outputs/2012_iwslt_de_en_50k_default_128_batch_acc_59.52_ppl_11.05_e13.pt -r ../IWSLT/tmp/IWSLT14.TED.tst2012.de-en.en -l en -n 2000"
   ]
  },
  {
   "cell_type": "code",
   "execution_count": 17,
   "metadata": {},
   "outputs": [
    {
     "name": "stdout",
     "output_type": "stream",
     "text": [
      "Reading reference translations from ../IWSLT/tmp/IWSLT14.TED.tst2012.de-en.en...\n",
      "Reading hypotheses from ../OpenNMT-py/german_outputs/2012_iwslt_de_en_50k_default_emb_fix_acc_59.62_ppl_9.83_e13.pt...\n",
      "Computing confidence intervals with 3 digits of precision...\n",
      "....................\n",
      "                                          [ from -- to ]    ( average +- interval )\n",
      "Confidence intervals for candidate hypotheses:\n",
      "BLEU   95.0% confidence interval:           25.9000 -- 27.7000 ( 26.8065 +- 0.8928 ) - BLEU stdev: 0.4430 \n",
      "BP     95.0% confidence interval:           0.9240 --  0.9400 ( 0.9318 +- 0.0081 ) \n",
      "TER    95.0% confidence interval:           50.5000 -- 52.3000 ( 51.4187 +- 0.8826 ) - TER stdev: 0.4395 \n",
      "METEOR 95.0% confidence interval:           32.0000 -- 33.6000 ( 32.7823 +- 0.7850 ) - METEOR stdev: 0.4002 \n"
     ]
    }
   ],
   "source": [
    "!bash confidence_intervals.sh -t ../OpenNMT-py/german_outputs/2012_iwslt_de_en_50k_default_emb_fix_acc_59.62_ppl_9.83_e13.pt -r ../IWSLT/tmp/IWSLT14.TED.tst2012.de-en.en -l en -n 2000"
   ]
  },
  {
   "cell_type": "code",
   "execution_count": 18,
   "metadata": {},
   "outputs": [
    {
     "name": "stdout",
     "output_type": "stream",
     "text": [
      "Reading reference translations from ../IWSLT/tmp/IWSLT14.TED.tst2012.de-en.en...\n",
      "Reading hypotheses from ../OpenNMT-py/german_outputs/2012_expanded.txt...\n",
      "Computing confidence intervals with 3 digits of precision...\n",
      "....................\n",
      "                                          [ from -- to ]    ( average +- interval )\n",
      "Confidence intervals for candidate hypotheses:\n",
      "BLEU   95.0% confidence interval:           27.4000 -- 29.1000 ( 28.2398 +- 0.8873 ) - BLEU stdev: 0.4523 \n",
      "BP     95.0% confidence interval:           0.9210 --  0.9380 ( 0.9295 +- 0.0085 ) \n",
      "TER    95.0% confidence interval:           49.1000 -- 50.8000 ( 49.9700 +- 0.8586 ) - TER stdev: 0.4458 \n",
      "METEOR 95.0% confidence interval:           33.2000 -- 34.8000 ( 34.0361 +- 0.7978 ) - METEOR stdev: 0.4048 \n"
     ]
    }
   ],
   "source": [
    "!bash confidence_intervals.sh -t ../OpenNMT-py/german_outputs/2012_expanded.txt -r ../IWSLT/tmp/IWSLT14.TED.tst2012.de-en.en -l en -n 2000"
   ]
  },
  {
   "cell_type": "code",
   "execution_count": 24,
   "metadata": {},
   "outputs": [
    {
     "name": "stdout",
     "output_type": "stream",
     "text": [
      "Reading reference translations from ../IWSLT/newstest2012.tok.en...\n",
      "Reading hypotheses from ../OpenNMT-py/german_outputs/2012_news_iwslt_de_en_50k_default_128_batch_acc_59.52_ppl_11.05_e13.pt...\n",
      "Computing confidence intervals with 3 digits of precision...\n",
      "....................\n",
      "                                          [ from -- to ]    ( average +- interval )\n",
      "Confidence intervals for candidate hypotheses:\n",
      "BLEU   95.0% confidence interval:           10.5000 -- 11.2000 ( 10.8567 +- 0.3772 ) - BLEU stdev: 0.1922 \n",
      "BP     95.0% confidence interval:           1.0000 --  1.0000 ( 1.0000 +- 0.0000 ) \n",
      "TER    95.0% confidence interval:           80.2000 -- 81.8000 ( 80.9989 +- 0.8145 ) - TER stdev: 0.4144 \n",
      "METEOR 95.0% confidence interval:           20.3000 -- 20.9000 ( 20.6141 +- 0.3234 ) - METEOR stdev: 0.1683 \n"
     ]
    }
   ],
   "source": [
    "!bash confidence_intervals.sh -t ../OpenNMT-py/german_outputs/2012_news_iwslt_de_en_50k_default_128_batch_acc_59.52_ppl_11.05_e13.pt -r ../IWSLT/newstest2012.tok.en -l en -n 2000"
   ]
  },
  {
   "cell_type": "code",
   "execution_count": 25,
   "metadata": {},
   "outputs": [
    {
     "name": "stdout",
     "output_type": "stream",
     "text": [
      "Reading reference translations from ../IWSLT/newstest2013.tok.en...\n",
      "Reading hypotheses from ../OpenNMT-py/german_outputs/2013_news_iwslt_de_en_50k_default_128_batch_acc_59.52_ppl_11.05_e13.pt...\n",
      "Computing confidence intervals with 3 digits of precision...\n",
      "....................\n",
      "                                          [ from -- to ]    ( average +- interval )\n",
      "Confidence intervals for candidate hypotheses:\n",
      "BLEU   95.0% confidence interval:           12.7000 -- 13.5000 ( 13.0955 +- 0.4383 ) - BLEU stdev: 0.2215 \n",
      "BP     95.0% confidence interval:           1.0000 --  1.0000 ( 1.0000 +- 0.0000 ) \n",
      "TER    95.0% confidence interval:           75.0000 -- 76.6000 ( 75.8254 +- 0.8078 ) - TER stdev: 0.4155 \n",
      "METEOR 95.0% confidence interval:           22.8000 -- 23.6000 ( 23.2038 +- 0.3871 ) - METEOR stdev: 0.1971 \n"
     ]
    }
   ],
   "source": [
    "!bash confidence_intervals.sh -t ../OpenNMT-py/german_outputs/2013_news_iwslt_de_en_50k_default_128_batch_acc_59.52_ppl_11.05_e13.pt -r ../IWSLT/newstest2013.tok.en -l en -n 2000"
   ]
  },
  {
   "cell_type": "code",
   "execution_count": 26,
   "metadata": {},
   "outputs": [
    {
     "name": "stdout",
     "output_type": "stream",
     "text": [
      "Reading reference translations from ../IWSLT/newstest2012.tok.en...\n",
      "Reading hypotheses from ../OpenNMT-py/german_outputs/2012_news_iwslt_de_en_50k_default_emb_fix_acc_59.62_ppl_9.83_e13.pt...\n",
      "Computing confidence intervals with 3 digits of precision...\n",
      "....................\n",
      "                                          [ from -- to ]    ( average +- interval )\n",
      "Confidence intervals for candidate hypotheses:\n",
      "BLEU   95.0% confidence interval:           12.3000 -- 13.2000 ( 12.7585 +- 0.4447 ) - BLEU stdev: 0.2230 \n",
      "BP     95.0% confidence interval:           0.9890 --  1.0000 ( 0.9947 +- 0.0053 ) \n",
      "TER    95.0% confidence interval:           72.8000 -- 74.2000 ( 73.5257 +- 0.6966 ) - TER stdev: 0.3619 \n",
      "METEOR 95.0% confidence interval:           21.1000 -- 21.8000 ( 21.4083 +- 0.3501 ) - METEOR stdev: 0.1804 \n"
     ]
    }
   ],
   "source": [
    "!bash confidence_intervals.sh -t ../OpenNMT-py/german_outputs/2012_news_iwslt_de_en_50k_default_emb_fix_acc_59.62_ppl_9.83_e13.pt -r ../IWSLT/newstest2012.tok.en -l en -n 2000"
   ]
  },
  {
   "cell_type": "code",
   "execution_count": 27,
   "metadata": {},
   "outputs": [
    {
     "name": "stdout",
     "output_type": "stream",
     "text": [
      "Reading reference translations from ../IWSLT/newstest2013.tok.en...\n",
      "Reading hypotheses from ../OpenNMT-py/german_outputs/2013_news_iwslt_de_en_50k_default_emb_fix_acc_59.62_ppl_9.83_e13.pt...\n",
      "Computing confidence intervals with 3 digits of precision...\n",
      "....................\n",
      "                                          [ from -- to ]    ( average +- interval )\n",
      "Confidence intervals for candidate hypotheses:\n",
      "BLEU   95.0% confidence interval:           14.2000 -- 15.1000 ( 14.6727 +- 0.4475 ) - BLEU stdev: 0.2310 \n",
      "BP     95.0% confidence interval:           0.9810 --  0.9970 ( 0.9889 +- 0.0083 ) \n",
      "TER    95.0% confidence interval:           69.1000 -- 70.6000 ( 69.8371 +- 0.7592 ) - TER stdev: 0.3828 \n",
      "METEOR 95.0% confidence interval:           23.3000 -- 24.1000 ( 23.7103 +- 0.3970 ) - METEOR stdev: 0.2008 \n"
     ]
    }
   ],
   "source": [
    "!bash confidence_intervals.sh -t ../OpenNMT-py/german_outputs/2013_news_iwslt_de_en_50k_default_emb_fix_acc_59.62_ppl_9.83_e13.pt -r ../IWSLT/newstest2013.tok.en -l en -n 2000"
   ]
  },
  {
   "cell_type": "code",
   "execution_count": 28,
   "metadata": {},
   "outputs": [
    {
     "name": "stdout",
     "output_type": "stream",
     "text": [
      "Reading reference translations from ../IWSLT/newstest2012.tok.en...\n",
      "Reading hypotheses from ../OpenNMT-py/german_outputs/2012_expanded...\n",
      "Computing confidence intervals with 3 digits of precision...\n",
      "....................\n",
      "                                          [ from -- to ]    ( average +- interval )\n",
      "Confidence intervals for candidate hypotheses:\n",
      "BLEU   95.0% confidence interval:           13.3000 -- 14.2000 ( 13.7710 +- 0.4540 ) - BLEU stdev: 0.2281 \n",
      "BP     95.0% confidence interval:           1.0000 --  1.0000 ( 1.0000 +- 0.0000 ) \n",
      "TER    95.0% confidence interval:           71.5000 -- 72.9000 ( 72.1807 +- 0.7235 ) - TER stdev: 0.3668 \n",
      "METEOR 95.0% confidence interval:           22.4000 -- 23.1000 ( 22.7595 +- 0.3599 ) - METEOR stdev: 0.1841 \n"
     ]
    }
   ],
   "source": [
    "!bash confidence_intervals.sh -t ../OpenNMT-py/german_outputs/2012_expanded -r ../IWSLT/newstest2012.tok.en -l en -n 2000"
   ]
  },
  {
   "cell_type": "code",
   "execution_count": 29,
   "metadata": {},
   "outputs": [
    {
     "name": "stdout",
     "output_type": "stream",
     "text": [
      "Reading reference translations from ../IWSLT/newstest2013.tok.en...\n",
      "Reading hypotheses from ../OpenNMT-py/german_outputs/2013_expanded...\n",
      "Computing confidence intervals with 3 digits of precision...\n",
      "....................\n",
      "                                          [ from -- to ]    ( average +- interval )\n",
      "Confidence intervals for candidate hypotheses:\n",
      "BLEU   95.0% confidence interval:           15.5000 -- 16.5000 ( 16.0159 +- 0.5017 ) - BLEU stdev: 0.2599 \n",
      "BP     95.0% confidence interval:           0.9970 --  1.0000 ( 0.9983 +- 0.0017 ) \n",
      "TER    95.0% confidence interval:           67.4000 -- 69.1000 ( 68.2732 +- 0.8746 ) - TER stdev: 0.4566 \n",
      "METEOR 95.0% confidence interval:           24.9000 -- 25.8000 ( 25.3459 +- 0.4164 ) - METEOR stdev: 0.2113 \n"
     ]
    }
   ],
   "source": [
    "!bash confidence_intervals.sh -t ../OpenNMT-py/german_outputs/2013_expanded -r ../IWSLT/newstest2013.tok.en -l en -n 2000"
   ]
  },
  {
   "cell_type": "code",
   "execution_count": null,
   "metadata": {},
   "outputs": [],
   "source": []
  }
 ],
 "metadata": {
  "kernelspec": {
   "display_name": "Python 3",
   "language": "python",
   "name": "python3"
  },
  "language_info": {
   "codemirror_mode": {
    "name": "ipython",
    "version": 3
   },
   "file_extension": ".py",
   "mimetype": "text/x-python",
   "name": "python",
   "nbconvert_exporter": "python",
   "pygments_lexer": "ipython3",
   "version": "3.6.4"
  }
 },
 "nbformat": 4,
 "nbformat_minor": 2
}
