{
 "cells": [
  {
   "cell_type": "code",
   "execution_count": 2,
   "metadata": {},
   "outputs": [
    {
     "name": "stdout",
     "output_type": "stream",
     "text": [
      "Loading model parameters.\n"
     ]
    },
    {
     "name": "stderr",
     "output_type": "stream",
     "text": [
      "/home/raja/OpenNMT-py/onmt/modules/GlobalAttention.py:177: UserWarning: Implicit dimension choice for softmax has been deprecated. Change the call to include dim=X as an argument.\n",
      "  align_vectors = self.sm(align.view(batch*targetL, sourceL))\n",
      "/home/raja/anaconda3/envs/opennmt/lib/python3.6/site-packages/torch/nn/modules/container.py:67: UserWarning: Implicit dimension choice for log_softmax has been deprecated. Change the call to include dim=X as an argument.\n",
      "  input = module(input)\n",
      "/home/raja/anaconda3/envs/opennmt/lib/python3.6/site-packages/torch/tensor.py:297: UserWarning: other is not broadcastable to self, but they have the same number of elements.  Falling back to deprecated pointwise behavior.\n",
      "  return self.add_(other)\n",
      "/home/raja/OpenNMT-py/translate.py:104: DeprecationWarning: generator 'Iterator.__iter__' raised StopIteration\n",
      "  for batch in data_iter:\n"
     ]
    },
    {
     "name": "stdout",
     "output_type": "stream",
     "text": [
      "PRED AVG SCORE: -0.6979, PRED PPL: 2.0096\n",
      "GOLD AVG SCORE: -2.5411, GOLD PPL: 12.6934\n",
      "\n",
      ">> BLEU = 27.07, 61.6/34.7/21.4/13.5 (BP=0.965, ratio=0.966, hyp_len=30921, ref_len=32010)\n"
     ]
    }
   ],
   "source": [
    "%run ./translate.py -model german_models/iwslt_de_en_50k_default_128_batch_acc_59.52_ppl_11.05_e13.pt -src ../IWSLT/tmp/IWSLT14.TED.tst2010.de-en.de -tgt ../IWSLT/tmp/IWSLT14.TED.tst2010.de-en.en -output german_outputs/2010_iwslt_de_en_50k_default_128_batch_acc_59.52_ppl_11.05_e13.pt -replace_unk -report_bleu -gpu 0"
   ]
  },
  {
   "cell_type": "code",
   "execution_count": 3,
   "metadata": {},
   "outputs": [
    {
     "name": "stdout",
     "output_type": "stream",
     "text": [
      "Loading model parameters.\n"
     ]
    },
    {
     "name": "stderr",
     "output_type": "stream",
     "text": [
      "/home/raja/OpenNMT-py/onmt/modules/GlobalAttention.py:177: UserWarning: Implicit dimension choice for softmax has been deprecated. Change the call to include dim=X as an argument.\n",
      "  align_vectors = self.sm(align.view(batch*targetL, sourceL))\n",
      "/home/raja/anaconda3/envs/opennmt/lib/python3.6/site-packages/torch/nn/modules/container.py:67: UserWarning: Implicit dimension choice for log_softmax has been deprecated. Change the call to include dim=X as an argument.\n",
      "  input = module(input)\n",
      "/home/raja/anaconda3/envs/opennmt/lib/python3.6/site-packages/torch/tensor.py:297: UserWarning: other is not broadcastable to self, but they have the same number of elements.  Falling back to deprecated pointwise behavior.\n",
      "  return self.add_(other)\n",
      "/home/raja/OpenNMT-py/translate.py:104: DeprecationWarning: generator 'Iterator.__iter__' raised StopIteration\n",
      "  for batch in data_iter:\n"
     ]
    },
    {
     "name": "stdout",
     "output_type": "stream",
     "text": [
      "PRED AVG SCORE: -0.6955, PRED PPL: 2.0048\n",
      "GOLD AVG SCORE: -2.3169, GOLD PPL: 10.1446\n",
      "\n",
      ">> BLEU = 30.34, 63.8/37.5/23.8/15.4 (BP=0.991, ratio=0.992, hyp_len=26699, ref_len=26927)\n"
     ]
    }
   ],
   "source": [
    "%run ./translate.py -model german_models/iwslt_de_en_50k_default_128_batch_acc_59.52_ppl_11.05_e13.pt -src ../IWSLT/tmp/IWSLT14.TED.tst2011.de-en.de -tgt ../IWSLT/tmp/IWSLT14.TED.tst2011.de-en.en -output german_outputs/2011_iwslt_de_en_50k_default_128_batch_acc_59.52_ppl_11.05_e13.pt -replace_unk -report_bleu -gpu 0"
   ]
  },
  {
   "cell_type": "code",
   "execution_count": 6,
   "metadata": {},
   "outputs": [
    {
     "name": "stdout",
     "output_type": "stream",
     "text": [
      "Loading model parameters.\n"
     ]
    },
    {
     "name": "stderr",
     "output_type": "stream",
     "text": [
      "/home/raja/OpenNMT-py/onmt/modules/GlobalAttention.py:177: UserWarning: Implicit dimension choice for softmax has been deprecated. Change the call to include dim=X as an argument.\n",
      "  align_vectors = self.sm(align.view(batch*targetL, sourceL))\n",
      "/home/raja/anaconda3/envs/opennmt/lib/python3.6/site-packages/torch/nn/modules/container.py:67: UserWarning: Implicit dimension choice for log_softmax has been deprecated. Change the call to include dim=X as an argument.\n",
      "  input = module(input)\n",
      "/home/raja/anaconda3/envs/opennmt/lib/python3.6/site-packages/torch/tensor.py:297: UserWarning: other is not broadcastable to self, but they have the same number of elements.  Falling back to deprecated pointwise behavior.\n",
      "  return self.add_(other)\n",
      "/home/raja/OpenNMT-py/translate.py:104: DeprecationWarning: generator 'Iterator.__iter__' raised StopIteration\n",
      "  for batch in data_iter:\n"
     ]
    },
    {
     "name": "stdout",
     "output_type": "stream",
     "text": [
      "PRED AVG SCORE: -0.7006, PRED PPL: 2.0149\n",
      "GOLD AVG SCORE: -2.6182, GOLD PPL: 13.7104\n",
      "\n",
      ">> BLEU = 27.12, 61.2/34.3/21.2/13.4 (BP=0.976, ratio=0.976, hyp_len=29968, ref_len=30706)\n"
     ]
    }
   ],
   "source": [
    "%run ./translate.py -model german_models/iwslt_de_en_50k_default_128_batch_acc_59.52_ppl_11.05_e13.pt -src ../IWSLT/tmp/IWSLT14.TED.tst2012.de-en.de -tgt ../IWSLT/tmp/IWSLT14.TED.tst2012.de-en.en -output german_outputs/2012_iwslt_de_en_50k_default_128_batch_acc_59.52_ppl_11.05_e13.pt -replace_unk -report_bleu -gpu 0"
   ]
  },
  {
   "cell_type": "code",
   "execution_count": 7,
   "metadata": {},
   "outputs": [
    {
     "name": "stdout",
     "output_type": "stream",
     "text": [
      "Loading model parameters.\n"
     ]
    },
    {
     "name": "stderr",
     "output_type": "stream",
     "text": [
      "/home/raja/OpenNMT-py/onmt/modules/GlobalAttention.py:177: UserWarning: Implicit dimension choice for softmax has been deprecated. Change the call to include dim=X as an argument.\n",
      "  align_vectors = self.sm(align.view(batch*targetL, sourceL))\n",
      "/home/raja/anaconda3/envs/opennmt/lib/python3.6/site-packages/torch/nn/modules/container.py:67: UserWarning: Implicit dimension choice for log_softmax has been deprecated. Change the call to include dim=X as an argument.\n",
      "  input = module(input)\n",
      "/home/raja/anaconda3/envs/opennmt/lib/python3.6/site-packages/torch/tensor.py:297: UserWarning: other is not broadcastable to self, but they have the same number of elements.  Falling back to deprecated pointwise behavior.\n",
      "  return self.add_(other)\n",
      "/home/raja/OpenNMT-py/translate.py:104: DeprecationWarning: generator 'Iterator.__iter__' raised StopIteration\n",
      "  for batch in data_iter:\n"
     ]
    },
    {
     "name": "stdout",
     "output_type": "stream",
     "text": [
      "PRED AVG SCORE: -1.1624, PRED PPL: 3.1976\n",
      "GOLD AVG SCORE: -4.9526, GOLD PPL: 141.5438\n",
      "\n",
      ">> BLEU = 10.86, 42.1/15.7/6.7/3.1 (BP=1.000, ratio=1.100, hyp_len=81166, ref_len=73799)\n"
     ]
    }
   ],
   "source": [
    "%run ./translate.py -model german_models/iwslt_de_en_50k_default_128_batch_acc_59.52_ppl_11.05_e13.pt -src ../IWSLT/newstest2012.tok.de -tgt ../IWSLT/newstest2012.tok.en -output german_outputs/2012_news_iwslt_de_en_50k_default_128_batch_acc_59.52_ppl_11.05_e13.pt -replace_unk -report_bleu -gpu 0"
   ]
  },
  {
   "cell_type": "code",
   "execution_count": 8,
   "metadata": {},
   "outputs": [
    {
     "name": "stdout",
     "output_type": "stream",
     "text": [
      "Loading model parameters.\n"
     ]
    },
    {
     "name": "stderr",
     "output_type": "stream",
     "text": [
      "/home/raja/OpenNMT-py/onmt/modules/GlobalAttention.py:177: UserWarning: Implicit dimension choice for softmax has been deprecated. Change the call to include dim=X as an argument.\n",
      "  align_vectors = self.sm(align.view(batch*targetL, sourceL))\n",
      "/home/raja/anaconda3/envs/opennmt/lib/python3.6/site-packages/torch/nn/modules/container.py:67: UserWarning: Implicit dimension choice for log_softmax has been deprecated. Change the call to include dim=X as an argument.\n",
      "  input = module(input)\n",
      "/home/raja/anaconda3/envs/opennmt/lib/python3.6/site-packages/torch/tensor.py:297: UserWarning: other is not broadcastable to self, but they have the same number of elements.  Falling back to deprecated pointwise behavior.\n",
      "  return self.add_(other)\n",
      "/home/raja/OpenNMT-py/translate.py:104: DeprecationWarning: generator 'Iterator.__iter__' raised StopIteration\n",
      "  for batch in data_iter:\n"
     ]
    },
    {
     "name": "stdout",
     "output_type": "stream",
     "text": [
      "PRED AVG SCORE: -1.0582, PRED PPL: 2.8811\n",
      "GOLD AVG SCORE: -4.5116, GOLD PPL: 91.0678\n",
      "\n",
      ">> BLEU = 13.10, 45.2/18.2/8.6/4.2 (BP=1.000, ratio=1.074, hyp_len=70451, ref_len=65602)\n"
     ]
    }
   ],
   "source": [
    "%run ./translate.py -model german_models/iwslt_de_en_50k_default_128_batch_acc_59.52_ppl_11.05_e13.pt -src ../IWSLT/newstest2013.tok.de -tgt ../IWSLT/newstest2013.tok.en -output german_outputs/2013_news_iwslt_de_en_50k_default_128_batch_acc_59.52_ppl_11.05_e13.pt -replace_unk -report_bleu -gpu 0"
   ]
  },
  {
   "cell_type": "code",
   "execution_count": 9,
   "metadata": {},
   "outputs": [
    {
     "name": "stdout",
     "output_type": "stream",
     "text": [
      "Loading model parameters.\n"
     ]
    },
    {
     "name": "stderr",
     "output_type": "stream",
     "text": [
      "/home/raja/OpenNMT-py/onmt/modules/GlobalAttention.py:177: UserWarning: Implicit dimension choice for softmax has been deprecated. Change the call to include dim=X as an argument.\n",
      "  align_vectors = self.sm(align.view(batch*targetL, sourceL))\n",
      "/home/raja/anaconda3/envs/opennmt/lib/python3.6/site-packages/torch/nn/modules/container.py:67: UserWarning: Implicit dimension choice for log_softmax has been deprecated. Change the call to include dim=X as an argument.\n",
      "  input = module(input)\n",
      "/home/raja/anaconda3/envs/opennmt/lib/python3.6/site-packages/torch/tensor.py:297: UserWarning: other is not broadcastable to self, but they have the same number of elements.  Falling back to deprecated pointwise behavior.\n",
      "  return self.add_(other)\n",
      "/home/raja/OpenNMT-py/translate.py:104: DeprecationWarning: generator 'Iterator.__iter__' raised StopIteration\n",
      "  for batch in data_iter:\n"
     ]
    },
    {
     "name": "stdout",
     "output_type": "stream",
     "text": [
      "PRED AVG SCORE: -0.5935, PRED PPL: 1.8104\n",
      "GOLD AVG SCORE: -2.5444, GOLD PPL: 12.7360\n",
      "\n",
      ">> BLEU = 27.79, 62.6/35.8/22.2/14.2 (BP=0.958, ratio=0.959, hyp_len=30707, ref_len=32010)\n"
     ]
    }
   ],
   "source": [
    "%run ./translate.py -model german_models/iwslt_de_en_50k_default_params_acc_59.88_ppl_11.03_e13.pt -src ../IWSLT/tmp/IWSLT14.TED.tst2010.de-en.de -tgt ../IWSLT/tmp/IWSLT14.TED.tst2010.de-en.en -output german_outputs/2010_iwslt_de_en_50k_default_params_acc_59.88_ppl_11.03_e13.pt -replace_unk -report_bleu -gpu 0"
   ]
  },
  {
   "cell_type": "code",
   "execution_count": 10,
   "metadata": {},
   "outputs": [
    {
     "name": "stdout",
     "output_type": "stream",
     "text": [
      "Loading model parameters.\n"
     ]
    },
    {
     "name": "stderr",
     "output_type": "stream",
     "text": [
      "/home/raja/OpenNMT-py/onmt/modules/GlobalAttention.py:177: UserWarning: Implicit dimension choice for softmax has been deprecated. Change the call to include dim=X as an argument.\n",
      "  align_vectors = self.sm(align.view(batch*targetL, sourceL))\n",
      "/home/raja/anaconda3/envs/opennmt/lib/python3.6/site-packages/torch/nn/modules/container.py:67: UserWarning: Implicit dimension choice for log_softmax has been deprecated. Change the call to include dim=X as an argument.\n",
      "  input = module(input)\n",
      "/home/raja/anaconda3/envs/opennmt/lib/python3.6/site-packages/torch/tensor.py:297: UserWarning: other is not broadcastable to self, but they have the same number of elements.  Falling back to deprecated pointwise behavior.\n",
      "  return self.add_(other)\n",
      "/home/raja/OpenNMT-py/translate.py:104: DeprecationWarning: generator 'Iterator.__iter__' raised StopIteration\n",
      "  for batch in data_iter:\n"
     ]
    },
    {
     "name": "stdout",
     "output_type": "stream",
     "text": [
      "PRED AVG SCORE: -0.5932, PRED PPL: 1.8098\n",
      "GOLD AVG SCORE: -2.3069, GOLD PPL: 10.0428\n",
      "\n",
      ">> BLEU = 31.07, 64.5/38.2/24.6/16.1 (BP=0.990, ratio=0.990, hyp_len=26653, ref_len=26927)\n"
     ]
    }
   ],
   "source": [
    "%run ./translate.py -model german_models/iwslt_de_en_50k_default_params_acc_59.88_ppl_11.03_e13.pt -src ../IWSLT/tmp/IWSLT14.TED.tst2011.de-en.de -tgt ../IWSLT/tmp/IWSLT14.TED.tst2011.de-en.en -output german_outputs/2011_iwslt_de_en_50k_default_params_acc_59.88_ppl_11.03_e13.pt -replace_unk -report_bleu -gpu 0"
   ]
  },
  {
   "cell_type": "code",
   "execution_count": 11,
   "metadata": {},
   "outputs": [
    {
     "name": "stdout",
     "output_type": "stream",
     "text": [
      "Loading model parameters.\n"
     ]
    },
    {
     "name": "stderr",
     "output_type": "stream",
     "text": [
      "/home/raja/OpenNMT-py/onmt/modules/GlobalAttention.py:177: UserWarning: Implicit dimension choice for softmax has been deprecated. Change the call to include dim=X as an argument.\n",
      "  align_vectors = self.sm(align.view(batch*targetL, sourceL))\n",
      "/home/raja/anaconda3/envs/opennmt/lib/python3.6/site-packages/torch/nn/modules/container.py:67: UserWarning: Implicit dimension choice for log_softmax has been deprecated. Change the call to include dim=X as an argument.\n",
      "  input = module(input)\n",
      "/home/raja/anaconda3/envs/opennmt/lib/python3.6/site-packages/torch/tensor.py:297: UserWarning: other is not broadcastable to self, but they have the same number of elements.  Falling back to deprecated pointwise behavior.\n",
      "  return self.add_(other)\n",
      "/home/raja/OpenNMT-py/translate.py:104: DeprecationWarning: generator 'Iterator.__iter__' raised StopIteration\n",
      "  for batch in data_iter:\n"
     ]
    },
    {
     "name": "stdout",
     "output_type": "stream",
     "text": [
      "PRED AVG SCORE: -0.6007, PRED PPL: 1.8235\n",
      "GOLD AVG SCORE: -2.6325, GOLD PPL: 13.9087\n",
      "\n",
      ">> BLEU = 27.58, 62.0/35.0/21.7/13.7 (BP=0.973, ratio=0.973, hyp_len=29884, ref_len=30706)\n"
     ]
    }
   ],
   "source": [
    "%run ./translate.py -model german_models/iwslt_de_en_50k_default_params_acc_59.88_ppl_11.03_e13.pt -src ../IWSLT/tmp/IWSLT14.TED.tst2012.de-en.de -tgt ../IWSLT/tmp/IWSLT14.TED.tst2012.de-en.en -output german_outputs/2012_iwslt_de_en_50k_default_params_acc_59.88_ppl_11.03_e13.pt -replace_unk -report_bleu -gpu 0"
   ]
  },
  {
   "cell_type": "code",
   "execution_count": 12,
   "metadata": {},
   "outputs": [
    {
     "name": "stdout",
     "output_type": "stream",
     "text": [
      "Loading model parameters.\n"
     ]
    },
    {
     "name": "stderr",
     "output_type": "stream",
     "text": [
      "/home/raja/OpenNMT-py/onmt/modules/GlobalAttention.py:177: UserWarning: Implicit dimension choice for softmax has been deprecated. Change the call to include dim=X as an argument.\n",
      "  align_vectors = self.sm(align.view(batch*targetL, sourceL))\n",
      "/home/raja/anaconda3/envs/opennmt/lib/python3.6/site-packages/torch/nn/modules/container.py:67: UserWarning: Implicit dimension choice for log_softmax has been deprecated. Change the call to include dim=X as an argument.\n",
      "  input = module(input)\n",
      "/home/raja/anaconda3/envs/opennmt/lib/python3.6/site-packages/torch/tensor.py:297: UserWarning: other is not broadcastable to self, but they have the same number of elements.  Falling back to deprecated pointwise behavior.\n",
      "  return self.add_(other)\n",
      "/home/raja/OpenNMT-py/translate.py:104: DeprecationWarning: generator 'Iterator.__iter__' raised StopIteration\n",
      "  for batch in data_iter:\n"
     ]
    },
    {
     "name": "stdout",
     "output_type": "stream",
     "text": [
      "PRED AVG SCORE: -0.9010, PRED PPL: 2.4620\n",
      "GOLD AVG SCORE: -4.5795, GOLD PPL: 97.4694\n",
      "\n",
      ">> BLEU = 13.73, 46.1/18.8/9.0/4.5 (BP=1.000, ratio=1.071, hyp_len=70254, ref_len=65602)\n"
     ]
    }
   ],
   "source": [
    "%run ./translate.py -model german_models/iwslt_de_en_50k_default_params_acc_59.88_ppl_11.03_e13.pt -src ../IWSLT/newstest2013.tok.de -tgt ../IWSLT/newstest2013.tok.en -output german_outputs/2013_news_iwslt_de_en_50k_default_params_acc_59.88_ppl_11.03_e13.pt -replace_unk -report_bleu -gpu 0"
   ]
  },
  {
   "cell_type": "code",
   "execution_count": 13,
   "metadata": {},
   "outputs": [
    {
     "name": "stdout",
     "output_type": "stream",
     "text": [
      "Loading model parameters.\n"
     ]
    },
    {
     "name": "stderr",
     "output_type": "stream",
     "text": [
      "/home/raja/OpenNMT-py/onmt/modules/GlobalAttention.py:177: UserWarning: Implicit dimension choice for softmax has been deprecated. Change the call to include dim=X as an argument.\n",
      "  align_vectors = self.sm(align.view(batch*targetL, sourceL))\n",
      "/home/raja/anaconda3/envs/opennmt/lib/python3.6/site-packages/torch/nn/modules/container.py:67: UserWarning: Implicit dimension choice for log_softmax has been deprecated. Change the call to include dim=X as an argument.\n",
      "  input = module(input)\n",
      "/home/raja/anaconda3/envs/opennmt/lib/python3.6/site-packages/torch/tensor.py:297: UserWarning: other is not broadcastable to self, but they have the same number of elements.  Falling back to deprecated pointwise behavior.\n",
      "  return self.add_(other)\n",
      "/home/raja/OpenNMT-py/translate.py:104: DeprecationWarning: generator 'Iterator.__iter__' raised StopIteration\n",
      "  for batch in data_iter:\n"
     ]
    },
    {
     "name": "stdout",
     "output_type": "stream",
     "text": [
      "PRED AVG SCORE: -1.0013, PRED PPL: 2.7219\n",
      "GOLD AVG SCORE: -5.0487, GOLD PPL: 155.8201\n",
      "\n",
      ">> BLEU = 11.52, 43.1/16.4/7.2/3.4 (BP=1.000, ratio=1.099, hyp_len=81110, ref_len=73799)\n"
     ]
    }
   ],
   "source": [
    "%run ./translate.py -model german_models/iwslt_de_en_50k_default_params_acc_59.88_ppl_11.03_e13.pt -src ../IWSLT/newstest2012.tok.de -tgt ../IWSLT/newstest2012.tok.en -output german_outputs/2012_news_iwslt_de_en_50k_default_params_acc_59.88_ppl_11.03_e13.pt -replace_unk -report_bleu -gpu 0"
   ]
  },
  {
   "cell_type": "code",
   "execution_count": null,
   "metadata": {},
   "outputs": [],
   "source": []
  }
 ],
 "metadata": {
  "kernelspec": {
   "display_name": "Python 3",
   "language": "python",
   "name": "python3"
  },
  "language_info": {
   "codemirror_mode": {
    "name": "ipython",
    "version": 3
   },
   "file_extension": ".py",
   "mimetype": "text/x-python",
   "name": "python",
   "nbconvert_exporter": "python",
   "pygments_lexer": "ipython3",
   "version": "3.6.4"
  }
 },
 "nbformat": 4,
 "nbformat_minor": 2
}
