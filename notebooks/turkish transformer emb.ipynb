{
 "cells": [
  {
   "cell_type": "code",
   "execution_count": null,
   "metadata": {},
   "outputs": [
    {
     "name": "stdout",
     "output_type": "stream",
     "text": [
      "Loading model parameters.\n"
     ]
    },
    {
     "name": "stderr",
     "output_type": "stream",
     "text": [
      "/home/raja/anaconda3/envs/opennmt/lib/python3.6/site-packages/torch/nn/modules/module.py:325: UserWarning: Implicit dimension choice for softmax has been deprecated. Change the call to include dim=X as an argument.\n",
      "  result = self.forward(*input, **kwargs)\n",
      "/home/raja/anaconda3/envs/opennmt/lib/python3.6/site-packages/torch/nn/modules/container.py:67: UserWarning: Implicit dimension choice for log_softmax has been deprecated. Change the call to include dim=X as an argument.\n",
      "  input = module(input)\n",
      "/home/raja/anaconda3/envs/opennmt/lib/python3.6/site-packages/torch/tensor.py:297: UserWarning: other is not broadcastable to self, but they have the same number of elements.  Falling back to deprecated pointwise behavior.\n",
      "  return self.add_(other)\n",
      "/home/raja/OpenNMT-py/translate.py:104: DeprecationWarning: generator 'Iterator.__iter__' raised StopIteration\n",
      "  for batch in data_iter:\n"
     ]
    },
    {
     "name": "stdout",
     "output_type": "stream",
     "text": [
      "PRED AVG SCORE: -0.9562, PRED PPL: 2.6018\n",
      "GOLD AVG SCORE: -2.9964, GOLD PPL: 20.0126\n",
      "\n",
      ">> BLEU = 17.01, 52.6/23.9/12.3/6.5 (BP=0.954, ratio=0.955, hyp_len=30571, ref_len=32011)\n"
     ]
    }
   ],
   "source": [
    "%run ./translate.py -model turkish_models/iwslt_tr_en_50_transformer_sensitive_param_v2_fix_emb_acc_51.62_ppl_16.30_e30.pt -src ../IWSLT_tr/tmp/IWSLT14.TED.tst2010.tr-en.tr -tgt ../IWSLT_tr/tmp/IWSLT14.TED.tst2010.tr-en.en -output turkish_ouputs/2010_iwslt_tr_en_50_transformer_sensitive_param_v2_fix_emb_.txt -replace_unk -report_bleu -gpu 0"
   ]
  },
  {
   "cell_type": "code",
   "execution_count": null,
   "metadata": {},
   "outputs": [
    {
     "name": "stdout",
     "output_type": "stream",
     "text": [
      "Loading model parameters.\n"
     ]
    },
    {
     "name": "stderr",
     "output_type": "stream",
     "text": [
      "/home/raja/anaconda3/envs/opennmt/lib/python3.6/site-packages/torch/nn/modules/module.py:325: UserWarning: Implicit dimension choice for softmax has been deprecated. Change the call to include dim=X as an argument.\n",
      "  result = self.forward(*input, **kwargs)\n",
      "/home/raja/anaconda3/envs/opennmt/lib/python3.6/site-packages/torch/nn/modules/container.py:67: UserWarning: Implicit dimension choice for log_softmax has been deprecated. Change the call to include dim=X as an argument.\n",
      "  input = module(input)\n",
      "/home/raja/anaconda3/envs/opennmt/lib/python3.6/site-packages/torch/tensor.py:297: UserWarning: other is not broadcastable to self, but they have the same number of elements.  Falling back to deprecated pointwise behavior.\n",
      "  return self.add_(other)\n",
      "/home/raja/OpenNMT-py/translate.py:104: DeprecationWarning: generator 'Iterator.__iter__' raised StopIteration\n",
      "  for batch in data_iter:\n"
     ]
    },
    {
     "name": "stdout",
     "output_type": "stream",
     "text": [
      "PRED AVG SCORE: -0.9593, PRED PPL: 2.6098\n",
      "GOLD AVG SCORE: -2.9953, GOLD PPL: 19.9913\n",
      "\n",
      ">> BLEU = 18.11, 52.8/24.4/12.9/7.1 (BP=0.978, ratio=0.978, hyp_len=24136, ref_len=24676)\n"
     ]
    }
   ],
   "source": [
    "%run ./translate.py -model turkish_models/iwslt_tr_en_50_transformer_sensitive_param_v2_fix_emb_acc_51.62_ppl_16.30_e30.pt -src ../IWSLT_tr/tmp/IWSLT14.TED.tst2011.tr-en.tr -tgt ../IWSLT_tr/tmp/IWSLT14.TED.tst2011.tr-en.en -output turkish_ouputs/2011_iwslt_tr_en_50_transformer_sensitive_param_v2_fix_emb_.txt -replace_unk -report_bleu -gpu 0"
   ]
  },
  {
   "cell_type": "code",
   "execution_count": 4,
   "metadata": {},
   "outputs": [
    {
     "name": "stdout",
     "output_type": "stream",
     "text": [
      "Loading model parameters.\n"
     ]
    },
    {
     "name": "stderr",
     "output_type": "stream",
     "text": [
      "/home/raja/anaconda3/envs/opennmt/lib/python3.6/site-packages/torch/nn/modules/module.py:325: UserWarning: Implicit dimension choice for softmax has been deprecated. Change the call to include dim=X as an argument.\n",
      "  result = self.forward(*input, **kwargs)\n",
      "/home/raja/anaconda3/envs/opennmt/lib/python3.6/site-packages/torch/nn/modules/container.py:67: UserWarning: Implicit dimension choice for log_softmax has been deprecated. Change the call to include dim=X as an argument.\n",
      "  input = module(input)\n",
      "/home/raja/anaconda3/envs/opennmt/lib/python3.6/site-packages/torch/tensor.py:297: UserWarning: other is not broadcastable to self, but they have the same number of elements.  Falling back to deprecated pointwise behavior.\n",
      "  return self.add_(other)\n",
      "/home/raja/OpenNMT-py/translate.py:104: DeprecationWarning: generator 'Iterator.__iter__' raised StopIteration\n",
      "  for batch in data_iter:\n"
     ]
    },
    {
     "name": "stdout",
     "output_type": "stream",
     "text": [
      "PRED AVG SCORE: -0.9628, PRED PPL: 2.6191\n",
      "GOLD AVG SCORE: -2.9333, GOLD PPL: 18.7903\n",
      "\n",
      ">> BLEU = 18.86, 53.5/25.2/13.8/7.8 (BP=0.967, ratio=0.967, hyp_len=29644, ref_len=30644)\n"
     ]
    }
   ],
   "source": [
    "%run ./translate.py -model turkish_models/iwslt_tr_en_50_transformer_sensitive_param_v2_fix_emb_acc_51.62_ppl_16.30_e30.pt -src ../IWSLT_tr/tmp/IWSLT14.TED.tst2012.tr-en.tr -tgt ../IWSLT_tr/tmp/IWSLT14.TED.tst2012.tr-en.en -output turkish_ouputs/2012_iwslt_tr_en_50_transformer_sensitive_param_v2_fix_emb_.txt -replace_unk -report_bleu -gpu 0"
   ]
  },
  {
   "cell_type": "code",
   "execution_count": null,
   "metadata": {},
   "outputs": [],
   "source": [
    "#turkish_models/transormer_expanded_50002,166255_fix_emb.pt"
   ]
  },
  {
   "cell_type": "code",
   "execution_count": 5,
   "metadata": {},
   "outputs": [
    {
     "name": "stdout",
     "output_type": "stream",
     "text": [
      "Loading model parameters.\n"
     ]
    },
    {
     "name": "stderr",
     "output_type": "stream",
     "text": [
      "/home/raja/anaconda3/envs/opennmt/lib/python3.6/site-packages/torch/nn/modules/module.py:325: UserWarning: Implicit dimension choice for softmax has been deprecated. Change the call to include dim=X as an argument.\n",
      "  result = self.forward(*input, **kwargs)\n",
      "/home/raja/anaconda3/envs/opennmt/lib/python3.6/site-packages/torch/nn/modules/container.py:67: UserWarning: Implicit dimension choice for log_softmax has been deprecated. Change the call to include dim=X as an argument.\n",
      "  input = module(input)\n",
      "/home/raja/anaconda3/envs/opennmt/lib/python3.6/site-packages/torch/tensor.py:297: UserWarning: other is not broadcastable to self, but they have the same number of elements.  Falling back to deprecated pointwise behavior.\n",
      "  return self.add_(other)\n",
      "/home/raja/OpenNMT-py/translate.py:104: DeprecationWarning: generator 'Iterator.__iter__' raised StopIteration\n",
      "  for batch in data_iter:\n"
     ]
    },
    {
     "name": "stdout",
     "output_type": "stream",
     "text": [
      "PRED AVG SCORE: -0.9211, PRED PPL: 2.5121\n",
      "GOLD AVG SCORE: -2.8542, GOLD PPL: 17.3609\n",
      "\n",
      ">> BLEU = 18.58, 56.1/26.4/14.1/7.8 (BP=0.926, ratio=0.928, hyp_len=29722, ref_len=32011)\n"
     ]
    }
   ],
   "source": [
    "%run ./translate.py -model turkish_models/transormer_expanded_50002,166255_fix_emb.pt -src ../IWSLT_tr/tmp/IWSLT14.TED.tst2010.tr-en.tr -tgt ../IWSLT_tr/tmp/IWSLT14.TED.tst2010.tr-en.en -output turkish_ouputs/2010_iwslt_tr_en_50_transformer_sensitive_param_v2_fix_emb_expanded.txt -replace_unk -report_bleu -gpu 0"
   ]
  },
  {
   "cell_type": "code",
   "execution_count": 6,
   "metadata": {},
   "outputs": [
    {
     "name": "stdout",
     "output_type": "stream",
     "text": [
      "Loading model parameters.\n"
     ]
    },
    {
     "name": "stderr",
     "output_type": "stream",
     "text": [
      "/home/raja/anaconda3/envs/opennmt/lib/python3.6/site-packages/torch/nn/modules/module.py:325: UserWarning: Implicit dimension choice for softmax has been deprecated. Change the call to include dim=X as an argument.\n",
      "  result = self.forward(*input, **kwargs)\n",
      "/home/raja/anaconda3/envs/opennmt/lib/python3.6/site-packages/torch/nn/modules/container.py:67: UserWarning: Implicit dimension choice for log_softmax has been deprecated. Change the call to include dim=X as an argument.\n",
      "  input = module(input)\n",
      "/home/raja/anaconda3/envs/opennmt/lib/python3.6/site-packages/torch/tensor.py:297: UserWarning: other is not broadcastable to self, but they have the same number of elements.  Falling back to deprecated pointwise behavior.\n",
      "  return self.add_(other)\n",
      "/home/raja/OpenNMT-py/translate.py:104: DeprecationWarning: generator 'Iterator.__iter__' raised StopIteration\n",
      "  for batch in data_iter:\n"
     ]
    },
    {
     "name": "stdout",
     "output_type": "stream",
     "text": [
      "PRED AVG SCORE: -0.9217, PRED PPL: 2.5137\n",
      "GOLD AVG SCORE: -2.8373, GOLD PPL: 17.0698\n",
      "\n",
      ">> BLEU = 19.76, 56.3/27.3/14.9/8.5 (BP=0.940, ratio=0.942, hyp_len=23243, ref_len=24676)\n"
     ]
    }
   ],
   "source": [
    "%run ./translate.py -model turkish_models/transormer_expanded_50002,166255_fix_emb.pt -src ../IWSLT_tr/tmp/IWSLT14.TED.tst2011.tr-en.tr -tgt ../IWSLT_tr/tmp/IWSLT14.TED.tst2011.tr-en.en -output turkish_ouputs/2011_iwslt_tr_en_50_transformer_sensitive_param_v2_fix_emb_expanded.txt -replace_unk -report_bleu -gpu 0"
   ]
  },
  {
   "cell_type": "code",
   "execution_count": 3,
   "metadata": {},
   "outputs": [
    {
     "ename": "FileNotFoundError",
     "evalue": "[Errno 2] No such file or directory: 'turkish_models/transormer_expanded_50002,166255_fix_emb.pt'",
     "output_type": "error",
     "traceback": [
      "\u001b[0;31m---------------------------------------------------------------------------\u001b[0m",
      "\u001b[0;31mFileNotFoundError\u001b[0m                         Traceback (most recent call last)",
      "\u001b[0;32m~/OpenNMT-py/translate.py\u001b[0m in \u001b[0;36m<module>\u001b[0;34m()\u001b[0m\n\u001b[1;32m    150\u001b[0m \u001b[0;34m\u001b[0m\u001b[0m\n\u001b[1;32m    151\u001b[0m \u001b[0;32mif\u001b[0m \u001b[0m__name__\u001b[0m \u001b[0;34m==\u001b[0m \u001b[0;34m\"__main__\"\u001b[0m\u001b[0;34m:\u001b[0m\u001b[0;34m\u001b[0m\u001b[0m\n\u001b[0;32m--> 152\u001b[0;31m     \u001b[0mmain\u001b[0m\u001b[0;34m(\u001b[0m\u001b[0;34m)\u001b[0m\u001b[0;34m\u001b[0m\u001b[0m\n\u001b[0m",
      "\u001b[0;32m~/OpenNMT-py/translate.py\u001b[0m in \u001b[0;36mmain\u001b[0;34m()\u001b[0m\n\u001b[1;32m     64\u001b[0m     \u001b[0;31m# Load the model.\u001b[0m\u001b[0;34m\u001b[0m\u001b[0;34m\u001b[0m\u001b[0m\n\u001b[1;32m     65\u001b[0m     \u001b[0mfields\u001b[0m\u001b[0;34m,\u001b[0m \u001b[0mmodel\u001b[0m\u001b[0;34m,\u001b[0m \u001b[0mmodel_opt\u001b[0m \u001b[0;34m=\u001b[0m\u001b[0;31m \u001b[0m\u001b[0;31m\\\u001b[0m\u001b[0;34m\u001b[0m\u001b[0m\n\u001b[0;32m---> 66\u001b[0;31m         \u001b[0monmt\u001b[0m\u001b[0;34m.\u001b[0m\u001b[0mModelConstructor\u001b[0m\u001b[0;34m.\u001b[0m\u001b[0mload_test_model\u001b[0m\u001b[0;34m(\u001b[0m\u001b[0mopt\u001b[0m\u001b[0;34m,\u001b[0m \u001b[0mdummy_opt\u001b[0m\u001b[0;34m.\u001b[0m\u001b[0m__dict__\u001b[0m\u001b[0;34m)\u001b[0m\u001b[0;34m\u001b[0m\u001b[0m\n\u001b[0m\u001b[1;32m     67\u001b[0m \u001b[0;34m\u001b[0m\u001b[0m\n\u001b[1;32m     68\u001b[0m     \u001b[0;31m# File to write sentences to.\u001b[0m\u001b[0;34m\u001b[0m\u001b[0;34m\u001b[0m\u001b[0m\n",
      "\u001b[0;32m~/OpenNMT-py/onmt/ModelConstructor.py\u001b[0m in \u001b[0;36mload_test_model\u001b[0;34m(opt, dummy_opt)\u001b[0m\n\u001b[1;32m    117\u001b[0m \u001b[0;32mdef\u001b[0m \u001b[0mload_test_model\u001b[0m\u001b[0;34m(\u001b[0m\u001b[0mopt\u001b[0m\u001b[0;34m,\u001b[0m \u001b[0mdummy_opt\u001b[0m\u001b[0;34m)\u001b[0m\u001b[0;34m:\u001b[0m\u001b[0;34m\u001b[0m\u001b[0m\n\u001b[1;32m    118\u001b[0m     checkpoint = torch.load(opt.model,\n\u001b[0;32m--> 119\u001b[0;31m                             map_location=lambda storage, loc: storage)\n\u001b[0m\u001b[1;32m    120\u001b[0m     fields = onmt.io.load_fields_from_vocab(\n\u001b[1;32m    121\u001b[0m         checkpoint['vocab'], data_type=opt.data_type)\n",
      "\u001b[0;32m~/anaconda3/envs/opennmt/lib/python3.6/site-packages/torch/serialization.py\u001b[0m in \u001b[0;36mload\u001b[0;34m(f, map_location, pickle_module)\u001b[0m\n\u001b[1;32m    257\u001b[0m             \u001b[0;34m(\u001b[0m\u001b[0msys\u001b[0m\u001b[0;34m.\u001b[0m\u001b[0mversion_info\u001b[0m\u001b[0;34m[\u001b[0m\u001b[0;36m0\u001b[0m\u001b[0;34m]\u001b[0m \u001b[0;34m==\u001b[0m \u001b[0;36m3\u001b[0m \u001b[0;32mand\u001b[0m \u001b[0misinstance\u001b[0m\u001b[0;34m(\u001b[0m\u001b[0mf\u001b[0m\u001b[0;34m,\u001b[0m \u001b[0mpathlib\u001b[0m\u001b[0;34m.\u001b[0m\u001b[0mPath\u001b[0m\u001b[0;34m)\u001b[0m\u001b[0;34m)\u001b[0m\u001b[0;34m:\u001b[0m\u001b[0;34m\u001b[0m\u001b[0m\n\u001b[1;32m    258\u001b[0m         \u001b[0mnew_fd\u001b[0m \u001b[0;34m=\u001b[0m \u001b[0;32mTrue\u001b[0m\u001b[0;34m\u001b[0m\u001b[0m\n\u001b[0;32m--> 259\u001b[0;31m         \u001b[0mf\u001b[0m \u001b[0;34m=\u001b[0m \u001b[0mopen\u001b[0m\u001b[0;34m(\u001b[0m\u001b[0mf\u001b[0m\u001b[0;34m,\u001b[0m \u001b[0;34m'rb'\u001b[0m\u001b[0;34m)\u001b[0m\u001b[0;34m\u001b[0m\u001b[0m\n\u001b[0m\u001b[1;32m    260\u001b[0m     \u001b[0;32mtry\u001b[0m\u001b[0;34m:\u001b[0m\u001b[0;34m\u001b[0m\u001b[0m\n\u001b[1;32m    261\u001b[0m         \u001b[0;32mreturn\u001b[0m \u001b[0m_load\u001b[0m\u001b[0;34m(\u001b[0m\u001b[0mf\u001b[0m\u001b[0;34m,\u001b[0m \u001b[0mmap_location\u001b[0m\u001b[0;34m,\u001b[0m \u001b[0mpickle_module\u001b[0m\u001b[0;34m)\u001b[0m\u001b[0;34m\u001b[0m\u001b[0m\n",
      "\u001b[0;31mFileNotFoundError\u001b[0m: [Errno 2] No such file or directory: 'turkish_models/transormer_expanded_50002,166255_fix_emb.pt'"
     ]
    }
   ],
   "source": [
    "%run ./translate.py -model turkish_models/transormer_expanded_50002,166255_fix_emb.pt -src ../IWSLT_tr/tmp/IWSLT14.TED.tst2012.tr-en.tr -tgt ../IWSLT_tr/tmp/IWSLT14.TED.tst2012.tr-en.en -output turkish_outputs/2012_iwslt_tr_en_50_transformer_sensitive_param_v2_fix_emb_expanded.txt -replace_unk -report_bleu -gpu 0"
   ]
  },
  {
   "cell_type": "code",
   "execution_count": 4,
   "metadata": {},
   "outputs": [
    {
     "name": "stdout",
     "output_type": "stream",
     "text": [
      "Loading model parameters.\n",
      "average src size 14.839923469387756 1568\n"
     ]
    },
    {
     "name": "stderr",
     "output_type": "stream",
     "text": [
      "/home/raja/anaconda3/envs/opennmt/lib/python3.6/site-packages/torch/nn/modules/container.py:67: UserWarning: Implicit dimension choice for log_softmax has been deprecated. Change the call to include dim=X as an argument.\n",
      "  input = module(input)\n",
      "/home/raja/anaconda3/envs/opennmt/lib/python3.6/site-packages/torch/tensor.py:297: UserWarning: other is not broadcastable to self, but they have the same number of elements.  Falling back to deprecated pointwise behavior.\n",
      "  return self.add_(other)\n",
      "/home/raja/OpenNMT-py/translate.py:115: DeprecationWarning: generator 'Iterator.__iter__' raised StopIteration\n",
      "  for batch in data_iter:\n"
     ]
    },
    {
     "name": "stdout",
     "output_type": "stream",
     "text": [
      "PRED AVG SCORE: -0.8681, PRED PPL: 2.3824\n",
      "GOLD AVG SCORE: -2.7917, GOLD PPL: 16.3085\n",
      "\n",
      ">> BLEU = 16.03, 53.0/23.1/11.5/6.0 (BP=0.939, ratio=0.941, hyp_len=30124, ref_len=32011)\n"
     ]
    }
   ],
   "source": [
    "%run ./translate.py -model turkish_models/iwslt14_setimes_tr-en.50k_transformer_emb_acc_58.22_ppl_9.97_e21.pt -src ../IWSLT_tr/tmp/IWSLT14.TED.tst2010.tr-en.tr -tgt ../IWSLT_tr/tmp/IWSLT14.TED.tst2010.tr-en.en -output turkish_outputs/2010_iwslt14_setimes_tr-en.50k_transformer_emb_acc_58.22_ppl_9.97_e21.pt.txt -replace_unk -report_bleu -gpu 0"
   ]
  },
  {
   "cell_type": "code",
   "execution_count": null,
   "metadata": {},
   "outputs": [
    {
     "name": "stdout",
     "output_type": "stream",
     "text": [
      "Loading model parameters.\n",
      "average src size 14.03582554517134 1284\n"
     ]
    },
    {
     "name": "stderr",
     "output_type": "stream",
     "text": [
      "/home/raja/anaconda3/envs/opennmt/lib/python3.6/site-packages/torch/nn/modules/container.py:67: UserWarning: Implicit dimension choice for log_softmax has been deprecated. Change the call to include dim=X as an argument.\n",
      "  input = module(input)\n",
      "/home/raja/anaconda3/envs/opennmt/lib/python3.6/site-packages/torch/tensor.py:297: UserWarning: other is not broadcastable to self, but they have the same number of elements.  Falling back to deprecated pointwise behavior.\n",
      "  return self.add_(other)\n",
      "/home/raja/OpenNMT-py/translate.py:115: DeprecationWarning: generator 'Iterator.__iter__' raised StopIteration\n",
      "  for batch in data_iter:\n"
     ]
    },
    {
     "name": "stdout",
     "output_type": "stream",
     "text": [
      "PRED AVG SCORE: -0.8585, PRED PPL: 2.3595\n",
      "GOLD AVG SCORE: -2.7472, GOLD PPL: 15.5983\n",
      "\n",
      ">> BLEU = 16.71, 52.9/23.3/11.9/6.2 (BP=0.962, ratio=0.963, hyp_len=23758, ref_len=24676)\n"
     ]
    }
   ],
   "source": [
    "%run ./translate.py -model turkish_models/iwslt14_setimes_tr-en.50k_transformer_emb_acc_58.22_ppl_9.97_e21.pt -src ../IWSLT_tr/tmp/IWSLT14.TED.tst2011.tr-en.tr -tgt ../IWSLT_tr/tmp/IWSLT14.TED.tst2011.tr-en.en -output turkish_outputs/2011_iwslt14_setimes_tr-en.50k_transformer_emb_acc_58.22_ppl_9.97_e21.pt.txt -replace_unk -report_bleu -gpu 0"
   ]
  },
  {
   "cell_type": "code",
   "execution_count": null,
   "metadata": {},
   "outputs": [
    {
     "name": "stdout",
     "output_type": "stream",
     "text": [
      "Loading model parameters.\n",
      "average src size 12.941558441558442 1694\n"
     ]
    },
    {
     "name": "stderr",
     "output_type": "stream",
     "text": [
      "/home/raja/anaconda3/envs/opennmt/lib/python3.6/site-packages/torch/nn/modules/container.py:67: UserWarning: Implicit dimension choice for log_softmax has been deprecated. Change the call to include dim=X as an argument.\n",
      "  input = module(input)\n",
      "/home/raja/anaconda3/envs/opennmt/lib/python3.6/site-packages/torch/tensor.py:297: UserWarning: other is not broadcastable to self, but they have the same number of elements.  Falling back to deprecated pointwise behavior.\n",
      "  return self.add_(other)\n"
     ]
    }
   ],
   "source": [
    "%run ./translate.py -model turkish_models/iwslt14_setimes_tr-en.50k_transformer_emb_acc_58.22_ppl_9.97_e21.pt -src ../IWSLT_tr/tmp/IWSLT14.TED.tst2012.tr-en.tr -tgt ../IWSLT_tr/tmp/IWSLT14.TED.tst2012.tr-en.en -output turkish_outputs/2012_iwslt14_setimes_tr-en.50k_transformer_emb_acc_58.22_ppl_9.97_e21.pt.txt -replace_unk -report_bleu -gpu 0"
   ]
  },
  {
   "cell_type": "code",
   "execution_count": 7,
   "metadata": {},
   "outputs": [
    {
     "name": "stdout",
     "output_type": "stream",
     "text": [
      "Loading model parameters.\n",
      "average src size 14.839923469387756 1568\n"
     ]
    },
    {
     "name": "stderr",
     "output_type": "stream",
     "text": [
      "/home/raja/anaconda3/envs/opennmt/lib/python3.6/site-packages/torch/nn/modules/container.py:67: UserWarning: Implicit dimension choice for log_softmax has been deprecated. Change the call to include dim=X as an argument.\n",
      "  input = module(input)\n",
      "/home/raja/anaconda3/envs/opennmt/lib/python3.6/site-packages/torch/tensor.py:297: UserWarning: other is not broadcastable to self, but they have the same number of elements.  Falling back to deprecated pointwise behavior.\n",
      "  return self.add_(other)\n",
      "/home/raja/OpenNMT-py/translate.py:115: DeprecationWarning: generator 'Iterator.__iter__' raised StopIteration\n",
      "  for batch in data_iter:\n"
     ]
    },
    {
     "name": "stdout",
     "output_type": "stream",
     "text": [
      "PRED AVG SCORE: -0.8659, PRED PPL: 2.3771\n",
      "GOLD AVG SCORE: -2.7016, GOLD PPL: 14.9037\n",
      "\n",
      ">> BLEU = 16.77, 54.5/24.2/12.2/6.3 (BP=0.940, ratio=0.942, hyp_len=30140, ref_len=32011)\n"
     ]
    }
   ],
   "source": [
    "%run ./translate.py -model turkish_models/iwslt14_setimes_tr-en.50k_transformer_emb_acc_58.22_ppl_9.97_e21_extended.pt -src ../IWSLT_tr/tmp/IWSLT14.TED.tst2010.tr-en.tr -tgt ../IWSLT_tr/tmp/IWSLT14.TED.tst2010.tr-en.en -output turkish_outputs/2010_iwslt14_setimes_tr-en.50k_transformer_emb_acc_58.22_ppl_9.97_e21_extended.pt.txt -replace_unk -report_bleu -gpu 0"
   ]
  },
  {
   "cell_type": "code",
   "execution_count": 8,
   "metadata": {},
   "outputs": [
    {
     "name": "stdout",
     "output_type": "stream",
     "text": [
      "Loading model parameters.\n",
      "average src size 14.03582554517134 1284\n"
     ]
    },
    {
     "name": "stderr",
     "output_type": "stream",
     "text": [
      "/home/raja/anaconda3/envs/opennmt/lib/python3.6/site-packages/torch/nn/modules/container.py:67: UserWarning: Implicit dimension choice for log_softmax has been deprecated. Change the call to include dim=X as an argument.\n",
      "  input = module(input)\n",
      "/home/raja/anaconda3/envs/opennmt/lib/python3.6/site-packages/torch/tensor.py:297: UserWarning: other is not broadcastable to self, but they have the same number of elements.  Falling back to deprecated pointwise behavior.\n",
      "  return self.add_(other)\n",
      "/home/raja/OpenNMT-py/translate.py:115: DeprecationWarning: generator 'Iterator.__iter__' raised StopIteration\n",
      "  for batch in data_iter:\n"
     ]
    },
    {
     "name": "stdout",
     "output_type": "stream",
     "text": [
      "PRED AVG SCORE: -0.8596, PRED PPL: 2.3623\n",
      "GOLD AVG SCORE: -2.6569, GOLD PPL: 14.2523\n",
      "\n",
      ">> BLEU = 17.89, 54.5/24.7/12.7/6.8 (BP=0.969, ratio=0.970, hyp_len=23929, ref_len=24676)\n"
     ]
    }
   ],
   "source": [
    "%run ./translate.py -model turkish_models/iwslt14_setimes_tr-en.50k_transformer_emb_acc_58.22_ppl_9.97_e21_extended.pt -src ../IWSLT_tr/tmp/IWSLT14.TED.tst2011.tr-en.tr -tgt ../IWSLT_tr/tmp/IWSLT14.TED.tst2011.tr-en.en -output turkish_outputs/2011_iwslt14_setimes_tr-en.50k_transformer_emb_acc_58.22_ppl_9.97_e21_extended.pt.txt -replace_unk -report_bleu -gpu 0"
   ]
  },
  {
   "cell_type": "code",
   "execution_count": 9,
   "metadata": {},
   "outputs": [
    {
     "name": "stdout",
     "output_type": "stream",
     "text": [
      "Loading model parameters.\n",
      "average src size 12.941558441558442 1694\n"
     ]
    },
    {
     "name": "stderr",
     "output_type": "stream",
     "text": [
      "/home/raja/anaconda3/envs/opennmt/lib/python3.6/site-packages/torch/nn/modules/container.py:67: UserWarning: Implicit dimension choice for log_softmax has been deprecated. Change the call to include dim=X as an argument.\n",
      "  input = module(input)\n",
      "/home/raja/anaconda3/envs/opennmt/lib/python3.6/site-packages/torch/tensor.py:297: UserWarning: other is not broadcastable to self, but they have the same number of elements.  Falling back to deprecated pointwise behavior.\n",
      "  return self.add_(other)\n",
      "/home/raja/OpenNMT-py/translate.py:115: DeprecationWarning: generator 'Iterator.__iter__' raised StopIteration\n",
      "  for batch in data_iter:\n"
     ]
    },
    {
     "name": "stdout",
     "output_type": "stream",
     "text": [
      "PRED AVG SCORE: -0.8449, PRED PPL: 2.3278\n",
      "GOLD AVG SCORE: -2.5934, GOLD PPL: 13.3747\n",
      "\n",
      ">> BLEU = 18.69, 56.2/25.9/13.9/7.7 (BP=0.941, ratio=0.943, hyp_len=28888, ref_len=30644)\n"
     ]
    }
   ],
   "source": [
    "%run ./translate.py -model turkish_models/iwslt14_setimes_tr-en.50k_transformer_emb_acc_58.22_ppl_9.97_e21_extended.pt -src ../IWSLT_tr/tmp/IWSLT14.TED.tst2012.tr-en.tr -tgt ../IWSLT_tr/tmp/IWSLT14.TED.tst2012.tr-en.en -output turkish_outputs/2012_iwslt14_setimes_tr-en.50k_transformer_emb_acc_58.22_ppl_9.97_e21_extended.pt.txt -replace_unk -report_bleu -gpu 0"
   ]
  },
  {
   "cell_type": "code",
   "execution_count": null,
   "metadata": {},
   "outputs": [],
   "source": []
  }
 ],
 "metadata": {
  "kernelspec": {
   "display_name": "Python 3",
   "language": "python",
   "name": "python3"
  },
  "language_info": {
   "codemirror_mode": {
    "name": "ipython",
    "version": 3
   },
   "file_extension": ".py",
   "mimetype": "text/x-python",
   "name": "python",
   "nbconvert_exporter": "python",
   "pygments_lexer": "ipython3",
   "version": "3.6.4"
  }
 },
 "nbformat": 4,
 "nbformat_minor": 2
}
