{
 "cells": [
  {
   "cell_type": "code",
   "execution_count": 1,
   "metadata": {},
   "outputs": [
    {
     "name": "stdout",
     "output_type": "stream",
     "text": [
      "iwslt_tr_en_default_1m_acc_47.78_ppl_25.52_e20.pt\r\n",
      "iwslt_tr_en_default_acc_48.96_ppl_19.76_e20.pt\r\n",
      "iwslt_tr_en_emb_fix_1m_acc_51.07_ppl_15.08_e20.pt\r\n",
      "iwslt_tr_en_emb_fix_50k_acc_50.59_ppl_15.44_e20.pt\r\n",
      "iwslt_tr_en_full_default_acc_50.81_ppl_14.53_e15.pt\r\n"
     ]
    }
   ],
   "source": [
    "ls turkish_models/"
   ]
  },
  {
   "cell_type": "code",
   "execution_count": 2,
   "metadata": {},
   "outputs": [],
   "source": [
    "import torch\n",
    "import os"
   ]
  },
  {
   "cell_type": "code",
   "execution_count": 9,
   "metadata": {},
   "outputs": [
    {
     "name": "stdout",
     "output_type": "stream",
     "text": [
      "iwslt_tr_en_default_acc_48.96_ppl_19.76_e20.pt 50002 47879\n",
      "iwslt_tr_en_full_default_acc_50.81_ppl_14.53_e15.pt 50002 50004\n",
      "iwslt_tr_en_default_1m_acc_47.78_ppl_25.52_e20.pt 158956 47879\n",
      "iwslt_tr_en_emb_fix_1m_acc_51.07_ppl_15.08_e20.pt 158956 47879\n",
      "iwslt_tr_en_emb_fix_50k_acc_50.59_ppl_15.44_e20.pt 50002 47879\n"
     ]
    }
   ],
   "source": [
    "for model_name in list(os.listdir(\"turkish_models\")):\n",
    "    model = torch.load(\"turkish_models/\"+model_name)\n",
    "    vocab = model.get(\"vocab\")\n",
    "    print (model_name, len(vocab[0][1].itos), len(vocab[1][1].itos))"
   ]
  },
  {
   "cell_type": "code",
   "execution_count": 4,
   "metadata": {},
   "outputs": [
    {
     "name": "stdout",
     "output_type": "stream",
     "text": [
      "iwslt_100k.train.1.pt                    iwslt_tr_en_full_50k.vocab.pt\r\n",
      "iwslt_100k.valid.1.pt                    iwslt.valid.1.pt\r\n",
      "iwslt_100k.vocab.pt                      iwslt.vocab.pt\r\n",
      "iwslt_news_merged_en_de.vocab.pt         \u001b[0m\u001b[01;34mmorph\u001b[0m/\r\n",
      "iwslt_setimes_tr_en_all_data.train.1.pt  README.md\r\n",
      "iwslt_setimes_tr_en_all_data.valid.1.pt  src-test.txt\r\n",
      "iwslt_setimes_tr_en_all_data.vocab.pt    src-train.txt\r\n",
      "iwslt.train.1.pt                         src-val.txt\r\n",
      "iwslt_tr_en_all.train.1.pt               test_model2.src\r\n",
      "iwslt_tr_en_all.valid.1.pt               test_model2.tgt\r\n",
      "iwslt_tr_en_all.vocab.pt                 tgt-train.txt\r\n",
      "iwslt_tr_en_full_2.5m.vocab.pt           tgt-val.txt\r\n"
     ]
    }
   ],
   "source": [
    "ls data/"
   ]
  },
  {
   "cell_type": "code",
   "execution_count": 3,
   "metadata": {},
   "outputs": [
    {
     "ename": "EOFError",
     "evalue": "Ran out of input",
     "output_type": "error",
     "traceback": [
      "\u001b[0;31m---------------------------------------------------------------------------\u001b[0m",
      "\u001b[0;31mEOFError\u001b[0m                                  Traceback (most recent call last)",
      "\u001b[0;32m<ipython-input-3-730372ae527d>\u001b[0m in \u001b[0;36m<module>\u001b[0;34m()\u001b[0m\n\u001b[0;32m----> 1\u001b[0;31m \u001b[0memb\u001b[0m \u001b[0;34m=\u001b[0m \u001b[0mtorch\u001b[0m\u001b[0;34m.\u001b[0m\u001b[0mload\u001b[0m\u001b[0;34m(\u001b[0m\u001b[0;34m\"embeddings/iwslt_tr_en_setimes_full.tr.enc.pt\"\u001b[0m\u001b[0;34m)\u001b[0m\u001b[0;34m\u001b[0m\u001b[0m\n\u001b[0m",
      "\u001b[0;32m~/anaconda3/envs/opennmt/lib/python3.6/site-packages/torch/serialization.py\u001b[0m in \u001b[0;36mload\u001b[0;34m(f, map_location, pickle_module)\u001b[0m\n\u001b[1;32m    259\u001b[0m         \u001b[0mf\u001b[0m \u001b[0;34m=\u001b[0m \u001b[0mopen\u001b[0m\u001b[0;34m(\u001b[0m\u001b[0mf\u001b[0m\u001b[0;34m,\u001b[0m \u001b[0;34m'rb'\u001b[0m\u001b[0;34m)\u001b[0m\u001b[0;34m\u001b[0m\u001b[0m\n\u001b[1;32m    260\u001b[0m     \u001b[0;32mtry\u001b[0m\u001b[0;34m:\u001b[0m\u001b[0;34m\u001b[0m\u001b[0m\n\u001b[0;32m--> 261\u001b[0;31m         \u001b[0;32mreturn\u001b[0m \u001b[0m_load\u001b[0m\u001b[0;34m(\u001b[0m\u001b[0mf\u001b[0m\u001b[0;34m,\u001b[0m \u001b[0mmap_location\u001b[0m\u001b[0;34m,\u001b[0m \u001b[0mpickle_module\u001b[0m\u001b[0;34m)\u001b[0m\u001b[0;34m\u001b[0m\u001b[0m\n\u001b[0m\u001b[1;32m    262\u001b[0m     \u001b[0;32mfinally\u001b[0m\u001b[0;34m:\u001b[0m\u001b[0;34m\u001b[0m\u001b[0m\n\u001b[1;32m    263\u001b[0m         \u001b[0;32mif\u001b[0m \u001b[0mnew_fd\u001b[0m\u001b[0;34m:\u001b[0m\u001b[0;34m\u001b[0m\u001b[0m\n",
      "\u001b[0;32m~/anaconda3/envs/opennmt/lib/python3.6/site-packages/torch/serialization.py\u001b[0m in \u001b[0;36m_load\u001b[0;34m(f, map_location, pickle_module)\u001b[0m\n\u001b[1;32m    397\u001b[0m \u001b[0;34m\u001b[0m\u001b[0m\n\u001b[1;32m    398\u001b[0m     \u001b[0mf\u001b[0m\u001b[0;34m.\u001b[0m\u001b[0mseek\u001b[0m\u001b[0;34m(\u001b[0m\u001b[0;36m0\u001b[0m\u001b[0;34m)\u001b[0m\u001b[0;34m\u001b[0m\u001b[0m\n\u001b[0;32m--> 399\u001b[0;31m     \u001b[0mmagic_number\u001b[0m \u001b[0;34m=\u001b[0m \u001b[0mpickle_module\u001b[0m\u001b[0;34m.\u001b[0m\u001b[0mload\u001b[0m\u001b[0;34m(\u001b[0m\u001b[0mf\u001b[0m\u001b[0;34m)\u001b[0m\u001b[0;34m\u001b[0m\u001b[0m\n\u001b[0m\u001b[1;32m    400\u001b[0m     \u001b[0;32mif\u001b[0m \u001b[0mmagic_number\u001b[0m \u001b[0;34m!=\u001b[0m \u001b[0mMAGIC_NUMBER\u001b[0m\u001b[0;34m:\u001b[0m\u001b[0;34m\u001b[0m\u001b[0m\n\u001b[1;32m    401\u001b[0m         \u001b[0;32mraise\u001b[0m \u001b[0mRuntimeError\u001b[0m\u001b[0;34m(\u001b[0m\u001b[0;34m\"Invalid magic number; corrupt file?\"\u001b[0m\u001b[0;34m)\u001b[0m\u001b[0;34m\u001b[0m\u001b[0m\n",
      "\u001b[0;31mEOFError\u001b[0m: Ran out of input"
     ]
    }
   ],
   "source": [
    "emb = torch.load(\"embeddings/iwslt_tr_en_setimes_full.tr.enc.pt\")"
   ]
  },
  {
   "cell_type": "code",
   "execution_count": 14,
   "metadata": {},
   "outputs": [
    {
     "data": {
      "text/plain": [
       "\n",
       "-1.9343e-01  7.9229e-03 -1.6058e-01  ...  -8.6722e-02  1.6909e-01 -3.7867e-01\n",
       "-3.0493e-02  3.8739e-01  1.3203e-01  ...   2.1639e-01  2.4669e-01  1.1102e-01\n",
       " 1.1264e-01 -1.5547e-01 -1.6745e-01  ...   2.1175e-01 -1.0081e-01 -1.7645e-01\n",
       "                ...                   ⋱                   ...                \n",
       "-2.5269e-01  1.4710e-01  1.5343e-01  ...   1.6637e-01 -2.2575e-01  2.8421e-03\n",
       "-2.1511e-01  2.7949e-01  3.6011e-01  ...  -6.9340e-02 -3.8359e-01 -2.9534e-01\n",
       "-2.3097e-01  1.5465e-01 -3.7538e-01  ...  -3.9866e-02 -3.2760e-01  1.8181e-01\n",
       "[torch.FloatTensor of size 50002x300]"
      ]
     },
     "execution_count": 14,
     "metadata": {},
     "output_type": "execute_result"
    }
   ],
   "source": []
  },
  {
   "cell_type": "code",
   "execution_count": null,
   "metadata": {},
   "outputs": [],
   "source": []
  }
 ],
 "metadata": {
  "kernelspec": {
   "display_name": "Python 3",
   "language": "python",
   "name": "python3"
  },
  "language_info": {
   "codemirror_mode": {
    "name": "ipython",
    "version": 3
   },
   "file_extension": ".py",
   "mimetype": "text/x-python",
   "name": "python",
   "nbconvert_exporter": "python",
   "pygments_lexer": "ipython3",
   "version": "3.6.4"
  }
 },
 "nbformat": 4,
 "nbformat_minor": 2
}
