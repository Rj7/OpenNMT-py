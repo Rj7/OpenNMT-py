{
 "cells": [
  {
   "cell_type": "code",
   "execution_count": 1,
   "metadata": {},
   "outputs": [],
   "source": [
    "import torch"
   ]
  },
  {
   "cell_type": "code",
   "execution_count": 2,
   "metadata": {},
   "outputs": [],
   "source": [
    "vocab = torch.load('data/iwslt14_setimes_tr-en.100k.vocab.pt')"
   ]
  },
  {
   "cell_type": "code",
   "execution_count": 3,
   "metadata": {},
   "outputs": [],
   "source": [
    "en_vocab = vocab[1][1].itos"
   ]
  },
  {
   "cell_type": "code",
   "execution_count": 4,
   "metadata": {},
   "outputs": [],
   "source": [
    "tr_vocab = vocab[0][1].itos"
   ]
  },
  {
   "cell_type": "code",
   "execution_count": 5,
   "metadata": {},
   "outputs": [
    {
     "data": {
      "text/plain": [
       "(90499, 100002)"
      ]
     },
     "execution_count": 5,
     "metadata": {},
     "output_type": "execute_result"
    }
   ],
   "source": [
    "len(en_vocab), len(tr_vocab)"
   ]
  },
  {
   "cell_type": "code",
   "execution_count": 6,
   "metadata": {},
   "outputs": [],
   "source": [
    "with open('embeddings/en_vocab_100k.txt', 'w') as f:\n",
    "    for word in en_vocab:\n",
    "        f.write(word + '\\n')"
   ]
  },
  {
   "cell_type": "code",
   "execution_count": 7,
   "metadata": {},
   "outputs": [],
   "source": [
    "with open('embeddings/tr_vocab_100k.txt', 'w') as f:\n",
    "    for word in tr_vocab:\n",
    "        f.write(word + '\\n')"
   ]
  },
  {
   "cell_type": "code",
   "execution_count": 40,
   "metadata": {},
   "outputs": [],
   "source": [
    "vocab = torch.load('data/iwslt14_setimes_tr-en.all_vocab.vocab.pt')"
   ]
  },
  {
   "cell_type": "code",
   "execution_count": 8,
   "metadata": {},
   "outputs": [],
   "source": [
    "en_vocab = vocab[1][1].itos\n",
    "tr_vocab = vocab[0][1].itos"
   ]
  },
  {
   "cell_type": "code",
   "execution_count": 9,
   "metadata": {},
   "outputs": [
    {
     "data": {
      "text/plain": [
       "(90499, 100002)"
      ]
     },
     "execution_count": 9,
     "metadata": {},
     "output_type": "execute_result"
    }
   ],
   "source": [
    "len(en_vocab), len(tr_vocab)"
   ]
  },
  {
   "cell_type": "code",
   "execution_count": 43,
   "metadata": {},
   "outputs": [],
   "source": [
    "with open('embeddings/tr-en_en_vocab_all.txt', 'w') as f:\n",
    "    for word in en_vocab:\n",
    "        f.write(word + '\\n')"
   ]
  },
  {
   "cell_type": "code",
   "execution_count": 44,
   "metadata": {},
   "outputs": [],
   "source": [
    "with open('embeddings/tr-en_tr_vocab_all.txt', 'w') as f:\n",
    "    for word in tr_vocab:\n",
    "        f.write(word + '\\n')"
   ]
  },
  {
   "cell_type": "code",
   "execution_count": 10,
   "metadata": {},
   "outputs": [],
   "source": [
    "! ../fastText/fasttext print-word-vectors ../embeddings/wiki.en.bin < embeddings/en_vocab_100k.txt > embeddings/tr-en_en_vocab_100k.emb"
   ]
  },
  {
   "cell_type": "code",
   "execution_count": 2,
   "metadata": {},
   "outputs": [],
   "source": [
    "! ../fastText/fasttext print-word-vectors ../embeddings/wiki.en.bin < embeddings/tr-en_en_vocab_all.txt > embeddings/tr-en_en_vocab_all.emb"
   ]
  },
  {
   "cell_type": "code",
   "execution_count": 11,
   "metadata": {},
   "outputs": [],
   "source": [
    "! ../fastText/fasttext print-word-vectors ../embeddings/wiki.tr.bin < embeddings/tr_vocab_100k.txt > embeddings/tr-en_tr_vocab_100k.emb"
   ]
  },
  {
   "cell_type": "code",
   "execution_count": 2,
   "metadata": {},
   "outputs": [],
   "source": [
    "! ../fastText/fasttext print-word-vectors ../embeddings/wiki.tr.bin < embeddings/tr-en_tr_vocab_all.txt > embeddings/tr-en_tr_vocab_all.emb"
   ]
  },
  {
   "cell_type": "code",
   "execution_count": 13,
   "metadata": {},
   "outputs": [
    {
     "name": "stdout",
     "output_type": "stream",
     "text": [
      "data/iwslt14_setimes_tr-en.100k.vocab.pt\n",
      "[('src', <torchtext.vocab.Vocab object at 0x7f5fb0f1a3c8>), ('tgt', <torchtext.vocab.Vocab object at 0x7f5fac10e0f0>)]\n",
      "<torchtext.vocab.Vocab object at 0x7f5fb0f1a3c8> <torchtext.vocab.Vocab object at 0x7f5fac10e0f0>\n",
      "From: data/iwslt14_setimes_tr-en.100k.vocab.pt\n",
      "\t* source vocab: 100002 words\n",
      "\t* target vocab: 90499 words\n",
      "Got 90499 embeddings from embeddings/tr-en_en_vocab_100k.emb\n",
      "\n",
      "Matching: \n",
      "\t* enc: 15543 match, 84459 missing, (15.54%)\n",
      "\t* dec: 90499 match, 0 missing, (100.00%)\n",
      "\n",
      "Filtered embeddings:\n",
      "\t* enc:  torch.Size([100002, 300])\n",
      "\t* dec:  torch.Size([90499, 300])\n",
      "\n",
      "Saving embedding as:\n",
      "\t* enc: embeddings/tr-en_en_vocab_100k.emb.en.enc.pt\n",
      "\t* dec: embeddings/tr-en_en_vocab_100k.emb.en.dec.pt\n",
      "\n",
      "Done.\n"
     ]
    }
   ],
   "source": [
    "! python tools/embeddings_to_torch.py -emb_file embeddings/tr-en_en_vocab_100k.emb -output_file embeddings/tr-en_en_vocab_100k.emb.en -dict_file data/iwslt14_setimes_tr-en.100k.vocab.pt"
   ]
  },
  {
   "cell_type": "code",
   "execution_count": 15,
   "metadata": {},
   "outputs": [
    {
     "name": "stdout",
     "output_type": "stream",
     "text": [
      "data/iwslt14_setimes_tr-en.100k.vocab.pt\n",
      "[('src', <torchtext.vocab.Vocab object at 0x7f69be6372e8>), ('tgt', <torchtext.vocab.Vocab object at 0x7f69b982a0f0>)]\n",
      "<torchtext.vocab.Vocab object at 0x7f69be6372e8> <torchtext.vocab.Vocab object at 0x7f69b982a0f0>\n",
      "From: data/iwslt14_setimes_tr-en.100k.vocab.pt\n",
      "\t* source vocab: 100002 words\n",
      "\t* target vocab: 90499 words\n",
      "Got 100002 embeddings from embeddings/tr-en_tr_vocab_100k.emb\n",
      "\n",
      "Matching: \n",
      "\t* enc: 100002 match, 0 missing, (100.00%)\n",
      "\t* dec: 15543 match, 74956 missing, (17.17%)\n",
      "\n",
      "Filtered embeddings:\n",
      "\t* enc:  torch.Size([100002, 300])\n",
      "\t* dec:  torch.Size([90499, 300])\n",
      "\n",
      "Saving embedding as:\n",
      "\t* enc: embeddings/tr-en_tr_vocab_100k.emb.tr.enc.pt\n",
      "\t* dec: embeddings/tr-en_tr_vocab_100k.emb.tr.dec.pt\n",
      "\n",
      "Done.\n"
     ]
    }
   ],
   "source": [
    "! python tools/embeddings_to_torch.py -emb_file embeddings/tr-en_tr_vocab_100k.emb -output_file embeddings/tr-en_tr_vocab_100k.emb.tr -dict_file data/iwslt14_setimes_tr-en.100k.vocab.pt"
   ]
  },
  {
   "cell_type": "code",
   "execution_count": 16,
   "metadata": {},
   "outputs": [
    {
     "name": "stdout",
     "output_type": "stream",
     "text": [
      "en_vocab_100k.txt                  tr-en_tr_vocab_100k.emb\r\n",
      "tr-en_en_vocab_100k.emb            tr-en_tr_vocab_100k.emb.tr.dec.pt\r\n",
      "tr-en_en_vocab_100k.emb.en.dec.pt  tr-en_tr_vocab_100k.emb.tr.enc.pt\r\n",
      "tr-en_en_vocab_100k.emb.en.enc.pt  tr-en_tr_vocab_50k.emb\r\n",
      "tr-en_en_vocab_50k.emb             tr-en_tr_vocab_50k.emb.tr.dec.pt\r\n",
      "tr-en_en_vocab_50k.emb.en.dec.pt   tr-en_tr_vocab_50k.emb.tr.enc.pt\r\n",
      "tr-en_en_vocab_50k.emb.en.enc.pt   tr-en_tr_vocab_50k.txt\r\n",
      "tr-en_en_vocab_50k.txt             tr-en_tr_vocab_all.emb\r\n",
      "tr-en_en_vocab_all.emb             tr-en_tr_vocab_all.emb.tr.dec.pt\r\n",
      "tr-en_en_vocab_all.emb.en.dec.pt   tr-en_tr_vocab_all.emb.tr.enc.pt\r\n",
      "tr-en_en_vocab_all.emb.en.enc.pt   tr-en_tr_vocab_all.txt\r\n",
      "tr-en_en_vocab_all.txt             tr_vocab_100k.txt\r\n"
     ]
    }
   ],
   "source": [
    "ls embeddings/"
   ]
  },
  {
   "cell_type": "code",
   "execution_count": null,
   "metadata": {},
   "outputs": [],
   "source": []
  }
 ],
 "metadata": {
  "kernelspec": {
   "display_name": "Python 3",
   "language": "python",
   "name": "python3"
  },
  "language_info": {
   "codemirror_mode": {
    "name": "ipython",
    "version": 3
   },
   "file_extension": ".py",
   "mimetype": "text/x-python",
   "name": "python",
   "nbconvert_exporter": "python",
   "pygments_lexer": "ipython3",
   "version": "3.6.4"
  }
 },
 "nbformat": 4,
 "nbformat_minor": 2
}
